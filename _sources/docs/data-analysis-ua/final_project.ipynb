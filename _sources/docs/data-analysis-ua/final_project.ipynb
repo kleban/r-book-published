{
 "cells": [
  {
   "cell_type": "markdown",
   "id": "0a552c29-22ef-406d-91ac-f50912eac30c",
   "metadata": {},
   "source": [
    "# Фінальний проєкт"
   ]
  },
  {
   "cell_type": "markdown",
   "id": "4af7a968-7239-4666-b1f3-a24ecafe50ea",
   "metadata": {},
   "source": [
    "![](../../_static/da-final-project/image.png)"
   ]
  },
  {
   "cell_type": "markdown",
   "id": "b56b7506-688b-4943-8893-82dc3c3fc74b",
   "metadata": {},
   "source": [
    "Фінальний проєкт з кусу \"Аналіз даних у R\" є екзаменаційною роботою, що дозволяє оцінити загальний рівень знань студента, а також його практичні навички зі збору, підготовки, обробки, аналізу даних, побудови та перевірки на точність простих математичних моделей."
   ]
  },
  {
   "cell_type": "markdown",
   "id": "1b7492e7-2404-4212-b435-269f06d20db8",
   "metadata": {},
   "source": [
    "Терміни виконання проєкту"
   ]
  },
  {
   "cell_type": "markdown",
   "id": "f966da61-fba2-4cac-a76d-e8d4b17ba0b5",
   "metadata": {},
   "source": [
    "---"
   ]
  },
  {
   "cell_type": "markdown",
   "id": "9c1b1ac3-7a60-4421-b82d-5d6bc3cb1247",
   "metadata": {},
   "source": [
    "## Перелік використаних матеріалів та джерел"
   ]
  },
  {
   "cell_type": "markdown",
   "id": "5fb03580-4c44-4051-a525-a0a554788d1f",
   "metadata": {},
   "source": [
    "1. ![https://www.pngwing.com/en/free-png-hjvsb](Big data Business analytics Data science Data analysis, data analysis, text, logo, computer Wallpaper png | PNGWing)"
   ]
  }
 ],
 "metadata": {
  "kernelspec": {
   "display_name": "R",
   "language": "R",
   "name": "ir"
  },
  "language_info": {
   "codemirror_mode": "r",
   "file_extension": ".r",
   "mimetype": "text/x-r-source",
   "name": "R",
   "pygments_lexer": "r",
   "version": "4.1.2"
  }
 },
 "nbformat": 4,
 "nbformat_minor": 5
}
