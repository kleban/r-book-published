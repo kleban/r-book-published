{
 "cells": [
  {
   "cell_type": "markdown",
   "metadata": {
    "cell_id": "e5cde04d81ef4f77b739f6cf4b089fba",
    "deepnote_cell_type": "text-cell-h1",
    "is_collapsed": false,
    "tags": []
   },
   "source": [
    "# 4. Підготовка та очистка даних у R"
   ]
  },
  {
   "cell_type": "markdown",
   "metadata": {},
   "source": [
    "Матеріали розділу описують інформацію про виміри оцінки якості даних, підходи до визначення та обробки пропущених значень, а також розглядаються способи боротьби зі статистичними викидами."
   ]
  },
  {
   "cell_type": "markdown",
   "metadata": {},
   "source": [
    "> _Примітка. Додати теоретичну інформацію про нормальний розподіл, квантилі, Q1, Q3, IQR..._"
   ]
  },
  {
   "cell_type": "markdown",
   "metadata": {},
   "source": [
    "---"
   ]
  },
  {
   "cell_type": "markdown",
   "metadata": {},
   "source": [
    "_До початку роботи варто інстралювати наступні пакети:_"
   ]
  },
  {
   "cell_type": "code",
   "execution_count": 45,
   "metadata": {},
   "outputs": [
    {
     "data": {
      "text/html": [
       "'LC_COLLATE=Ukrainian_Ukraine.1251;LC_CTYPE=Ukrainian_Ukraine.1251;LC_MONETARY=Ukrainian_Ukraine.1251;LC_NUMERIC=C;LC_TIME=Ukrainian_Ukraine.1251'"
      ],
      "text/latex": [
       "'LC\\_COLLATE=Ukrainian\\_Ukraine.1251;LC\\_CTYPE=Ukrainian\\_Ukraine.1251;LC\\_MONETARY=Ukrainian\\_Ukraine.1251;LC\\_NUMERIC=C;LC\\_TIME=Ukrainian\\_Ukraine.1251'"
      ],
      "text/markdown": [
       "'LC_COLLATE=Ukrainian_Ukraine.1251;LC_CTYPE=Ukrainian_Ukraine.1251;LC_MONETARY=Ukrainian_Ukraine.1251;LC_NUMERIC=C;LC_TIME=Ukrainian_Ukraine.1251'"
      ],
      "text/plain": [
       "[1] \"LC_COLLATE=Ukrainian_Ukraine.1251;LC_CTYPE=Ukrainian_Ukraine.1251;LC_MONETARY=Ukrainian_Ukraine.1251;LC_NUMERIC=C;LC_TIME=Ukrainian_Ukraine.1251\""
      ]
     },
     "metadata": {},
     "output_type": "display_data"
    }
   ],
   "source": [
    "# install.packages(\"dplyr\")\n",
    "# install.packages(\"janitor\")\n",
    "# install.packages(\"stringr\")\n",
    "# install.packages(\"stringdist\")\n",
    "# install.packages(\"mice\")\n",
    "# install.packages(\"VIM\")\n",
    "# install.packages(\"Amelia\")\n",
    "# install.packages(\"tidyr\")\n",
    "# install.packages(\"Hmisc\")\n",
    "options(warn=-1) # Налаштування для блокування вивеження warning-повідомлень\n",
    "Sys.setlocale(\"LC_ALL\", \"Ukrainian\") # Налаштування для української лікалізації jupyter-ноутбуків"
   ]
  },
  {
   "cell_type": "markdown",
   "metadata": {
    "cell_id": "144a849c2f5740618b740b87e2169d21",
    "deepnote_cell_height": 46,
    "deepnote_cell_type": "markdown",
    "tags": []
   },
   "source": [
    "---"
   ]
  },
  {
   "cell_type": "markdown",
   "metadata": {
    "tags": []
   },
   "source": [
    "## 1. Поняття та виміри оцінки якості даних <a class=\"anchor\" id=\"id1\"></a>"
   ]
  },
  {
   "cell_type": "markdown",
   "metadata": {
    "cell_id": "5bd187bd9ef94f12a395ed5732fae376",
    "deepnote_cell_height": 97.171875,
    "deepnote_cell_type": "markdown",
    "tags": []
   },
   "source": [
    "Якість даних залежить від очищення та коригування даних, які відсутні, некоректні, недійсні або нечитабельні. Для забезпечення достовірності даних важливо зрозуміти ключові аспекти якості даних, щоб оцінити, наскільки дані погані/хороші."
   ]
  },
  {
   "cell_type": "markdown",
   "metadata": {
    "cell_id": "19e55e18971e4bc78f9f81a32c374d57",
    "deepnote_cell_height": 111.171875,
    "deepnote_cell_type": "markdown",
    "tags": []
   },
   "source": [
    "**Що таке валідація даних?**\n",
    "\n",
    "Валідація даних відноситься до процесу забезпечення точності та якості даних. Він реалізується шляхом вбудовування кількох перевірок у систему або звітування для забезпечення логічної узгодженості введених і збережених даних."
   ]
  },
  {
   "cell_type": "markdown",
   "metadata": {
    "cell_id": "f2ef488bc6ec40f6b242e6d96ac2202e",
    "deepnote_cell_height": 97.171875,
    "deepnote_cell_type": "markdown",
    "tags": []
   },
   "source": [
    "На перший погляд, очевидно, що перетворення даних до якісних полягає в очищенні поганих даних – даних, які відсутні, неправильні або якимось чином недійсні. Але щоб переконатися, що дані заслуговують довіри, важливо розуміти ключові виміри якості даних, щоб оцінити, наскільки дані є «поганими»."
   ]
  },
  {
   "cell_type": "markdown",
   "metadata": {
    "cell_id": "08ade24efa324c3d98a12fbe560da19a",
    "deepnote_cell_height": 313.90625,
    "deepnote_cell_type": "markdown",
    "tags": []
   },
   "source": [
    "Окремі компанії мають внутрішні документи, що визначають виміри оцінки якості даних та порядок його проведення - `Data Validation Framework` або `Data Quality Framework`.\n",
    "\n",
    "Коли говорять про якість даних, то мається на увазі їх оцінка у кількох вимірах. Розглянемо коротко ці виміри:\n",
    "\n",
    "- [x] Правильність / `Accuracy`\n",
    "- [x] Повнота / `Completeness`\n",
    "- [x] Узгодженість / `Consistency`\n",
    "- [x] Відповідність / `Conformity`\n",
    "- [x] Цілісність / `Integrity`\n",
    "- [x] Своєчасність / `Timeliness`\n",
    "- [x] Унікальність / `Uniqueness`\n"
   ]
  },
  {
   "cell_type": "markdown",
   "metadata": {
    "cell_id": "9601bc07f5d2479fab665bb21e70a1bd",
    "deepnote_cell_height": 46,
    "deepnote_cell_type": "markdown",
    "tags": []
   },
   "source": [
    "---"
   ]
  },
  {
   "cell_type": "markdown",
   "metadata": {
    "cell_id": "b51c187d5c6b41d2b7674dcfeaa26583",
    "deepnote_cell_height": 377.90625,
    "deepnote_cell_type": "markdown",
    "tags": []
   },
   "source": [
    "### Правильність / (Accuracy)\n",
    "\n",
    "**Правильність** — це ступінь, до якого дані правильно відображають реальний об’єкт АБО описувану подію. \n",
    "\n",
    "Приклади:\n",
    "- [x] Реальною вартістю є ціна продажу одиниці товару.\n",
    "- [x] Адреса співробітника в `базі даних співробітників` є справжньою адресою.\n",
    "\n",
    "Запитання, які ви можете задати собі: \n",
    "\n",
    "- [x] Чи об’єкти даних точно представляють значення «реального світу», які вони повинні моделювати? _Наприклад, чи правильно вказувати вік у сотнях тисяч років?_\n",
    "- [x] Чи присутнє неправильне написання назв товарів чи осіб, адрес і навіть несвоєчасних чи неактуальних даних? \n",
    "\n",
    "Ці проблеми можуть вплинути на результатати аналітичних звітів, наприклад, неправильні середні значення певних показників."
   ]
  },
  {
   "cell_type": "markdown",
   "metadata": {
    "cell_id": "d679692467344e6e9ec92c766ac72a96",
    "deepnote_cell_height": 46,
    "deepnote_cell_type": "markdown",
    "tags": []
   },
   "source": [
    "---"
   ]
  },
  {
   "cell_type": "markdown",
   "metadata": {
    "cell_id": "f08ca939cb464024866f772a78f2293f",
    "deepnote_cell_height": 319.125,
    "deepnote_cell_type": "markdown",
    "tags": []
   },
   "source": [
    "### Повнота / (Completeness)\n",
    "\n",
    "Повнота визначається як очікувана всебічність. Дані можуть бути повними, навіть якщо додаткові дані відсутні. Поки дані відповідають очікуванням, вони вважаються повними.\n",
    "\n",
    "Наприклад, ім’я та прізвище замовника є обов'язковими, але прізвище необов’язково; тому запис можна вважати повним, навіть якщо прізвища не існує.\n",
    "\n",
    "Питання, які ви можете задати собі: \n",
    "\n",
    "- [x] Чи доступна вся необхідна інформація? \n",
    "- [x] Чи мають якісь дані відсутні елементи? \n",
    "- [x] Або вони перебувають у непридатному для роботи вигляді?\n"
   ]
  },
  {
   "cell_type": "markdown",
   "metadata": {
    "cell_id": "e1bac1f0a54f4764b20c2c46980b2f70",
    "deepnote_cell_height": 46,
    "deepnote_cell_type": "markdown",
    "tags": []
   },
   "source": [
    "---"
   ]
  },
  {
   "cell_type": "markdown",
   "metadata": {
    "cell_id": "22e706adf1dd43419d3d1e3864eb0ade",
    "deepnote_cell_height": 336.125,
    "deepnote_cell_type": "markdown",
    "tags": []
   },
   "source": [
    "### Узгодженість / Consistency\n",
    "\n",
    "**Узгодженість** означає, що дані в усіх системах/таблицях відображають однакову інформацію та синхронізовані між собою.  \n",
    "\n",
    "Приклади:\n",
    "- [x] Статус бізнес-підрозділу \"закритий\", але є продажі для цього підрозділу.\n",
    "- [x] Статус працівника \"звільнено\", але статус випалати заробіної плати містить суму відмінну від 0 за той самий період.\n",
    "- [x] Зафіксовано, що клієнт має у банку депозити, але у даних про депозити записи по клієнту відсутні.\n",
    "\n",
    "Запитання, які ви можете поставити собі: \n",
    "\n",
    "- [x] Чи однакові значення даних у наборах даних? \n",
    "- [x] Чи існують якісь різні випадки, коли однакові екземпляри даних надають суперечливу інформацію?"
   ]
  },
  {
   "cell_type": "markdown",
   "metadata": {
    "cell_id": "9530a1734488479ca642820fac551674",
    "deepnote_cell_height": 46,
    "deepnote_cell_type": "markdown",
    "tags": []
   },
   "source": [
    "---"
   ]
  },
  {
   "cell_type": "markdown",
   "metadata": {
    "cell_id": "dd7b37aa4fc742a8984171997182460b",
    "deepnote_cell_height": 257.34375,
    "deepnote_cell_type": "markdown",
    "tags": []
   },
   "source": [
    "### Відповідність / Conformity\n",
    "\n",
    "**Відповідність** означає, що дані відповідають набору стандартних визначень даних, як-от тип даних, розмір і формат. Наприклад, дата народження клієнта у форматі `dd/mm/yyyy` або відстань у км числом `100`, а не записом `100км`.\n",
    "\n",
    "Запитання, які ви можете задати собі: \n",
    "- [x] Чи відповідають значення даних зазначеним форматам? \n",
    "- [x] Якщо так, то чи всі значення даних відповідають цим форматам?\n",
    "\n",
    "Важливо підтримувати відповідність конкретним форматам."
   ]
  },
  {
   "cell_type": "markdown",
   "metadata": {
    "cell_id": "d0c4cca95bf6439981778c13f8d64fb1",
    "deepnote_cell_height": 46,
    "deepnote_cell_type": "markdown",
    "tags": []
   },
   "source": [
    "---"
   ]
  },
  {
   "cell_type": "markdown",
   "metadata": {
    "cell_id": "976ecfff028b441da11aaa81535f5add",
    "deepnote_cell_height": 290.734375,
    "deepnote_cell_type": "markdown",
    "tags": []
   },
   "source": [
    "### Цілісність / Integrity\n",
    "\n",
    "**Цілісність** означає достовірність даних у взаємозв’язках і гарантує, що всі дані в базі даних можна відстежити та з’єднати з іншими даними.\n",
    "\n",
    "Наприклад, у базі даних клієнтів має бути дійсний клієнт, адреси та відношення/зв'язки між ними. Якщо є дані про зв’язок адреси без клієнта, то ці дані недійсні й вважаються загубленим записом.\n",
    "\n",
    "Запитайте себе: \n",
    "- [x] Чи є якісь дані без важливих зв’язків?\n",
    "\n",
    "Неможливість пов’язати записи разом може призвести до дублювання у ваших системах."
   ]
  },
  {
   "cell_type": "markdown",
   "metadata": {
    "cell_id": "29300cda7cdf4a03a39f9828d8918bea",
    "deepnote_cell_height": 46,
    "deepnote_cell_type": "markdown",
    "tags": []
   },
   "source": [
    "---"
   ]
  },
  {
   "cell_type": "markdown",
   "metadata": {
    "cell_id": "ccd98fbc4b5e4b85a08b2610439199e3",
    "deepnote_cell_height": 341.515625,
    "deepnote_cell_type": "markdown",
    "tags": []
   },
   "source": [
    "### Своєчасність / Timeliness\n",
    "\n",
    "**Своєчасність** показує, чи є інформація доступною, коли вона очікується та потрібна. Своєчасність даних дуже важлива. \n",
    "\n",
    "Це відображається в:\n",
    "- [x] Компанії, які зобов’язані публікувати свої квартальні результати протягом певного періоду часу\n",
    "- [x] Обслуговування клієнтів надає клієнтам актуальну інформацію\n",
    "- [x] Кредитна система перевіряє активність рахунку кредитної картки в режимі реального часу\n",
    "\n",
    "Своєчасність залежить від очікувань користувача. Доступність даних в Інтернеті може знадобитися для системи розподілу номерів у сфері готельного бізнесу.\n",
    "\n",
    "Як бачите, якість даних є важливим питанням, яке слід враховувати, починаючи від етапу визначення цілей проекту, аж до впровадження, обслуговування та використання готово рішення у виробничі процесі підприємства."
   ]
  },
  {
   "cell_type": "markdown",
   "metadata": {
    "cell_id": "99f0b90e22a545e98d2f4da662d4d3ef",
    "deepnote_cell_height": 46,
    "deepnote_cell_type": "markdown",
    "tags": []
   },
   "source": [
    "---"
   ]
  },
  {
   "cell_type": "markdown",
   "metadata": {
    "cell_id": "dc5a69dc35bd4b36a183e5f00d181800",
    "deepnote_cell_height": 70,
    "deepnote_cell_type": "markdown",
    "tags": []
   },
   "source": [
    "## 2. Робота з неіменованими та \"поганоіменованими\" даними"
   ]
  },
  {
   "cell_type": "markdown",
   "metadata": {
    "jp-MarkdownHeadingCollapsed": true,
    "tags": []
   },
   "source": [
    "### 2.1. Іменування даних <a class=\"anchor\" id=\"id21\"></a>"
   ]
  },
  {
   "cell_type": "markdown",
   "metadata": {
    "cell_id": "3748bb7299b24048800999fd31a1f303",
    "deepnote_cell_height": 249.15625,
    "deepnote_cell_type": "markdown",
    "tags": []
   },
   "source": [
    "Першим прикладом проблем у даних можна розгянути читання неіменованих даних, тобто стопці таблиці не мають заголовків у файлі.\n",
    "\n",
    "Створимо такий файл у блокноті і зчитаємо його:"
   ]
  },
  {
   "cell_type": "code",
   "execution_count": 46,
   "metadata": {
    "cell_id": "ba629ad1cff343a899fe45ae07c40b8d",
    "deepnote_cell_height": 99,
    "deepnote_cell_type": "code",
    "deepnote_output_heights": [
     null,
     219
    ],
    "deepnote_to_be_reexecuted": false,
    "execution_millis": 75,
    "execution_start": 1650389176553,
    "output_cleared": true,
    "source_hash": "af0c3da",
    "tags": [],
    "vscode": {
     "languageId": "r"
    }
   },
   "outputs": [
    {
     "data": {
      "text/html": [
       "<table class=\"dataframe\">\n",
       "<caption>A data.frame: 5 × 4</caption>\n",
       "<thead>\n",
       "\t<tr><th scope=col>X23</th><th scope=col>X185</th><th scope=col>X85.7</th><th scope=col>Male</th></tr>\n",
       "\t<tr><th scope=col>&lt;int&gt;</th><th scope=col>&lt;chr&gt;</th><th scope=col>&lt;dbl&gt;</th><th scope=col>&lt;chr&gt;</th></tr>\n",
       "</thead>\n",
       "<tbody>\n",
       "\t<tr><td>41</td><td>175 </td><td>68.3</td><td>M               </td></tr>\n",
       "\t<tr><td>11</td><td>142*</td><td>55.4</td><td>Female          </td></tr>\n",
       "\t<tr><td>12</td><td>NA  </td><td>48.2</td><td>Man             </td></tr>\n",
       "\t<tr><td>54</td><td>171 </td><td>  NA</td><td>Looks like a man</td></tr>\n",
       "\t<tr><td>32</td><td>168 </td><td>78.0</td><td>F               </td></tr>\n",
       "</tbody>\n",
       "</table>\n"
      ],
      "text/latex": [
       "A data.frame: 5 × 4\n",
       "\\begin{tabular}{llll}\n",
       " X23 & X185 & X85.7 & Male\\\\\n",
       " <int> & <chr> & <dbl> & <chr>\\\\\n",
       "\\hline\n",
       "\t 41 & 175  & 68.3 & M               \\\\\n",
       "\t 11 & 142* & 55.4 & Female          \\\\\n",
       "\t 12 & NA   & 48.2 & Man             \\\\\n",
       "\t 54 & 171  &   NA & Looks like a man\\\\\n",
       "\t 32 & 168  & 78.0 & F               \\\\\n",
       "\\end{tabular}\n"
      ],
      "text/markdown": [
       "\n",
       "A data.frame: 5 × 4\n",
       "\n",
       "| X23 &lt;int&gt; | X185 &lt;chr&gt; | X85.7 &lt;dbl&gt; | Male &lt;chr&gt; |\n",
       "|---|---|---|---|\n",
       "| 41 | 175  | 68.3 | M                |\n",
       "| 11 | 142* | 55.4 | Female           |\n",
       "| 12 | NA   | 48.2 | Man              |\n",
       "| 54 | 171  |   NA | Looks like a man |\n",
       "| 32 | 168  | 78.0 | F                |\n",
       "\n"
      ],
      "text/plain": [
       "  X23 X185 X85.7 Male            \n",
       "1 41  175  68.3  M               \n",
       "2 11  142* 55.4  Female          \n",
       "3 12  NA   48.2  Man             \n",
       "4 54  171    NA  Looks like a man\n",
       "5 32  168  78.0  F               "
      ]
     },
     "metadata": {},
     "output_type": "display_data"
    }
   ],
   "source": [
    "data <- read.csv(\"../../data/untitled.csv\")\n",
    "data"
   ]
  },
  {
   "cell_type": "markdown",
   "metadata": {
    "cell_id": "1646cda6ee244f21aea0672abb28a312",
    "deepnote_cell_height": 74.78125,
    "deepnote_cell_type": "markdown",
    "tags": []
   },
   "source": [
    "Зверніть увагу, що у якості стовпців взято перший рядок даних у додано `X` на початку. Зчитаємо дані із параметром, що вказує на відсутність заголовків:"
   ]
  },
  {
   "cell_type": "code",
   "execution_count": 47,
   "metadata": {
    "cell_id": "071784be9f9e4507b487a1ebd15ed904",
    "deepnote_cell_height": 429.375,
    "deepnote_cell_type": "code",
    "deepnote_output_heights": [
     null,
     248
    ],
    "deepnote_to_be_reexecuted": false,
    "execution_millis": 33,
    "execution_start": 1650389318247,
    "owner_user_id": "e217be60-8088-4d01-8fcf-08f2a3d75b6d",
    "source_hash": "d1f77be1",
    "tags": [],
    "vscode": {
     "languageId": "r"
    }
   },
   "outputs": [
    {
     "data": {
      "text/html": [
       "<table class=\"dataframe\">\n",
       "<caption>A data.frame: 6 × 4</caption>\n",
       "<thead>\n",
       "\t<tr><th scope=col>V1</th><th scope=col>V2</th><th scope=col>V3</th><th scope=col>V4</th></tr>\n",
       "\t<tr><th scope=col>&lt;int&gt;</th><th scope=col>&lt;chr&gt;</th><th scope=col>&lt;dbl&gt;</th><th scope=col>&lt;chr&gt;</th></tr>\n",
       "</thead>\n",
       "<tbody>\n",
       "\t<tr><td>23</td><td>185 </td><td>85.7</td><td>Male            </td></tr>\n",
       "\t<tr><td>41</td><td>175 </td><td>68.3</td><td>M               </td></tr>\n",
       "\t<tr><td>11</td><td>142*</td><td>55.4</td><td>Female          </td></tr>\n",
       "\t<tr><td>12</td><td>NA  </td><td>48.2</td><td>Man             </td></tr>\n",
       "\t<tr><td>54</td><td>171 </td><td>  NA</td><td>Looks like a man</td></tr>\n",
       "\t<tr><td>32</td><td>168 </td><td>78.0</td><td>F               </td></tr>\n",
       "</tbody>\n",
       "</table>\n"
      ],
      "text/latex": [
       "A data.frame: 6 × 4\n",
       "\\begin{tabular}{llll}\n",
       " V1 & V2 & V3 & V4\\\\\n",
       " <int> & <chr> & <dbl> & <chr>\\\\\n",
       "\\hline\n",
       "\t 23 & 185  & 85.7 & Male            \\\\\n",
       "\t 41 & 175  & 68.3 & M               \\\\\n",
       "\t 11 & 142* & 55.4 & Female          \\\\\n",
       "\t 12 & NA   & 48.2 & Man             \\\\\n",
       "\t 54 & 171  &   NA & Looks like a man\\\\\n",
       "\t 32 & 168  & 78.0 & F               \\\\\n",
       "\\end{tabular}\n"
      ],
      "text/markdown": [
       "\n",
       "A data.frame: 6 × 4\n",
       "\n",
       "| V1 &lt;int&gt; | V2 &lt;chr&gt; | V3 &lt;dbl&gt; | V4 &lt;chr&gt; |\n",
       "|---|---|---|---|\n",
       "| 23 | 185  | 85.7 | Male             |\n",
       "| 41 | 175  | 68.3 | M                |\n",
       "| 11 | 142* | 55.4 | Female           |\n",
       "| 12 | NA   | 48.2 | Man              |\n",
       "| 54 | 171  |   NA | Looks like a man |\n",
       "| 32 | 168  | 78.0 | F                |\n",
       "\n"
      ],
      "text/plain": [
       "  V1 V2   V3   V4              \n",
       "1 23 185  85.7 Male            \n",
       "2 41 175  68.3 M               \n",
       "3 11 142* 55.4 Female          \n",
       "4 12 NA   48.2 Man             \n",
       "5 54 171    NA Looks like a man\n",
       "6 32 168  78.0 F               "
      ]
     },
     "metadata": {},
     "output_type": "display_data"
    }
   ],
   "source": [
    "data <- read.csv(\"../../data/untitled.csv\", header = FALSE)\n",
    "data"
   ]
  },
  {
   "cell_type": "markdown",
   "metadata": {
    "cell_id": "72e9b920f1334b8b9f44571d538f0b50",
    "deepnote_cell_height": 74.78125,
    "deepnote_cell_type": "markdown",
    "tags": []
   },
   "source": [
    "Проблема іменування не вирішена, дані ми уже не втратили. Передамо одночасно з читанням інформацію про назви стовпців:"
   ]
  },
  {
   "cell_type": "code",
   "execution_count": 48,
   "metadata": {
    "cell_id": "b2f2910a77ec4776aa7d881a36d74863",
    "deepnote_cell_height": 465.375,
    "deepnote_cell_type": "code",
    "deepnote_output_heights": [
     null,
     248
    ],
    "deepnote_to_be_reexecuted": false,
    "execution_millis": 33,
    "execution_start": 1650389438672,
    "source_hash": "cba21c26",
    "tags": [],
    "vscode": {
     "languageId": "r"
    }
   },
   "outputs": [
    {
     "data": {
      "text/html": [
       "<table class=\"dataframe\">\n",
       "<caption>A data.frame: 6 × 4</caption>\n",
       "<thead>\n",
       "\t<tr><th scope=col>Age</th><th scope=col>Height</th><th scope=col>Weight</th><th scope=col>Gender</th></tr>\n",
       "\t<tr><th scope=col>&lt;int&gt;</th><th scope=col>&lt;chr&gt;</th><th scope=col>&lt;dbl&gt;</th><th scope=col>&lt;chr&gt;</th></tr>\n",
       "</thead>\n",
       "<tbody>\n",
       "\t<tr><td>23</td><td>185 </td><td>85.7</td><td>Male            </td></tr>\n",
       "\t<tr><td>41</td><td>175 </td><td>68.3</td><td>M               </td></tr>\n",
       "\t<tr><td>11</td><td>142*</td><td>55.4</td><td>Female          </td></tr>\n",
       "\t<tr><td>12</td><td>NA  </td><td>48.2</td><td>Man             </td></tr>\n",
       "\t<tr><td>54</td><td>171 </td><td>  NA</td><td>Looks like a man</td></tr>\n",
       "\t<tr><td>32</td><td>168 </td><td>78.0</td><td>F               </td></tr>\n",
       "</tbody>\n",
       "</table>\n"
      ],
      "text/latex": [
       "A data.frame: 6 × 4\n",
       "\\begin{tabular}{llll}\n",
       " Age & Height & Weight & Gender\\\\\n",
       " <int> & <chr> & <dbl> & <chr>\\\\\n",
       "\\hline\n",
       "\t 23 & 185  & 85.7 & Male            \\\\\n",
       "\t 41 & 175  & 68.3 & M               \\\\\n",
       "\t 11 & 142* & 55.4 & Female          \\\\\n",
       "\t 12 & NA   & 48.2 & Man             \\\\\n",
       "\t 54 & 171  &   NA & Looks like a man\\\\\n",
       "\t 32 & 168  & 78.0 & F               \\\\\n",
       "\\end{tabular}\n"
      ],
      "text/markdown": [
       "\n",
       "A data.frame: 6 × 4\n",
       "\n",
       "| Age &lt;int&gt; | Height &lt;chr&gt; | Weight &lt;dbl&gt; | Gender &lt;chr&gt; |\n",
       "|---|---|---|---|\n",
       "| 23 | 185  | 85.7 | Male             |\n",
       "| 41 | 175  | 68.3 | M                |\n",
       "| 11 | 142* | 55.4 | Female           |\n",
       "| 12 | NA   | 48.2 | Man              |\n",
       "| 54 | 171  |   NA | Looks like a man |\n",
       "| 32 | 168  | 78.0 | F                |\n",
       "\n"
      ],
      "text/plain": [
       "  Age Height Weight Gender          \n",
       "1 23  185    85.7   Male            \n",
       "2 41  175    68.3   M               \n",
       "3 11  142*   55.4   Female          \n",
       "4 12  NA     48.2   Man             \n",
       "5 54  171      NA   Looks like a man\n",
       "6 32  168    78.0   F               "
      ]
     },
     "metadata": {},
     "output_type": "display_data"
    }
   ],
   "source": [
    "data <- read.csv(\"../../data/untitled.csv\", \n",
    "            header = FALSE,\n",
    "            col.names = c(\"Age\",\"Height\", \"Weight\", \"Gender\"))\n",
    "data"
   ]
  },
  {
   "cell_type": "markdown",
   "metadata": {
    "cell_id": "7cab4727da4d4e8aa92af2b45669e9e8",
    "deepnote_cell_height": 52.390625,
    "deepnote_cell_type": "markdown",
    "tags": []
   },
   "source": [
    "Ще одним варіантом задання назв стовпців є використання функції `colnames()` як для усіх різом, так і для окремого:"
   ]
  },
  {
   "cell_type": "code",
   "execution_count": 49,
   "metadata": {
    "cell_id": "ec3c8040f0dd44b38271c5b8dc30edfc",
    "deepnote_cell_height": 678,
    "deepnote_cell_type": "code",
    "deepnote_output_heights": [
     248,
     248
    ],
    "deepnote_to_be_reexecuted": false,
    "execution_millis": 57,
    "execution_start": 1650389604515,
    "source_hash": "d1a601e",
    "tags": [],
    "vscode": {
     "languageId": "r"
    }
   },
   "outputs": [
    {
     "data": {
      "text/html": [
       "<table class=\"dataframe\">\n",
       "<caption>A data.frame: 6 × 4</caption>\n",
       "<thead>\n",
       "\t<tr><th scope=col>age</th><th scope=col>height</th><th scope=col>width</th><th scope=col>gender</th></tr>\n",
       "\t<tr><th scope=col>&lt;int&gt;</th><th scope=col>&lt;chr&gt;</th><th scope=col>&lt;dbl&gt;</th><th scope=col>&lt;chr&gt;</th></tr>\n",
       "</thead>\n",
       "<tbody>\n",
       "\t<tr><td>23</td><td>185 </td><td>85.7</td><td>Male            </td></tr>\n",
       "\t<tr><td>41</td><td>175 </td><td>68.3</td><td>M               </td></tr>\n",
       "\t<tr><td>11</td><td>142*</td><td>55.4</td><td>Female          </td></tr>\n",
       "\t<tr><td>12</td><td>NA  </td><td>48.2</td><td>Man             </td></tr>\n",
       "\t<tr><td>54</td><td>171 </td><td>  NA</td><td>Looks like a man</td></tr>\n",
       "\t<tr><td>32</td><td>168 </td><td>78.0</td><td>F               </td></tr>\n",
       "</tbody>\n",
       "</table>\n"
      ],
      "text/latex": [
       "A data.frame: 6 × 4\n",
       "\\begin{tabular}{llll}\n",
       " age & height & width & gender\\\\\n",
       " <int> & <chr> & <dbl> & <chr>\\\\\n",
       "\\hline\n",
       "\t 23 & 185  & 85.7 & Male            \\\\\n",
       "\t 41 & 175  & 68.3 & M               \\\\\n",
       "\t 11 & 142* & 55.4 & Female          \\\\\n",
       "\t 12 & NA   & 48.2 & Man             \\\\\n",
       "\t 54 & 171  &   NA & Looks like a man\\\\\n",
       "\t 32 & 168  & 78.0 & F               \\\\\n",
       "\\end{tabular}\n"
      ],
      "text/markdown": [
       "\n",
       "A data.frame: 6 × 4\n",
       "\n",
       "| age &lt;int&gt; | height &lt;chr&gt; | width &lt;dbl&gt; | gender &lt;chr&gt; |\n",
       "|---|---|---|---|\n",
       "| 23 | 185  | 85.7 | Male             |\n",
       "| 41 | 175  | 68.3 | M                |\n",
       "| 11 | 142* | 55.4 | Female           |\n",
       "| 12 | NA   | 48.2 | Man              |\n",
       "| 54 | 171  |   NA | Looks like a man |\n",
       "| 32 | 168  | 78.0 | F                |\n",
       "\n"
      ],
      "text/plain": [
       "  age height width gender          \n",
       "1 23  185    85.7  Male            \n",
       "2 41  175    68.3  M               \n",
       "3 11  142*   55.4  Female          \n",
       "4 12  NA     48.2  Man             \n",
       "5 54  171      NA  Looks like a man\n",
       "6 32  168    78.0  F               "
      ]
     },
     "metadata": {},
     "output_type": "display_data"
    },
    {
     "data": {
      "text/html": [
       "<table class=\"dataframe\">\n",
       "<caption>A data.frame: 6 × 4</caption>\n",
       "<thead>\n",
       "\t<tr><th scope=col>age</th><th scope=col>HEIGHT</th><th scope=col>width</th><th scope=col>gender</th></tr>\n",
       "\t<tr><th scope=col>&lt;int&gt;</th><th scope=col>&lt;chr&gt;</th><th scope=col>&lt;dbl&gt;</th><th scope=col>&lt;chr&gt;</th></tr>\n",
       "</thead>\n",
       "<tbody>\n",
       "\t<tr><td>23</td><td>185 </td><td>85.7</td><td>Male            </td></tr>\n",
       "\t<tr><td>41</td><td>175 </td><td>68.3</td><td>M               </td></tr>\n",
       "\t<tr><td>11</td><td>142*</td><td>55.4</td><td>Female          </td></tr>\n",
       "\t<tr><td>12</td><td>NA  </td><td>48.2</td><td>Man             </td></tr>\n",
       "\t<tr><td>54</td><td>171 </td><td>  NA</td><td>Looks like a man</td></tr>\n",
       "\t<tr><td>32</td><td>168 </td><td>78.0</td><td>F               </td></tr>\n",
       "</tbody>\n",
       "</table>\n"
      ],
      "text/latex": [
       "A data.frame: 6 × 4\n",
       "\\begin{tabular}{llll}\n",
       " age & HEIGHT & width & gender\\\\\n",
       " <int> & <chr> & <dbl> & <chr>\\\\\n",
       "\\hline\n",
       "\t 23 & 185  & 85.7 & Male            \\\\\n",
       "\t 41 & 175  & 68.3 & M               \\\\\n",
       "\t 11 & 142* & 55.4 & Female          \\\\\n",
       "\t 12 & NA   & 48.2 & Man             \\\\\n",
       "\t 54 & 171  &   NA & Looks like a man\\\\\n",
       "\t 32 & 168  & 78.0 & F               \\\\\n",
       "\\end{tabular}\n"
      ],
      "text/markdown": [
       "\n",
       "A data.frame: 6 × 4\n",
       "\n",
       "| age &lt;int&gt; | HEIGHT &lt;chr&gt; | width &lt;dbl&gt; | gender &lt;chr&gt; |\n",
       "|---|---|---|---|\n",
       "| 23 | 185  | 85.7 | Male             |\n",
       "| 41 | 175  | 68.3 | M                |\n",
       "| 11 | 142* | 55.4 | Female           |\n",
       "| 12 | NA   | 48.2 | Man              |\n",
       "| 54 | 171  |   NA | Looks like a man |\n",
       "| 32 | 168  | 78.0 | F                |\n",
       "\n"
      ],
      "text/plain": [
       "  age HEIGHT width gender          \n",
       "1 23  185    85.7  Male            \n",
       "2 41  175    68.3  M               \n",
       "3 11  142*   55.4  Female          \n",
       "4 12  NA     48.2  Man             \n",
       "5 54  171      NA  Looks like a man\n",
       "6 32  168    78.0  F               "
      ]
     },
     "metadata": {},
     "output_type": "display_data"
    }
   ],
   "source": [
    "colnames(data) <- c(\"age\", \"height\", \"width\", \"gender\")\n",
    "data\n",
    "colnames(data)[2] <- \"HEIGHT\"\n",
    "data"
   ]
  },
  {
   "cell_type": "markdown",
   "metadata": {
    "cell_id": "d4ee40db447f436d97e950579930dfae",
    "deepnote_cell_height": 52.390625,
    "deepnote_cell_type": "markdown",
    "tags": []
   },
   "source": [
    "Також змінювати назви стовпців можна за допомогою функції `rename()` з пакету `dplyr`:"
   ]
  },
  {
   "cell_type": "code",
   "execution_count": 50,
   "metadata": {
    "cell_id": "1c9ee90a85f24140a0a2b08f2e5d4f6d",
    "deepnote_cell_height": 927.4375,
    "deepnote_cell_type": "code",
    "deepnote_output_heights": [
     443.3125,
     40.375
    ],
    "deepnote_to_be_reexecuted": true,
    "execution_millis": 293,
    "execution_start": 1650393120222,
    "source_hash": "dcf4aa68",
    "tags": [],
    "vscode": {
     "languageId": "r"
    }
   },
   "outputs": [
    {
     "data": {
      "text/html": [
       "<table class=\"dataframe\">\n",
       "<caption>A data.frame: 6 × 4</caption>\n",
       "<thead>\n",
       "\t<tr><th scope=col>AGE</th><th scope=col>HEIGHT</th><th scope=col>width</th><th scope=col>gender</th></tr>\n",
       "\t<tr><th scope=col>&lt;int&gt;</th><th scope=col>&lt;chr&gt;</th><th scope=col>&lt;dbl&gt;</th><th scope=col>&lt;chr&gt;</th></tr>\n",
       "</thead>\n",
       "<tbody>\n",
       "\t<tr><td>23</td><td>185 </td><td>85.7</td><td>Male            </td></tr>\n",
       "\t<tr><td>41</td><td>175 </td><td>68.3</td><td>M               </td></tr>\n",
       "\t<tr><td>11</td><td>142*</td><td>55.4</td><td>Female          </td></tr>\n",
       "\t<tr><td>12</td><td>NA  </td><td>48.2</td><td>Man             </td></tr>\n",
       "\t<tr><td>54</td><td>171 </td><td>  NA</td><td>Looks like a man</td></tr>\n",
       "\t<tr><td>32</td><td>168 </td><td>78.0</td><td>F               </td></tr>\n",
       "</tbody>\n",
       "</table>\n"
      ],
      "text/latex": [
       "A data.frame: 6 × 4\n",
       "\\begin{tabular}{llll}\n",
       " AGE & HEIGHT & width & gender\\\\\n",
       " <int> & <chr> & <dbl> & <chr>\\\\\n",
       "\\hline\n",
       "\t 23 & 185  & 85.7 & Male            \\\\\n",
       "\t 41 & 175  & 68.3 & M               \\\\\n",
       "\t 11 & 142* & 55.4 & Female          \\\\\n",
       "\t 12 & NA   & 48.2 & Man             \\\\\n",
       "\t 54 & 171  &   NA & Looks like a man\\\\\n",
       "\t 32 & 168  & 78.0 & F               \\\\\n",
       "\\end{tabular}\n"
      ],
      "text/markdown": [
       "\n",
       "A data.frame: 6 × 4\n",
       "\n",
       "| AGE &lt;int&gt; | HEIGHT &lt;chr&gt; | width &lt;dbl&gt; | gender &lt;chr&gt; |\n",
       "|---|---|---|---|\n",
       "| 23 | 185  | 85.7 | Male             |\n",
       "| 41 | 175  | 68.3 | M                |\n",
       "| 11 | 142* | 55.4 | Female           |\n",
       "| 12 | NA   | 48.2 | Man              |\n",
       "| 54 | 171  |   NA | Looks like a man |\n",
       "| 32 | 168  | 78.0 | F                |\n",
       "\n"
      ],
      "text/plain": [
       "  AGE HEIGHT width gender          \n",
       "1 23  185    85.7  Male            \n",
       "2 41  175    68.3  M               \n",
       "3 11  142*   55.4  Female          \n",
       "4 12  NA     48.2  Man             \n",
       "5 54  171      NA  Looks like a man\n",
       "6 32  168    78.0  F               "
      ]
     },
     "metadata": {},
     "output_type": "display_data"
    }
   ],
   "source": [
    "library(dplyr)\n",
    "\n",
    "data <- data |> rename(AGE = age) # %>%\n",
    "data"
   ]
  },
  {
   "cell_type": "markdown",
   "metadata": {},
   "source": [
    "---"
   ]
  },
  {
   "cell_type": "markdown",
   "metadata": {
    "jp-MarkdownHeadingCollapsed": true,
    "tags": []
   },
   "source": [
    "### 2.2. Заміна назв стовпців data.frame <a class=\"anchor\" id=\"id22\">"
   ]
  },
  {
   "cell_type": "markdown",
   "metadata": {},
   "source": [
    "Зчитаємо файл, що містить інформацію про осіб, але уже має іменовані стовтці: "
   ]
  },
  {
   "cell_type": "code",
   "execution_count": 51,
   "metadata": {
    "cell_id": "42a2ae637a1444e2b072683d12de972a",
    "deepnote_cell_height": 66,
    "deepnote_cell_type": "code",
    "tags": [],
    "vscode": {
     "languageId": "r"
    }
   },
   "outputs": [
    {
     "data": {
      "text/html": [
       "<table class=\"dataframe\">\n",
       "<caption>A data.frame: 13 × 5</caption>\n",
       "<thead>\n",
       "\t<tr><th scope=col>Person.Age</th><th scope=col>Person__Height</th><th scope=col>person.Weight</th><th scope=col>Person.Gender</th><th scope=col>empty</th></tr>\n",
       "\t<tr><th scope=col>&lt;int&gt;</th><th scope=col>&lt;chr&gt;</th><th scope=col>&lt;dbl&gt;</th><th scope=col>&lt;chr&gt;</th><th scope=col>&lt;lgl&gt;</th></tr>\n",
       "</thead>\n",
       "<tbody>\n",
       "\t<tr><td>23</td><td>185 </td><td>  NA</td><td>Male  </td><td>NA</td></tr>\n",
       "\t<tr><td>41</td><td>175 </td><td>68.3</td><td>   M  </td><td>NA</td></tr>\n",
       "\t<tr><td>11</td><td>142*</td><td>55.4</td><td>Female</td><td>NA</td></tr>\n",
       "\t<tr><td>12</td><td>NA  </td><td>48.2</td><td>Man   </td><td>NA</td></tr>\n",
       "\t<tr><td>54</td><td>191 </td><td>  NA</td><td>female</td><td>NA</td></tr>\n",
       "\t<tr><td>32</td><td>168 </td><td>78.0</td><td>F     </td><td>NA</td></tr>\n",
       "\t<tr><td>22</td><td>NA  </td><td>54.0</td><td>male. </td><td>NA</td></tr>\n",
       "\t<tr><td>21</td><td>165 </td><td>  NA</td><td>m     </td><td>NA</td></tr>\n",
       "\t<tr><td>14</td><td>NA  </td><td>90.2</td><td>Man   </td><td>NA</td></tr>\n",
       "\t<tr><td>51</td><td>250 </td><td>  NA</td><td>female</td><td>NA</td></tr>\n",
       "\t<tr><td>41</td><td>20  </td><td>81.0</td><td>F     </td><td>NA</td></tr>\n",
       "\t<tr><td>66</td><td>NA  </td><td>59.0</td><td>male. </td><td>NA</td></tr>\n",
       "\t<tr><td>71</td><td>171 </td><td>  NA</td><td>m     </td><td>NA</td></tr>\n",
       "</tbody>\n",
       "</table>\n"
      ],
      "text/latex": [
       "A data.frame: 13 × 5\n",
       "\\begin{tabular}{lllll}\n",
       " Person.Age & Person\\_\\_Height & person.Weight & Person.Gender & empty\\\\\n",
       " <int> & <chr> & <dbl> & <chr> & <lgl>\\\\\n",
       "\\hline\n",
       "\t 23 & 185  &   NA & Male   & NA\\\\\n",
       "\t 41 & 175  & 68.3 &    M   & NA\\\\\n",
       "\t 11 & 142* & 55.4 & Female & NA\\\\\n",
       "\t 12 & NA   & 48.2 & Man    & NA\\\\\n",
       "\t 54 & 191  &   NA & female & NA\\\\\n",
       "\t 32 & 168  & 78.0 & F      & NA\\\\\n",
       "\t 22 & NA   & 54.0 & male.  & NA\\\\\n",
       "\t 21 & 165  &   NA & m      & NA\\\\\n",
       "\t 14 & NA   & 90.2 & Man    & NA\\\\\n",
       "\t 51 & 250  &   NA & female & NA\\\\\n",
       "\t 41 & 20   & 81.0 & F      & NA\\\\\n",
       "\t 66 & NA   & 59.0 & male.  & NA\\\\\n",
       "\t 71 & 171  &   NA & m      & NA\\\\\n",
       "\\end{tabular}\n"
      ],
      "text/markdown": [
       "\n",
       "A data.frame: 13 × 5\n",
       "\n",
       "| Person.Age &lt;int&gt; | Person__Height &lt;chr&gt; | person.Weight &lt;dbl&gt; | Person.Gender &lt;chr&gt; | empty &lt;lgl&gt; |\n",
       "|---|---|---|---|---|\n",
       "| 23 | 185  |   NA | Male   | NA |\n",
       "| 41 | 175  | 68.3 |    M   | NA |\n",
       "| 11 | 142* | 55.4 | Female | NA |\n",
       "| 12 | NA   | 48.2 | Man    | NA |\n",
       "| 54 | 191  |   NA | female | NA |\n",
       "| 32 | 168  | 78.0 | F      | NA |\n",
       "| 22 | NA   | 54.0 | male.  | NA |\n",
       "| 21 | 165  |   NA | m      | NA |\n",
       "| 14 | NA   | 90.2 | Man    | NA |\n",
       "| 51 | 250  |   NA | female | NA |\n",
       "| 41 | 20   | 81.0 | F      | NA |\n",
       "| 66 | NA   | 59.0 | male.  | NA |\n",
       "| 71 | 171  |   NA | m      | NA |\n",
       "\n"
      ],
      "text/plain": [
       "   Person.Age Person__Height person.Weight Person.Gender empty\n",
       "1  23         185              NA          Male          NA   \n",
       "2  41         175            68.3             M          NA   \n",
       "3  11         142*           55.4          Female        NA   \n",
       "4  12         NA             48.2          Man           NA   \n",
       "5  54         191              NA          female        NA   \n",
       "6  32         168            78.0          F             NA   \n",
       "7  22         NA             54.0          male.         NA   \n",
       "8  21         165              NA          m             NA   \n",
       "9  14         NA             90.2          Man           NA   \n",
       "10 51         250              NA          female        NA   \n",
       "11 41         20             81.0          F             NA   \n",
       "12 66         NA             59.0          male.         NA   \n",
       "13 71         171              NA          m             NA   "
      ]
     },
     "metadata": {},
     "output_type": "display_data"
    }
   ],
   "source": [
    "data <- read.csv(\"../../data/badtitled.csv\")\n",
    "data"
   ]
  },
  {
   "cell_type": "markdown",
   "metadata": {},
   "source": [
    "Швидко змінити назви стовпців та привести їх до однакового стилю можна за домогою бібліотеки `janitor`:"
   ]
  },
  {
   "cell_type": "code",
   "execution_count": 52,
   "metadata": {},
   "outputs": [
    {
     "data": {
      "text/html": [
       "<style>\n",
       ".list-inline {list-style: none; margin:0; padding: 0}\n",
       ".list-inline>li {display: inline-block}\n",
       ".list-inline>li:not(:last-child)::after {content: \"\\00b7\"; padding: 0 .5ex}\n",
       "</style>\n",
       "<ol class=list-inline><li>'person_age'</li><li>'person_height'</li><li>'person_weight'</li><li>'person_gender'</li><li>'empty'</li></ol>\n"
      ],
      "text/latex": [
       "\\begin{enumerate*}\n",
       "\\item 'person\\_age'\n",
       "\\item 'person\\_height'\n",
       "\\item 'person\\_weight'\n",
       "\\item 'person\\_gender'\n",
       "\\item 'empty'\n",
       "\\end{enumerate*}\n"
      ],
      "text/markdown": [
       "1. 'person_age'\n",
       "2. 'person_height'\n",
       "3. 'person_weight'\n",
       "4. 'person_gender'\n",
       "5. 'empty'\n",
       "\n",
       "\n"
      ],
      "text/plain": [
       "[1] \"person_age\"    \"person_height\" \"person_weight\" \"person_gender\"\n",
       "[5] \"empty\"        "
      ]
     },
     "metadata": {},
     "output_type": "display_data"
    }
   ],
   "source": [
    "library(janitor)\n",
    "clean <- clean_names(data)\n",
    "colnames(clean)"
   ]
  },
  {
   "cell_type": "markdown",
   "metadata": {
    "cell_id": "c6c2c5f47ff44631ac51f21263f2a230",
    "deepnote_cell_height": 46,
    "deepnote_cell_type": "markdown",
    "tags": []
   },
   "source": [
    "---"
   ]
  },
  {
   "cell_type": "markdown",
   "metadata": {
    "tags": []
   },
   "source": [
    "### 2.3. Підготовка та очистка текстової інформації"
   ]
  },
  {
   "cell_type": "markdown",
   "metadata": {},
   "source": [
    "Зчитаємо інформацію про стать з попереднього прикладу:"
   ]
  },
  {
   "cell_type": "code",
   "execution_count": 53,
   "metadata": {},
   "outputs": [
    {
     "data": {
      "text/html": [
       "<style>\n",
       ".dl-inline {width: auto; margin:0; padding: 0}\n",
       ".dl-inline>dt, .dl-inline>dd {float: none; width: auto; display: inline-block}\n",
       ".dl-inline>dt::after {content: \":\\0020\"; padding-right: .5ex}\n",
       ".dl-inline>dt:not(:first-of-type) {padding-left: .5ex}\n",
       "</style><dl class=dl-inline><dt>gender1</dt><dd>'Male'</dd><dt>gender2</dt><dd><span style=white-space:pre-wrap>'   M'</span></dd><dt>gender3</dt><dd>'Female'</dd><dt>gender4</dt><dd>'Man'</dd><dt>gender5</dt><dd>'female'</dd><dt>gender6</dt><dd><span style=white-space:pre-wrap>'F    '</span></dd><dt>gender7</dt><dd>'male.'</dd><dt>gender8</dt><dd>'m'</dd><dt>gender9</dt><dd>'Man'</dd><dt>gender10</dt><dd>'female'</dd><dt>gender11</dt><dd><span style=white-space:pre-wrap>'F    '</span></dd><dt>gender12</dt><dd>'male.'</dd><dt>gender13</dt><dd>'m'</dd></dl>\n"
      ],
      "text/latex": [
       "\\begin{description*}\n",
       "\\item[gender1] 'Male'\n",
       "\\item[gender2] '   M'\n",
       "\\item[gender3] 'Female'\n",
       "\\item[gender4] 'Man'\n",
       "\\item[gender5] 'female'\n",
       "\\item[gender6] 'F    '\n",
       "\\item[gender7] 'male.'\n",
       "\\item[gender8] 'm'\n",
       "\\item[gender9] 'Man'\n",
       "\\item[gender10] 'female'\n",
       "\\item[gender11] 'F    '\n",
       "\\item[gender12] 'male.'\n",
       "\\item[gender13] 'm'\n",
       "\\end{description*}\n"
      ],
      "text/markdown": [
       "gender1\n",
       ":   'Male'gender2\n",
       ":   <span style=white-space:pre-wrap>'   M'</span>gender3\n",
       ":   'Female'gender4\n",
       ":   'Man'gender5\n",
       ":   'female'gender6\n",
       ":   <span style=white-space:pre-wrap>'F    '</span>gender7\n",
       ":   'male.'gender8\n",
       ":   'm'gender9\n",
       ":   'Man'gender10\n",
       ":   'female'gender11\n",
       ":   <span style=white-space:pre-wrap>'F    '</span>gender12\n",
       ":   'male.'gender13\n",
       ":   'm'\n",
       "\n"
      ],
      "text/plain": [
       " gender1  gender2  gender3  gender4  gender5  gender6  gender7  gender8 \n",
       "  \"Male\"   \"   M\" \"Female\"    \"Man\" \"female\"  \"F    \"  \"male.\"      \"m\" \n",
       " gender9 gender10 gender11 gender12 gender13 \n",
       "   \"Man\" \"female\"  \"F    \"  \"male.\"      \"m\" "
      ]
     },
     "metadata": {},
     "output_type": "display_data"
    }
   ],
   "source": [
    "data <- read.csv(\"../../data/badtitled.csv\")\n",
    "data <- clean_names(data)\n",
    "data <- as.data.frame(data$person_gender)\n",
    "colnames(data) <- c(\"gender\")\n",
    "unlist(data)"
   ]
  },
  {
   "cell_type": "markdown",
   "metadata": {},
   "source": [
    "Схоже, що ці дані насправді мають всього 2 записи, проте у базу даних їх вносили різні люди або вони були зібрані з різних джерел інформації. Це досить поширена проблема у роботі з даними. Особливо коли відбуваєть заміна людей на рочих місцях або перехід на інше програмне забезпечення."
   ]
  },
  {
   "cell_type": "markdown",
   "metadata": {},
   "source": [
    "Якщо це буде розглядатися як факторна змінна без будь-якої попередньої обробки, очевидно, що 8, а не 2 класи будуть збережені. Тому завдання полягає в тому, щоб автоматично розпізнавати наведені вище дані про те, чи відноситься кожен елемент до чоловічої чи жіночої статі. У статистичних контекстах класифікацію таких\n",
    "\"безладні\" текстові рядки в ряд фіксованих категорій часто називають кодуванням.\n",
    "\n",
    "Опишемо два взаємодоповнюючих підходи до кодування рядків: `нормалізація` (`string normalization`) рядків і аналіз схожості тексту (`approximate text matching`).\n",
    "\n",
    "Розглянемо наступні підходи до очистки текстових даних:\n",
    "\n",
    "    – [x] Видалення пробілів на початку або в кінці\n",
    "    – [x] Обрізання/збільшення рядків до певної ширини\n",
    "    – [x] Перетворення у верхній/нижній регістр.\n",
    "    – [x] Пошук рядків, що містять прості шаблони (підрядки).\n",
    "    – [x] Апроксимація рядків на основі \"відстаней\"."
   ]
  },
  {
   "cell_type": "markdown",
   "metadata": {},
   "source": [
    "Робота з текстом у `R` здійснюється за допомогою пакету `stringr`."
   ]
  },
  {
   "cell_type": "markdown",
   "metadata": {},
   "source": [
    "**Видалення пробілів на початку або в кінці** здійснюється за допомогою функції `str_trim()`."
   ]
  },
  {
   "cell_type": "code",
   "execution_count": 54,
   "metadata": {},
   "outputs": [
    {
     "data": {
      "text/html": [
       "'ostroh academy'"
      ],
      "text/latex": [
       "'ostroh academy'"
      ],
      "text/markdown": [
       "'ostroh academy'"
      ],
      "text/plain": [
       "[1] \"ostroh academy\""
      ]
     },
     "metadata": {},
     "output_type": "display_data"
    },
    {
     "data": {
      "text/html": [
       "'ostroh academy '"
      ],
      "text/latex": [
       "'ostroh academy '"
      ],
      "text/markdown": [
       "'ostroh academy '"
      ],
      "text/plain": [
       "[1] \"ostroh academy \""
      ]
     },
     "metadata": {},
     "output_type": "display_data"
    },
    {
     "data": {
      "text/html": [
       "' ostroh academy'"
      ],
      "text/latex": [
       "' ostroh academy'"
      ],
      "text/markdown": [
       "' ostroh academy'"
      ],
      "text/plain": [
       "[1] \" ostroh academy\""
      ]
     },
     "metadata": {},
     "output_type": "display_data"
    }
   ],
   "source": [
    "library(stringr)\n",
    "str_trim(\" ostroh academy  \")\n",
    "str_trim(\" ostroh academy \", side = \"left\")\n",
    "str_trim(\" ostroh academy \", side = \"right\")"
   ]
  },
  {
   "cell_type": "markdown",
   "metadata": {},
   "source": [
    "**Обрізання/збільшення рядків до певної ширини** здійснюється за допомогою функції `str_pad()`."
   ]
  },
  {
   "cell_type": "code",
   "execution_count": 55,
   "metadata": {},
   "outputs": [
    {
     "data": {
      "text/html": [
       "'000057'"
      ],
      "text/latex": [
       "'000057'"
      ],
      "text/markdown": [
       "'000057'"
      ],
      "text/plain": [
       "[1] \"000057\""
      ]
     },
     "metadata": {},
     "output_type": "display_data"
    }
   ],
   "source": [
    "str_pad(57, width = 6, side = \"left\", pad = 0)"
   ]
  },
  {
   "cell_type": "code",
   "execution_count": 56,
   "metadata": {},
   "outputs": [
    {
     "data": {
      "text/html": [
       "'ostroh____'"
      ],
      "text/latex": [
       "'ostroh\\_\\_\\_\\_'"
      ],
      "text/markdown": [
       "'ostroh____'"
      ],
      "text/plain": [
       "[1] \"ostroh____\""
      ]
     },
     "metadata": {},
     "output_type": "display_data"
    }
   ],
   "source": [
    "str_pad(\"ostroh\", width = 10, side = \"right\", pad = \"_\")"
   ]
  },
  {
   "cell_type": "markdown",
   "metadata": {},
   "source": [
    "**Перетворення у верхній/нижній регістр**"
   ]
  },
  {
   "cell_type": "code",
   "execution_count": 57,
   "metadata": {},
   "outputs": [
    {
     "data": {
      "text/html": [
       "'OSTROH ACADEMY!'"
      ],
      "text/latex": [
       "'OSTROH ACADEMY!'"
      ],
      "text/markdown": [
       "'OSTROH ACADEMY!'"
      ],
      "text/plain": [
       "[1] \"OSTROH ACADEMY!\""
      ]
     },
     "metadata": {},
     "output_type": "display_data"
    },
    {
     "data": {
      "text/html": [
       "'ostroh academy!'"
      ],
      "text/latex": [
       "'ostroh academy!'"
      ],
      "text/markdown": [
       "'ostroh academy!'"
      ],
      "text/plain": [
       "[1] \"ostroh academy!\""
      ]
     },
     "metadata": {},
     "output_type": "display_data"
    }
   ],
   "source": [
    "text <- \"Ostroh Academy!\"\n",
    "toupper(text)\n",
    "tolower(text)"
   ]
  },
  {
   "cell_type": "markdown",
   "metadata": {},
   "source": [
    "**Пошук рядків, що містять прості шаблони (підрядки)**"
   ]
  },
  {
   "cell_type": "markdown",
   "metadata": {},
   "source": [
    "Скористаємося функцієя `grep()` та `grepl()` для пошуку підрядків у інформації про стать:"
   ]
  },
  {
   "cell_type": "code",
   "execution_count": 58,
   "metadata": {},
   "outputs": [
    {
     "data": {
      "text/html": [
       "<style>\n",
       ".list-inline {list-style: none; margin:0; padding: 0}\n",
       ".list-inline>li {display: inline-block}\n",
       ".list-inline>li:not(:last-child)::after {content: \"\\00b7\"; padding: 0 .5ex}\n",
       "</style>\n",
       "<ol class=list-inline><li>FALSE</li><li>FALSE</li><li>TRUE</li><li>FALSE</li><li>TRUE</li><li>FALSE</li><li>TRUE</li><li>TRUE</li><li>FALSE</li><li>TRUE</li><li>FALSE</li><li>TRUE</li><li>TRUE</li></ol>\n"
      ],
      "text/latex": [
       "\\begin{enumerate*}\n",
       "\\item FALSE\n",
       "\\item FALSE\n",
       "\\item TRUE\n",
       "\\item FALSE\n",
       "\\item TRUE\n",
       "\\item FALSE\n",
       "\\item TRUE\n",
       "\\item TRUE\n",
       "\\item FALSE\n",
       "\\item TRUE\n",
       "\\item FALSE\n",
       "\\item TRUE\n",
       "\\item TRUE\n",
       "\\end{enumerate*}\n"
      ],
      "text/markdown": [
       "1. FALSE\n",
       "2. FALSE\n",
       "3. TRUE\n",
       "4. FALSE\n",
       "5. TRUE\n",
       "6. FALSE\n",
       "7. TRUE\n",
       "8. TRUE\n",
       "9. FALSE\n",
       "10. TRUE\n",
       "11. FALSE\n",
       "12. TRUE\n",
       "13. TRUE\n",
       "\n",
       "\n"
      ],
      "text/plain": [
       " [1] FALSE FALSE  TRUE FALSE  TRUE FALSE  TRUE  TRUE FALSE  TRUE FALSE  TRUE\n",
       "[13]  TRUE"
      ]
     },
     "metadata": {},
     "output_type": "display_data"
    },
    {
     "data": {
      "text/html": [
       "<style>\n",
       ".list-inline {list-style: none; margin:0; padding: 0}\n",
       ".list-inline>li {display: inline-block}\n",
       ".list-inline>li:not(:last-child)::after {content: \"\\00b7\"; padding: 0 .5ex}\n",
       "</style>\n",
       "<ol class=list-inline><li>3</li><li>5</li><li>7</li><li>8</li><li>10</li><li>12</li><li>13</li></ol>\n"
      ],
      "text/latex": [
       "\\begin{enumerate*}\n",
       "\\item 3\n",
       "\\item 5\n",
       "\\item 7\n",
       "\\item 8\n",
       "\\item 10\n",
       "\\item 12\n",
       "\\item 13\n",
       "\\end{enumerate*}\n"
      ],
      "text/markdown": [
       "1. 3\n",
       "2. 5\n",
       "3. 7\n",
       "4. 8\n",
       "5. 10\n",
       "6. 12\n",
       "7. 13\n",
       "\n",
       "\n"
      ],
      "text/plain": [
       "[1]  3  5  7  8 10 12 13"
      ]
     },
     "metadata": {},
     "output_type": "display_data"
    }
   ],
   "source": [
    "grepl(\"m\", data$gender) # Повертає TRUE/FALSE, якщо знахоить входження рядка\n",
    "grep(\"m\", data$gender) # Повертає номери рядків, по яких є входження"
   ]
  },
  {
   "cell_type": "code",
   "execution_count": 59,
   "metadata": {},
   "outputs": [
    {
     "data": {
      "text/html": [
       "<style>\n",
       ".list-inline {list-style: none; margin:0; padding: 0}\n",
       ".list-inline>li {display: inline-block}\n",
       ".list-inline>li:not(:last-child)::after {content: \"\\00b7\"; padding: 0 .5ex}\n",
       "</style>\n",
       "<ol class=list-inline><li>TRUE</li><li>TRUE</li><li>TRUE</li><li>TRUE</li><li>TRUE</li><li>FALSE</li><li>TRUE</li><li>TRUE</li><li>TRUE</li><li>TRUE</li><li>FALSE</li><li>TRUE</li><li>TRUE</li></ol>\n"
      ],
      "text/latex": [
       "\\begin{enumerate*}\n",
       "\\item TRUE\n",
       "\\item TRUE\n",
       "\\item TRUE\n",
       "\\item TRUE\n",
       "\\item TRUE\n",
       "\\item FALSE\n",
       "\\item TRUE\n",
       "\\item TRUE\n",
       "\\item TRUE\n",
       "\\item TRUE\n",
       "\\item FALSE\n",
       "\\item TRUE\n",
       "\\item TRUE\n",
       "\\end{enumerate*}\n"
      ],
      "text/markdown": [
       "1. TRUE\n",
       "2. TRUE\n",
       "3. TRUE\n",
       "4. TRUE\n",
       "5. TRUE\n",
       "6. FALSE\n",
       "7. TRUE\n",
       "8. TRUE\n",
       "9. TRUE\n",
       "10. TRUE\n",
       "11. FALSE\n",
       "12. TRUE\n",
       "13. TRUE\n",
       "\n",
       "\n"
      ],
      "text/plain": [
       " [1]  TRUE  TRUE  TRUE  TRUE  TRUE FALSE  TRUE  TRUE  TRUE  TRUE FALSE  TRUE\n",
       "[13]  TRUE"
      ]
     },
     "metadata": {},
     "output_type": "display_data"
    },
    {
     "data": {
      "text/html": [
       "<style>\n",
       ".list-inline {list-style: none; margin:0; padding: 0}\n",
       ".list-inline>li {display: inline-block}\n",
       ".list-inline>li:not(:last-child)::after {content: \"\\00b7\"; padding: 0 .5ex}\n",
       "</style>\n",
       "<ol class=list-inline><li>TRUE</li><li>TRUE</li><li>TRUE</li><li>TRUE</li><li>TRUE</li><li>FALSE</li><li>TRUE</li><li>TRUE</li><li>TRUE</li><li>TRUE</li><li>FALSE</li><li>TRUE</li><li>TRUE</li></ol>\n"
      ],
      "text/latex": [
       "\\begin{enumerate*}\n",
       "\\item TRUE\n",
       "\\item TRUE\n",
       "\\item TRUE\n",
       "\\item TRUE\n",
       "\\item TRUE\n",
       "\\item FALSE\n",
       "\\item TRUE\n",
       "\\item TRUE\n",
       "\\item TRUE\n",
       "\\item TRUE\n",
       "\\item FALSE\n",
       "\\item TRUE\n",
       "\\item TRUE\n",
       "\\end{enumerate*}\n"
      ],
      "text/markdown": [
       "1. TRUE\n",
       "2. TRUE\n",
       "3. TRUE\n",
       "4. TRUE\n",
       "5. TRUE\n",
       "6. FALSE\n",
       "7. TRUE\n",
       "8. TRUE\n",
       "9. TRUE\n",
       "10. TRUE\n",
       "11. FALSE\n",
       "12. TRUE\n",
       "13. TRUE\n",
       "\n",
       "\n"
      ],
      "text/plain": [
       " [1]  TRUE  TRUE  TRUE  TRUE  TRUE FALSE  TRUE  TRUE  TRUE  TRUE FALSE  TRUE\n",
       "[13]  TRUE"
      ]
     },
     "metadata": {},
     "output_type": "display_data"
    }
   ],
   "source": [
    "grepl(\"m\", data$gender, ignore.case = TRUE) # не враховує регістр букв\n",
    "grepl(\"m\", tolower(data$gender))"
   ]
  },
  {
   "cell_type": "code",
   "execution_count": 60,
   "metadata": {},
   "outputs": [
    {
     "data": {
      "text/html": [
       "<style>\n",
       ".list-inline {list-style: none; margin:0; padding: 0}\n",
       ".list-inline>li {display: inline-block}\n",
       ".list-inline>li:not(:last-child)::after {content: \"\\00b7\"; padding: 0 .5ex}\n",
       "</style>\n",
       "<ol class=list-inline><li>'Male'</li><li><span style=white-space:pre-wrap>'   M'</span></li><li>'Female'</li><li>'Man'</li><li>'female'</li><li><span style=white-space:pre-wrap>'F    '</span></li><li>'male.'</li><li>'m'</li><li>'Man'</li><li>'female'</li><li><span style=white-space:pre-wrap>'F    '</span></li><li>'male.'</li><li>'m'</li></ol>\n"
      ],
      "text/latex": [
       "\\begin{enumerate*}\n",
       "\\item 'Male'\n",
       "\\item '   M'\n",
       "\\item 'Female'\n",
       "\\item 'Man'\n",
       "\\item 'female'\n",
       "\\item 'F    '\n",
       "\\item 'male.'\n",
       "\\item 'm'\n",
       "\\item 'Man'\n",
       "\\item 'female'\n",
       "\\item 'F    '\n",
       "\\item 'male.'\n",
       "\\item 'm'\n",
       "\\end{enumerate*}\n"
      ],
      "text/markdown": [
       "1. 'Male'\n",
       "2. <span style=white-space:pre-wrap>'   M'</span>\n",
       "3. 'Female'\n",
       "4. 'Man'\n",
       "5. 'female'\n",
       "6. <span style=white-space:pre-wrap>'F    '</span>\n",
       "7. 'male.'\n",
       "8. 'm'\n",
       "9. 'Man'\n",
       "10. 'female'\n",
       "11. <span style=white-space:pre-wrap>'F    '</span>\n",
       "12. 'male.'\n",
       "13. 'm'\n",
       "\n",
       "\n"
      ],
      "text/plain": [
       " [1] \"Male\"   \"   M\"   \"Female\" \"Man\"    \"female\" \"F    \"  \"male.\"  \"m\"     \n",
       " [9] \"Man\"    \"female\" \"F    \"  \"male.\"  \"m\"     "
      ]
     },
     "metadata": {},
     "output_type": "display_data"
    },
    {
     "data": {
      "text/html": [
       "<style>\n",
       ".list-inline {list-style: none; margin:0; padding: 0}\n",
       ".list-inline>li {display: inline-block}\n",
       ".list-inline>li:not(:last-child)::after {content: \"\\00b7\"; padding: 0 .5ex}\n",
       "</style>\n",
       "<ol class=list-inline><li>TRUE</li><li>FALSE</li><li>FALSE</li><li>TRUE</li><li>FALSE</li><li>FALSE</li><li>TRUE</li><li>TRUE</li><li>TRUE</li><li>FALSE</li><li>FALSE</li><li>TRUE</li><li>TRUE</li></ol>\n"
      ],
      "text/latex": [
       "\\begin{enumerate*}\n",
       "\\item TRUE\n",
       "\\item FALSE\n",
       "\\item FALSE\n",
       "\\item TRUE\n",
       "\\item FALSE\n",
       "\\item FALSE\n",
       "\\item TRUE\n",
       "\\item TRUE\n",
       "\\item TRUE\n",
       "\\item FALSE\n",
       "\\item FALSE\n",
       "\\item TRUE\n",
       "\\item TRUE\n",
       "\\end{enumerate*}\n"
      ],
      "text/markdown": [
       "1. TRUE\n",
       "2. FALSE\n",
       "3. FALSE\n",
       "4. TRUE\n",
       "5. FALSE\n",
       "6. FALSE\n",
       "7. TRUE\n",
       "8. TRUE\n",
       "9. TRUE\n",
       "10. FALSE\n",
       "11. FALSE\n",
       "12. TRUE\n",
       "13. TRUE\n",
       "\n",
       "\n"
      ],
      "text/plain": [
       " [1]  TRUE FALSE FALSE  TRUE FALSE FALSE  TRUE  TRUE  TRUE FALSE FALSE  TRUE\n",
       "[13]  TRUE"
      ]
     },
     "metadata": {},
     "output_type": "display_data"
    }
   ],
   "source": [
    "data$gender\n",
    "grepl(\"^m\", data$gender, ignore.case = TRUE) # Показує усі збіги, що починаються з вказаної літери"
   ]
  },
  {
   "cell_type": "markdown",
   "metadata": {},
   "source": [
    "**Пошук \"відстані\" між ряжками** - це аналіз рядків на схожіть з визначенням рівня співпадінь."
   ]
  },
  {
   "cell_type": "code",
   "execution_count": 61,
   "metadata": {},
   "outputs": [
    {
     "data": {
      "text/html": [
       "<table class=\"dataframe\">\n",
       "<caption>A matrix: 1 × 1 of type dbl</caption>\n",
       "<tbody>\n",
       "\t<tr><td>0</td></tr>\n",
       "</tbody>\n",
       "</table>\n"
      ],
      "text/latex": [
       "A matrix: 1 × 1 of type dbl\n",
       "\\begin{tabular}{l}\n",
       "\t 0\\\\\n",
       "\\end{tabular}\n"
      ],
      "text/markdown": [
       "\n",
       "A matrix: 1 × 1 of type dbl\n",
       "\n",
       "| 0 |\n",
       "\n"
      ],
      "text/plain": [
       "     [,1]\n",
       "[1,] 0   "
      ]
     },
     "metadata": {},
     "output_type": "display_data"
    },
    {
     "data": {
      "text/html": [
       "<table class=\"dataframe\">\n",
       "<caption>A matrix: 1 × 1 of type dbl</caption>\n",
       "<tbody>\n",
       "\t<tr><td>2</td></tr>\n",
       "</tbody>\n",
       "</table>\n"
      ],
      "text/latex": [
       "A matrix: 1 × 1 of type dbl\n",
       "\\begin{tabular}{l}\n",
       "\t 2\\\\\n",
       "\\end{tabular}\n"
      ],
      "text/markdown": [
       "\n",
       "A matrix: 1 × 1 of type dbl\n",
       "\n",
       "| 2 |\n",
       "\n"
      ],
      "text/plain": [
       "     [,1]\n",
       "[1,] 2   "
      ]
     },
     "metadata": {},
     "output_type": "display_data"
    },
    {
     "data": {
      "text/html": [
       "<table class=\"dataframe\">\n",
       "<caption>A matrix: 1 × 1 of type dbl</caption>\n",
       "<tbody>\n",
       "\t<tr><td>4</td></tr>\n",
       "</tbody>\n",
       "</table>\n"
      ],
      "text/latex": [
       "A matrix: 1 × 1 of type dbl\n",
       "\\begin{tabular}{l}\n",
       "\t 4\\\\\n",
       "\\end{tabular}\n"
      ],
      "text/markdown": [
       "\n",
       "A matrix: 1 × 1 of type dbl\n",
       "\n",
       "| 4 |\n",
       "\n"
      ],
      "text/plain": [
       "     [,1]\n",
       "[1,] 4   "
      ]
     },
     "metadata": {},
     "output_type": "display_data"
    }
   ],
   "source": [
    "adist(\"ao\", \"ao\")\n",
    "adist(\"ao\", \"oa\")\n",
    "adist(\"ao\", \"45fb\")"
   ]
  },
  {
   "cell_type": "markdown",
   "metadata": {},
   "source": [
    "Давайте проаналізуємо інформацію про стать з точки зору схожості текстів:"
   ]
  },
  {
   "cell_type": "code",
   "execution_count": 62,
   "metadata": {},
   "outputs": [
    {
     "data": {
      "text/html": [
       "<table class=\"dataframe\">\n",
       "<caption>A matrix: 13 × 2 of type dbl</caption>\n",
       "<thead>\n",
       "\t<tr><th></th><th scope=col>male</th><th scope=col>female</th></tr>\n",
       "</thead>\n",
       "<tbody>\n",
       "\t<tr><th scope=row>Male</th><td>1</td><td>3</td></tr>\n",
       "\t<tr><th scope=row>   M</th><td>4</td><td>6</td></tr>\n",
       "\t<tr><th scope=row>Female</th><td>2</td><td>1</td></tr>\n",
       "\t<tr><th scope=row>Man</th><td>3</td><td>5</td></tr>\n",
       "\t<tr><th scope=row>female</th><td>2</td><td>0</td></tr>\n",
       "\t<tr><th scope=row>F    </th><td>5</td><td>6</td></tr>\n",
       "\t<tr><th scope=row>male.</th><td>1</td><td>3</td></tr>\n",
       "\t<tr><th scope=row>m</th><td>3</td><td>5</td></tr>\n",
       "\t<tr><th scope=row>Man</th><td>3</td><td>5</td></tr>\n",
       "\t<tr><th scope=row>female</th><td>2</td><td>0</td></tr>\n",
       "\t<tr><th scope=row>F    </th><td>5</td><td>6</td></tr>\n",
       "\t<tr><th scope=row>male.</th><td>1</td><td>3</td></tr>\n",
       "\t<tr><th scope=row>m</th><td>3</td><td>5</td></tr>\n",
       "</tbody>\n",
       "</table>\n"
      ],
      "text/latex": [
       "A matrix: 13 × 2 of type dbl\n",
       "\\begin{tabular}{r|ll}\n",
       "  & male & female\\\\\n",
       "\\hline\n",
       "\tMale & 1 & 3\\\\\n",
       "\t   M & 4 & 6\\\\\n",
       "\tFemale & 2 & 1\\\\\n",
       "\tMan & 3 & 5\\\\\n",
       "\tfemale & 2 & 0\\\\\n",
       "\tF     & 5 & 6\\\\\n",
       "\tmale. & 1 & 3\\\\\n",
       "\tm & 3 & 5\\\\\n",
       "\tMan & 3 & 5\\\\\n",
       "\tfemale & 2 & 0\\\\\n",
       "\tF     & 5 & 6\\\\\n",
       "\tmale. & 1 & 3\\\\\n",
       "\tm & 3 & 5\\\\\n",
       "\\end{tabular}\n"
      ],
      "text/markdown": [
       "\n",
       "A matrix: 13 × 2 of type dbl\n",
       "\n",
       "| <!--/--> | male | female |\n",
       "|---|---|---|\n",
       "| Male | 1 | 3 |\n",
       "|    M | 4 | 6 |\n",
       "| Female | 2 | 1 |\n",
       "| Man | 3 | 5 |\n",
       "| female | 2 | 0 |\n",
       "| F     | 5 | 6 |\n",
       "| male. | 1 | 3 |\n",
       "| m | 3 | 5 |\n",
       "| Man | 3 | 5 |\n",
       "| female | 2 | 0 |\n",
       "| F     | 5 | 6 |\n",
       "| male. | 1 | 3 |\n",
       "| m | 3 | 5 |\n",
       "\n"
      ],
      "text/plain": [
       "       male female\n",
       "Male   1    3     \n",
       "   M   4    6     \n",
       "Female 2    1     \n",
       "Man    3    5     \n",
       "female 2    0     \n",
       "F      5    6     \n",
       "male.  1    3     \n",
       "m      3    5     \n",
       "Man    3    5     \n",
       "female 2    0     \n",
       "F      5    6     \n",
       "male.  1    3     \n",
       "m      3    5     "
      ]
     },
     "metadata": {},
     "output_type": "display_data"
    }
   ],
   "source": [
    "m <- c(\"male\", \"female\")\n",
    "adj_m <- adist(data$gender, m)\n",
    "#adj_m <- adist(tolower(data$gender), m)\n",
    "#adj_m <- adist(str_trim(tolower(data$gender), side=\"both\"), m)\n",
    "colnames(adj_m) <- m \n",
    "rownames(adj_m) <- data$gender\n",
    "adj_m"
   ]
  },
  {
   "cell_type": "code",
   "execution_count": 63,
   "metadata": {},
   "outputs": [
    {
     "data": {
      "text/html": [
       "<table class=\"dataframe\">\n",
       "<caption>A data.frame: 6 × 2</caption>\n",
       "<thead>\n",
       "\t<tr><th></th><th scope=col>male</th><th scope=col>female</th></tr>\n",
       "\t<tr><th></th><th scope=col>&lt;dbl&gt;</th><th scope=col>&lt;dbl&gt;</th></tr>\n",
       "</thead>\n",
       "<tbody>\n",
       "\t<tr><th scope=row>Male</th><td>1</td><td>3</td></tr>\n",
       "\t<tr><th scope=row>X...M</th><td>4</td><td>6</td></tr>\n",
       "\t<tr><th scope=row>Female</th><td>2</td><td>1</td></tr>\n",
       "\t<tr><th scope=row>Man</th><td>3</td><td>5</td></tr>\n",
       "\t<tr><th scope=row>female</th><td>2</td><td>0</td></tr>\n",
       "\t<tr><th scope=row>F....</th><td>5</td><td>6</td></tr>\n",
       "</tbody>\n",
       "</table>\n"
      ],
      "text/latex": [
       "A data.frame: 6 × 2\n",
       "\\begin{tabular}{r|ll}\n",
       "  & male & female\\\\\n",
       "  & <dbl> & <dbl>\\\\\n",
       "\\hline\n",
       "\tMale & 1 & 3\\\\\n",
       "\tX...M & 4 & 6\\\\\n",
       "\tFemale & 2 & 1\\\\\n",
       "\tMan & 3 & 5\\\\\n",
       "\tfemale & 2 & 0\\\\\n",
       "\tF.... & 5 & 6\\\\\n",
       "\\end{tabular}\n"
      ],
      "text/markdown": [
       "\n",
       "A data.frame: 6 × 2\n",
       "\n",
       "| <!--/--> | male &lt;dbl&gt; | female &lt;dbl&gt; |\n",
       "|---|---|---|\n",
       "| Male | 1 | 3 |\n",
       "| X...M | 4 | 6 |\n",
       "| Female | 2 | 1 |\n",
       "| Man | 3 | 5 |\n",
       "| female | 2 | 0 |\n",
       "| F.... | 5 | 6 |\n",
       "\n"
      ],
      "text/plain": [
       "       male female\n",
       "Male   1    3     \n",
       "X...M  4    6     \n",
       "Female 2    1     \n",
       "Man    3    5     \n",
       "female 2    0     \n",
       "F....  5    6     "
      ]
     },
     "metadata": {},
     "output_type": "display_data"
    }
   ],
   "source": [
    "# Видалимо повтори\n",
    "adj_m |> as.data.frame() |> dplyr::distinct()"
   ]
  },
  {
   "cell_type": "markdown",
   "metadata": {},
   "source": [
    "Примінимо інформацію про відстані до \"нечистих\" даних про стать:"
   ]
  },
  {
   "cell_type": "code",
   "execution_count": 64,
   "metadata": {},
   "outputs": [
    {
     "data": {
      "text/html": [
       "<style>\n",
       ".dl-inline {width: auto; margin:0; padding: 0}\n",
       ".dl-inline>dt, .dl-inline>dd {float: none; width: auto; display: inline-block}\n",
       ".dl-inline>dt::after {content: \":\\0020\"; padding-right: .5ex}\n",
       ".dl-inline>dt:not(:first-of-type) {padding-left: .5ex}\n",
       "</style><dl class=dl-inline><dt>Male</dt><dd>1</dd><dt><span style=white-space:pre-wrap>   M</span></dt><dd>1</dd><dt>Female</dt><dd>2</dd><dt>Man</dt><dd>1</dd><dt>female</dt><dd>2</dd><dt><span style=white-space:pre-wrap>F    </span></dt><dd>1</dd><dt>male.</dt><dd>1</dd><dt>m</dt><dd>1</dd><dt>Man</dt><dd>1</dd><dt>female</dt><dd>2</dd><dt><span style=white-space:pre-wrap>F    </span></dt><dd>1</dd><dt>male.</dt><dd>1</dd><dt>m</dt><dd>1</dd></dl>\n"
      ],
      "text/latex": [
       "\\begin{description*}\n",
       "\\item[Male] 1\n",
       "\\item[   M] 1\n",
       "\\item[Female] 2\n",
       "\\item[Man] 1\n",
       "\\item[female] 2\n",
       "\\item[F    ] 1\n",
       "\\item[male.] 1\n",
       "\\item[m] 1\n",
       "\\item[Man] 1\n",
       "\\item[female] 2\n",
       "\\item[F    ] 1\n",
       "\\item[male.] 1\n",
       "\\item[m] 1\n",
       "\\end{description*}\n"
      ],
      "text/markdown": [
       "Male\n",
       ":   1<span style=white-space:pre-wrap>   M</span>\n",
       ":   1Female\n",
       ":   2Man\n",
       ":   1female\n",
       ":   2<span style=white-space:pre-wrap>F    </span>\n",
       ":   1male.\n",
       ":   1m\n",
       ":   1Man\n",
       ":   1female\n",
       ":   2<span style=white-space:pre-wrap>F    </span>\n",
       ":   1male.\n",
       ":   1m\n",
       ":   1\n",
       "\n"
      ],
      "text/plain": [
       "  Male      M Female    Man female  F      male.      m    Man female  F     \n",
       "     1      1      2      1      2      1      1      1      1      2      1 \n",
       " male.      m \n",
       "     1      1 "
      ]
     },
     "metadata": {},
     "output_type": "display_data"
    }
   ],
   "source": [
    "nums <- apply(adj_m, 1, which.min) # Знайдемо найближчі значення\n",
    "nums"
   ]
  },
  {
   "cell_type": "code",
   "execution_count": 65,
   "metadata": {},
   "outputs": [
    {
     "data": {
      "text/html": [
       "<table class=\"dataframe\">\n",
       "<caption>A data.frame: 13 × 2</caption>\n",
       "<thead>\n",
       "\t<tr><th scope=col>initial</th><th scope=col>coded</th></tr>\n",
       "\t<tr><th scope=col>&lt;chr&gt;</th><th scope=col>&lt;chr&gt;</th></tr>\n",
       "</thead>\n",
       "<tbody>\n",
       "\t<tr><td>Male  </td><td>male  </td></tr>\n",
       "\t<tr><td>   M  </td><td>male  </td></tr>\n",
       "\t<tr><td>Female</td><td>female</td></tr>\n",
       "\t<tr><td>Man   </td><td>male  </td></tr>\n",
       "\t<tr><td>female</td><td>female</td></tr>\n",
       "\t<tr><td>F     </td><td>male  </td></tr>\n",
       "\t<tr><td>male. </td><td>male  </td></tr>\n",
       "\t<tr><td>m     </td><td>male  </td></tr>\n",
       "\t<tr><td>Man   </td><td>male  </td></tr>\n",
       "\t<tr><td>female</td><td>female</td></tr>\n",
       "\t<tr><td>F     </td><td>male  </td></tr>\n",
       "\t<tr><td>male. </td><td>male  </td></tr>\n",
       "\t<tr><td>m     </td><td>male  </td></tr>\n",
       "</tbody>\n",
       "</table>\n"
      ],
      "text/latex": [
       "A data.frame: 13 × 2\n",
       "\\begin{tabular}{ll}\n",
       " initial & coded\\\\\n",
       " <chr> & <chr>\\\\\n",
       "\\hline\n",
       "\t Male   & male  \\\\\n",
       "\t    M   & male  \\\\\n",
       "\t Female & female\\\\\n",
       "\t Man    & male  \\\\\n",
       "\t female & female\\\\\n",
       "\t F      & male  \\\\\n",
       "\t male.  & male  \\\\\n",
       "\t m      & male  \\\\\n",
       "\t Man    & male  \\\\\n",
       "\t female & female\\\\\n",
       "\t F      & male  \\\\\n",
       "\t male.  & male  \\\\\n",
       "\t m      & male  \\\\\n",
       "\\end{tabular}\n"
      ],
      "text/markdown": [
       "\n",
       "A data.frame: 13 × 2\n",
       "\n",
       "| initial &lt;chr&gt; | coded &lt;chr&gt; |\n",
       "|---|---|\n",
       "| Male   | male   |\n",
       "|    M   | male   |\n",
       "| Female | female |\n",
       "| Man    | male   |\n",
       "| female | female |\n",
       "| F      | male   |\n",
       "| male.  | male   |\n",
       "| m      | male   |\n",
       "| Man    | male   |\n",
       "| female | female |\n",
       "| F      | male   |\n",
       "| male.  | male   |\n",
       "| m      | male   |\n",
       "\n"
      ],
      "text/plain": [
       "   initial coded \n",
       "1  Male    male  \n",
       "2     M    male  \n",
       "3  Female  female\n",
       "4  Man     male  \n",
       "5  female  female\n",
       "6  F       male  \n",
       "7  male.   male  \n",
       "8  m       male  \n",
       "9  Man     male  \n",
       "10 female  female\n",
       "11 F       male  \n",
       "12 male.   male  \n",
       "13 m       male  "
      ]
     },
     "metadata": {},
     "output_type": "display_data"
    }
   ],
   "source": [
    "data.frame(initial = data$gender, coded = m[nums]) # FFFFFFFFFFFFFF - проблема!"
   ]
  },
  {
   "cell_type": "markdown",
   "metadata": {},
   "source": [
    "Як альтернативу для знаходження відстаней між рядками можна використовувати функції з бібліотеки `stringdist`."
   ]
  },
  {
   "cell_type": "code",
   "execution_count": 66,
   "metadata": {},
   "outputs": [
    {
     "data": {
      "text/html": [
       "<table class=\"dataframe\">\n",
       "<caption>A matrix: 1 × 1 of type dbl</caption>\n",
       "<tbody>\n",
       "\t<tr><td>2</td></tr>\n",
       "</tbody>\n",
       "</table>\n"
      ],
      "text/latex": [
       "A matrix: 1 × 1 of type dbl\n",
       "\\begin{tabular}{l}\n",
       "\t 2\\\\\n",
       "\\end{tabular}\n"
      ],
      "text/markdown": [
       "\n",
       "A matrix: 1 × 1 of type dbl\n",
       "\n",
       "| 2 |\n",
       "\n"
      ],
      "text/plain": [
       "     [,1]\n",
       "[1,] 2   "
      ]
     },
     "metadata": {},
     "output_type": "display_data"
    },
    {
     "data": {
      "text/html": [
       "1"
      ],
      "text/latex": [
       "1"
      ],
      "text/markdown": [
       "1"
      ],
      "text/plain": [
       "[1] 1"
      ]
     },
     "metadata": {},
     "output_type": "display_data"
    }
   ],
   "source": [
    "library(stringdist)\n",
    "adist(\"ao\", \"oa\")\n",
    "stringdist(\"oa\", \"ao\") # 1, а було 2"
   ]
  },
  {
   "cell_type": "markdown",
   "metadata": {},
   "source": [
    "Спробуємо \"очистити\" дані, які ми отримали з допомогою функції `amatch()`:"
   ]
  },
  {
   "cell_type": "code",
   "execution_count": 67,
   "metadata": {},
   "outputs": [
    {
     "data": {
      "text/html": [
       "<style>\n",
       ".list-inline {list-style: none; margin:0; padding: 0}\n",
       ".list-inline>li {display: inline-block}\n",
       ".list-inline>li:not(:last-child)::after {content: \"\\00b7\"; padding: 0 .5ex}\n",
       "</style>\n",
       "<ol class=list-inline><li>1</li><li>1</li><li>2</li><li>1</li><li>2</li><li>&lt;NA&gt;</li><li>1</li><li>1</li><li>1</li><li>2</li><li>&lt;NA&gt;</li><li>1</li><li>1</li></ol>\n"
      ],
      "text/latex": [
       "\\begin{enumerate*}\n",
       "\\item 1\n",
       "\\item 1\n",
       "\\item 2\n",
       "\\item 1\n",
       "\\item 2\n",
       "\\item <NA>\n",
       "\\item 1\n",
       "\\item 1\n",
       "\\item 1\n",
       "\\item 2\n",
       "\\item <NA>\n",
       "\\item 1\n",
       "\\item 1\n",
       "\\end{enumerate*}\n"
      ],
      "text/markdown": [
       "1. 1\n",
       "2. 1\n",
       "3. 2\n",
       "4. 1\n",
       "5. 2\n",
       "6. &lt;NA&gt;\n",
       "7. 1\n",
       "8. 1\n",
       "9. 1\n",
       "10. 2\n",
       "11. &lt;NA&gt;\n",
       "12. 1\n",
       "13. 1\n",
       "\n",
       "\n"
      ],
      "text/plain": [
       " [1]  1  1  2  1  2 NA  1  1  1  2 NA  1  1"
      ]
     },
     "metadata": {},
     "output_type": "display_data"
    }
   ],
   "source": [
    "nums <- amatch(data$gender,  c(\"male\", \"female\"), maxDist = 4) # Знайдемо найближчі значення\n",
    "nums"
   ]
  },
  {
   "cell_type": "code",
   "execution_count": 68,
   "metadata": {},
   "outputs": [
    {
     "data": {
      "text/html": [
       "<table class=\"dataframe\">\n",
       "<caption>A data.frame: 13 × 2</caption>\n",
       "<thead>\n",
       "\t<tr><th scope=col>initial</th><th scope=col>coded</th></tr>\n",
       "\t<tr><th scope=col>&lt;chr&gt;</th><th scope=col>&lt;chr&gt;</th></tr>\n",
       "</thead>\n",
       "<tbody>\n",
       "\t<tr><td>Male  </td><td>male  </td></tr>\n",
       "\t<tr><td>   M  </td><td>male  </td></tr>\n",
       "\t<tr><td>Female</td><td>female</td></tr>\n",
       "\t<tr><td>Man   </td><td>male  </td></tr>\n",
       "\t<tr><td>female</td><td>female</td></tr>\n",
       "\t<tr><td>F     </td><td>NA    </td></tr>\n",
       "\t<tr><td>male. </td><td>male  </td></tr>\n",
       "\t<tr><td>m     </td><td>male  </td></tr>\n",
       "\t<tr><td>Man   </td><td>male  </td></tr>\n",
       "\t<tr><td>female</td><td>female</td></tr>\n",
       "\t<tr><td>F     </td><td>NA    </td></tr>\n",
       "\t<tr><td>male. </td><td>male  </td></tr>\n",
       "\t<tr><td>m     </td><td>male  </td></tr>\n",
       "</tbody>\n",
       "</table>\n"
      ],
      "text/latex": [
       "A data.frame: 13 × 2\n",
       "\\begin{tabular}{ll}\n",
       " initial & coded\\\\\n",
       " <chr> & <chr>\\\\\n",
       "\\hline\n",
       "\t Male   & male  \\\\\n",
       "\t    M   & male  \\\\\n",
       "\t Female & female\\\\\n",
       "\t Man    & male  \\\\\n",
       "\t female & female\\\\\n",
       "\t F      & NA    \\\\\n",
       "\t male.  & male  \\\\\n",
       "\t m      & male  \\\\\n",
       "\t Man    & male  \\\\\n",
       "\t female & female\\\\\n",
       "\t F      & NA    \\\\\n",
       "\t male.  & male  \\\\\n",
       "\t m      & male  \\\\\n",
       "\\end{tabular}\n"
      ],
      "text/markdown": [
       "\n",
       "A data.frame: 13 × 2\n",
       "\n",
       "| initial &lt;chr&gt; | coded &lt;chr&gt; |\n",
       "|---|---|\n",
       "| Male   | male   |\n",
       "|    M   | male   |\n",
       "| Female | female |\n",
       "| Man    | male   |\n",
       "| female | female |\n",
       "| F      | NA     |\n",
       "| male.  | male   |\n",
       "| m      | male   |\n",
       "| Man    | male   |\n",
       "| female | female |\n",
       "| F      | NA     |\n",
       "| male.  | male   |\n",
       "| m      | male   |\n",
       "\n"
      ],
      "text/plain": [
       "   initial coded \n",
       "1  Male    male  \n",
       "2     M    male  \n",
       "3  Female  female\n",
       "4  Man     male  \n",
       "5  female  female\n",
       "6  F       NA    \n",
       "7  male.   male  \n",
       "8  m       male  \n",
       "9  Man     male  \n",
       "10 female  female\n",
       "11 F       NA    \n",
       "12 male.   male  \n",
       "13 m       male  "
      ]
     },
     "metadata": {},
     "output_type": "display_data"
    }
   ],
   "source": [
    "data.frame(initial = data$gender, coded = m[nums]) # FFFFFFFFFFFFFF - проблема!"
   ]
  },
  {
   "cell_type": "code",
   "execution_count": 69,
   "metadata": {},
   "outputs": [
    {
     "data": {
      "text/html": [
       "<table class=\"dataframe\">\n",
       "<caption>A data.frame: 13 × 1</caption>\n",
       "<thead>\n",
       "\t<tr><th scope=col>gender</th></tr>\n",
       "\t<tr><th scope=col>&lt;chr&gt;</th></tr>\n",
       "</thead>\n",
       "<tbody>\n",
       "\t<tr><td>Male  </td></tr>\n",
       "\t<tr><td>   M  </td></tr>\n",
       "\t<tr><td>Female</td></tr>\n",
       "\t<tr><td>Man   </td></tr>\n",
       "\t<tr><td>female</td></tr>\n",
       "\t<tr><td>F     </td></tr>\n",
       "\t<tr><td>male. </td></tr>\n",
       "\t<tr><td>m     </td></tr>\n",
       "\t<tr><td>Man   </td></tr>\n",
       "\t<tr><td>female</td></tr>\n",
       "\t<tr><td>F     </td></tr>\n",
       "\t<tr><td>male. </td></tr>\n",
       "\t<tr><td>m     </td></tr>\n",
       "</tbody>\n",
       "</table>\n"
      ],
      "text/latex": [
       "A data.frame: 13 × 1\n",
       "\\begin{tabular}{l}\n",
       " gender\\\\\n",
       " <chr>\\\\\n",
       "\\hline\n",
       "\t Male  \\\\\n",
       "\t    M  \\\\\n",
       "\t Female\\\\\n",
       "\t Man   \\\\\n",
       "\t female\\\\\n",
       "\t F     \\\\\n",
       "\t male. \\\\\n",
       "\t m     \\\\\n",
       "\t Man   \\\\\n",
       "\t female\\\\\n",
       "\t F     \\\\\n",
       "\t male. \\\\\n",
       "\t m     \\\\\n",
       "\\end{tabular}\n"
      ],
      "text/markdown": [
       "\n",
       "A data.frame: 13 × 1\n",
       "\n",
       "| gender &lt;chr&gt; |\n",
       "|---|\n",
       "| Male   |\n",
       "|    M   |\n",
       "| Female |\n",
       "| Man    |\n",
       "| female |\n",
       "| F      |\n",
       "| male.  |\n",
       "| m      |\n",
       "| Man    |\n",
       "| female |\n",
       "| F      |\n",
       "| male.  |\n",
       "| m      |\n",
       "\n"
      ],
      "text/plain": [
       "   gender\n",
       "1  Male  \n",
       "2     M  \n",
       "3  Female\n",
       "4  Man   \n",
       "5  female\n",
       "6  F     \n",
       "7  male. \n",
       "8  m     \n",
       "9  Man   \n",
       "10 female\n",
       "11 F     \n",
       "12 male. \n",
       "13 m     "
      ]
     },
     "metadata": {},
     "output_type": "display_data"
    },
    {
     "data": {
      "text/html": [
       "<table class=\"dataframe\">\n",
       "<caption>A data.frame: 13 × 1</caption>\n",
       "<thead>\n",
       "\t<tr><th scope=col>gender</th></tr>\n",
       "\t<tr><th scope=col>&lt;chr&gt;</th></tr>\n",
       "</thead>\n",
       "<tbody>\n",
       "\t<tr><td>Male  </td></tr>\n",
       "\t<tr><td>   M  </td></tr>\n",
       "\t<tr><td>Female</td></tr>\n",
       "\t<tr><td>Man   </td></tr>\n",
       "\t<tr><td>female</td></tr>\n",
       "\t<tr><td>female</td></tr>\n",
       "\t<tr><td>male. </td></tr>\n",
       "\t<tr><td>m     </td></tr>\n",
       "\t<tr><td>Man   </td></tr>\n",
       "\t<tr><td>female</td></tr>\n",
       "\t<tr><td>female</td></tr>\n",
       "\t<tr><td>male. </td></tr>\n",
       "\t<tr><td>m     </td></tr>\n",
       "</tbody>\n",
       "</table>\n"
      ],
      "text/latex": [
       "A data.frame: 13 × 1\n",
       "\\begin{tabular}{l}\n",
       " gender\\\\\n",
       " <chr>\\\\\n",
       "\\hline\n",
       "\t Male  \\\\\n",
       "\t    M  \\\\\n",
       "\t Female\\\\\n",
       "\t Man   \\\\\n",
       "\t female\\\\\n",
       "\t female\\\\\n",
       "\t male. \\\\\n",
       "\t m     \\\\\n",
       "\t Man   \\\\\n",
       "\t female\\\\\n",
       "\t female\\\\\n",
       "\t male. \\\\\n",
       "\t m     \\\\\n",
       "\\end{tabular}\n"
      ],
      "text/markdown": [
       "\n",
       "A data.frame: 13 × 1\n",
       "\n",
       "| gender &lt;chr&gt; |\n",
       "|---|\n",
       "| Male   |\n",
       "|    M   |\n",
       "| Female |\n",
       "| Man    |\n",
       "| female |\n",
       "| female |\n",
       "| male.  |\n",
       "| m      |\n",
       "| Man    |\n",
       "| female |\n",
       "| female |\n",
       "| male.  |\n",
       "| m      |\n",
       "\n"
      ],
      "text/plain": [
       "   gender\n",
       "1  Male  \n",
       "2     M  \n",
       "3  Female\n",
       "4  Man   \n",
       "5  female\n",
       "6  female\n",
       "7  male. \n",
       "8  m     \n",
       "9  Man   \n",
       "10 female\n",
       "11 female\n",
       "12 male. \n",
       "13 m     "
      ]
     },
     "metadata": {},
     "output_type": "display_data"
    },
    {
     "data": {
      "text/html": [
       "<table class=\"dataframe\">\n",
       "<caption>A data.frame: 13 × 2</caption>\n",
       "<thead>\n",
       "\t<tr><th scope=col>initial</th><th scope=col>coded</th></tr>\n",
       "\t<tr><th scope=col>&lt;chr&gt;</th><th scope=col>&lt;chr&gt;</th></tr>\n",
       "</thead>\n",
       "<tbody>\n",
       "\t<tr><td>Male  </td><td>male  </td></tr>\n",
       "\t<tr><td>   M  </td><td>male  </td></tr>\n",
       "\t<tr><td>Female</td><td>female</td></tr>\n",
       "\t<tr><td>Man   </td><td>male  </td></tr>\n",
       "\t<tr><td>female</td><td>female</td></tr>\n",
       "\t<tr><td>female</td><td>female</td></tr>\n",
       "\t<tr><td>male. </td><td>male  </td></tr>\n",
       "\t<tr><td>m     </td><td>male  </td></tr>\n",
       "\t<tr><td>Man   </td><td>male  </td></tr>\n",
       "\t<tr><td>female</td><td>female</td></tr>\n",
       "\t<tr><td>female</td><td>female</td></tr>\n",
       "\t<tr><td>male. </td><td>male  </td></tr>\n",
       "\t<tr><td>m     </td><td>male  </td></tr>\n",
       "</tbody>\n",
       "</table>\n"
      ],
      "text/latex": [
       "A data.frame: 13 × 2\n",
       "\\begin{tabular}{ll}\n",
       " initial & coded\\\\\n",
       " <chr> & <chr>\\\\\n",
       "\\hline\n",
       "\t Male   & male  \\\\\n",
       "\t    M   & male  \\\\\n",
       "\t Female & female\\\\\n",
       "\t Man    & male  \\\\\n",
       "\t female & female\\\\\n",
       "\t female & female\\\\\n",
       "\t male.  & male  \\\\\n",
       "\t m      & male  \\\\\n",
       "\t Man    & male  \\\\\n",
       "\t female & female\\\\\n",
       "\t female & female\\\\\n",
       "\t male.  & male  \\\\\n",
       "\t m      & male  \\\\\n",
       "\\end{tabular}\n"
      ],
      "text/markdown": [
       "\n",
       "A data.frame: 13 × 2\n",
       "\n",
       "| initial &lt;chr&gt; | coded &lt;chr&gt; |\n",
       "|---|---|\n",
       "| Male   | male   |\n",
       "|    M   | male   |\n",
       "| Female | female |\n",
       "| Man    | male   |\n",
       "| female | female |\n",
       "| female | female |\n",
       "| male.  | male   |\n",
       "| m      | male   |\n",
       "| Man    | male   |\n",
       "| female | female |\n",
       "| female | female |\n",
       "| male.  | male   |\n",
       "| m      | male   |\n",
       "\n"
      ],
      "text/plain": [
       "   initial coded \n",
       "1  Male    male  \n",
       "2     M    male  \n",
       "3  Female  female\n",
       "4  Man     male  \n",
       "5  female  female\n",
       "6  female  female\n",
       "7  male.   male  \n",
       "8  m       male  \n",
       "9  Man     male  \n",
       "10 female  female\n",
       "11 female  female\n",
       "12 male.   male  \n",
       "13 m       male  "
      ]
     },
     "metadata": {},
     "output_type": "display_data"
    }
   ],
   "source": [
    "data <- data |> mutate(gender = ifelse(gender == \"F\", \"female\", gender)) # ????? # Space\n",
    "data\n",
    "data <- data |> mutate(gender = ifelse(str_trim(gender) == \"F\", \"female\", gender))\n",
    "data\n",
    "nums <- amatch(data$gender,  c(\"male\", \"female\"), maxDist = 4)\n",
    "data.frame(initial = data$gender, coded = m[nums]) "
   ]
  },
  {
   "cell_type": "markdown",
   "metadata": {},
   "source": [
    "Місія виконана! Замінимо та збережемо інформацію у файл для майбутніх експериментів по цій темі:"
   ]
  },
  {
   "cell_type": "code",
   "execution_count": 70,
   "metadata": {},
   "outputs": [
    {
     "data": {
      "text/html": [
       "<table class=\"dataframe\">\n",
       "<caption>A data.frame: 2 × 5</caption>\n",
       "<thead>\n",
       "\t<tr><th></th><th scope=col>person_age</th><th scope=col>person_height</th><th scope=col>person_weight</th><th scope=col>person_gender</th><th scope=col>empty</th></tr>\n",
       "\t<tr><th></th><th scope=col>&lt;int&gt;</th><th scope=col>&lt;chr&gt;</th><th scope=col>&lt;dbl&gt;</th><th scope=col>&lt;chr&gt;</th><th scope=col>&lt;lgl&gt;</th></tr>\n",
       "</thead>\n",
       "<tbody>\n",
       "\t<tr><th scope=row>1</th><td>23</td><td>185</td><td>  NA</td><td>Male</td><td>NA</td></tr>\n",
       "\t<tr><th scope=row>2</th><td>41</td><td>175</td><td>68.3</td><td>   M</td><td>NA</td></tr>\n",
       "</tbody>\n",
       "</table>\n"
      ],
      "text/latex": [
       "A data.frame: 2 × 5\n",
       "\\begin{tabular}{r|lllll}\n",
       "  & person\\_age & person\\_height & person\\_weight & person\\_gender & empty\\\\\n",
       "  & <int> & <chr> & <dbl> & <chr> & <lgl>\\\\\n",
       "\\hline\n",
       "\t1 & 23 & 185 &   NA & Male & NA\\\\\n",
       "\t2 & 41 & 175 & 68.3 &    M & NA\\\\\n",
       "\\end{tabular}\n"
      ],
      "text/markdown": [
       "\n",
       "A data.frame: 2 × 5\n",
       "\n",
       "| <!--/--> | person_age &lt;int&gt; | person_height &lt;chr&gt; | person_weight &lt;dbl&gt; | person_gender &lt;chr&gt; | empty &lt;lgl&gt; |\n",
       "|---|---|---|---|---|---|\n",
       "| 1 | 23 | 185 |   NA | Male | NA |\n",
       "| 2 | 41 | 175 | 68.3 |    M | NA |\n",
       "\n"
      ],
      "text/plain": [
       "  person_age person_height person_weight person_gender empty\n",
       "1 23         185             NA          Male          NA   \n",
       "2 41         175           68.3             M          NA   "
      ]
     },
     "metadata": {},
     "output_type": "display_data"
    }
   ],
   "source": [
    "data <- read.csv(\"../../data/badtitled.csv\")\n",
    "data <- clean_names(data)\n",
    "head(data, 2)"
   ]
  },
  {
   "cell_type": "code",
   "execution_count": 71,
   "metadata": {},
   "outputs": [
    {
     "data": {
      "text/html": [
       "<table class=\"dataframe\">\n",
       "<caption>A data.frame: 13 × 5</caption>\n",
       "<thead>\n",
       "\t<tr><th scope=col>person_age</th><th scope=col>person_height</th><th scope=col>person_weight</th><th scope=col>person_gender</th><th scope=col>empty</th></tr>\n",
       "\t<tr><th scope=col>&lt;int&gt;</th><th scope=col>&lt;chr&gt;</th><th scope=col>&lt;dbl&gt;</th><th scope=col>&lt;chr&gt;</th><th scope=col>&lt;lgl&gt;</th></tr>\n",
       "</thead>\n",
       "<tbody>\n",
       "\t<tr><td>23</td><td>185 </td><td>  NA</td><td>male  </td><td>NA</td></tr>\n",
       "\t<tr><td>41</td><td>175 </td><td>68.3</td><td>male  </td><td>NA</td></tr>\n",
       "\t<tr><td>11</td><td>142*</td><td>55.4</td><td>female</td><td>NA</td></tr>\n",
       "\t<tr><td>12</td><td>NA  </td><td>48.2</td><td>male  </td><td>NA</td></tr>\n",
       "\t<tr><td>54</td><td>191 </td><td>  NA</td><td>female</td><td>NA</td></tr>\n",
       "\t<tr><td>32</td><td>168 </td><td>78.0</td><td>female</td><td>NA</td></tr>\n",
       "\t<tr><td>22</td><td>NA  </td><td>54.0</td><td>male  </td><td>NA</td></tr>\n",
       "\t<tr><td>21</td><td>165 </td><td>  NA</td><td>male  </td><td>NA</td></tr>\n",
       "\t<tr><td>14</td><td>NA  </td><td>90.2</td><td>male  </td><td>NA</td></tr>\n",
       "\t<tr><td>51</td><td>250 </td><td>  NA</td><td>female</td><td>NA</td></tr>\n",
       "\t<tr><td>41</td><td>20  </td><td>81.0</td><td>female</td><td>NA</td></tr>\n",
       "\t<tr><td>66</td><td>NA  </td><td>59.0</td><td>male  </td><td>NA</td></tr>\n",
       "\t<tr><td>71</td><td>171 </td><td>  NA</td><td>male  </td><td>NA</td></tr>\n",
       "</tbody>\n",
       "</table>\n"
      ],
      "text/latex": [
       "A data.frame: 13 × 5\n",
       "\\begin{tabular}{lllll}\n",
       " person\\_age & person\\_height & person\\_weight & person\\_gender & empty\\\\\n",
       " <int> & <chr> & <dbl> & <chr> & <lgl>\\\\\n",
       "\\hline\n",
       "\t 23 & 185  &   NA & male   & NA\\\\\n",
       "\t 41 & 175  & 68.3 & male   & NA\\\\\n",
       "\t 11 & 142* & 55.4 & female & NA\\\\\n",
       "\t 12 & NA   & 48.2 & male   & NA\\\\\n",
       "\t 54 & 191  &   NA & female & NA\\\\\n",
       "\t 32 & 168  & 78.0 & female & NA\\\\\n",
       "\t 22 & NA   & 54.0 & male   & NA\\\\\n",
       "\t 21 & 165  &   NA & male   & NA\\\\\n",
       "\t 14 & NA   & 90.2 & male   & NA\\\\\n",
       "\t 51 & 250  &   NA & female & NA\\\\\n",
       "\t 41 & 20   & 81.0 & female & NA\\\\\n",
       "\t 66 & NA   & 59.0 & male   & NA\\\\\n",
       "\t 71 & 171  &   NA & male   & NA\\\\\n",
       "\\end{tabular}\n"
      ],
      "text/markdown": [
       "\n",
       "A data.frame: 13 × 5\n",
       "\n",
       "| person_age &lt;int&gt; | person_height &lt;chr&gt; | person_weight &lt;dbl&gt; | person_gender &lt;chr&gt; | empty &lt;lgl&gt; |\n",
       "|---|---|---|---|---|\n",
       "| 23 | 185  |   NA | male   | NA |\n",
       "| 41 | 175  | 68.3 | male   | NA |\n",
       "| 11 | 142* | 55.4 | female | NA |\n",
       "| 12 | NA   | 48.2 | male   | NA |\n",
       "| 54 | 191  |   NA | female | NA |\n",
       "| 32 | 168  | 78.0 | female | NA |\n",
       "| 22 | NA   | 54.0 | male   | NA |\n",
       "| 21 | 165  |   NA | male   | NA |\n",
       "| 14 | NA   | 90.2 | male   | NA |\n",
       "| 51 | 250  |   NA | female | NA |\n",
       "| 41 | 20   | 81.0 | female | NA |\n",
       "| 66 | NA   | 59.0 | male   | NA |\n",
       "| 71 | 171  |   NA | male   | NA |\n",
       "\n"
      ],
      "text/plain": [
       "   person_age person_height person_weight person_gender empty\n",
       "1  23         185             NA          male          NA   \n",
       "2  41         175           68.3          male          NA   \n",
       "3  11         142*          55.4          female        NA   \n",
       "4  12         NA            48.2          male          NA   \n",
       "5  54         191             NA          female        NA   \n",
       "6  32         168           78.0          female        NA   \n",
       "7  22         NA            54.0          male          NA   \n",
       "8  21         165             NA          male          NA   \n",
       "9  14         NA            90.2          male          NA   \n",
       "10 51         250             NA          female        NA   \n",
       "11 41         20            81.0          female        NA   \n",
       "12 66         NA            59.0          male          NA   \n",
       "13 71         171             NA          male          NA   "
      ]
     },
     "metadata": {},
     "output_type": "display_data"
    }
   ],
   "source": [
    "data <- data |> mutate(person_gender = ifelse(str_trim(person_gender) == \"F\", \"female\", person_gender))\n",
    "m <- c(\"male\", \"female\")\n",
    "nums <- amatch(data$person_gender, m, maxDist = 4)\n",
    "data <- data |> mutate(person_gender = m[nums])\n",
    "data"
   ]
  },
  {
   "cell_type": "markdown",
   "metadata": {},
   "source": [
    "Замінимо також висоту на числове значення, а не текст:"
   ]
  },
  {
   "cell_type": "code",
   "execution_count": 72,
   "metadata": {},
   "outputs": [
    {
     "data": {
      "text/html": [
       "<table class=\"dataframe\">\n",
       "<caption>A data.frame: 13 × 5</caption>\n",
       "<thead>\n",
       "\t<tr><th scope=col>person_age</th><th scope=col>person_height</th><th scope=col>person_weight</th><th scope=col>person_gender</th><th scope=col>empty</th></tr>\n",
       "\t<tr><th scope=col>&lt;int&gt;</th><th scope=col>&lt;chr&gt;</th><th scope=col>&lt;dbl&gt;</th><th scope=col>&lt;chr&gt;</th><th scope=col>&lt;lgl&gt;</th></tr>\n",
       "</thead>\n",
       "<tbody>\n",
       "\t<tr><td>23</td><td>185</td><td>  NA</td><td>male  </td><td>NA</td></tr>\n",
       "\t<tr><td>41</td><td>175</td><td>68.3</td><td>male  </td><td>NA</td></tr>\n",
       "\t<tr><td>11</td><td>142</td><td>55.4</td><td>female</td><td>NA</td></tr>\n",
       "\t<tr><td>12</td><td>NA </td><td>48.2</td><td>male  </td><td>NA</td></tr>\n",
       "\t<tr><td>54</td><td>191</td><td>  NA</td><td>female</td><td>NA</td></tr>\n",
       "\t<tr><td>32</td><td>168</td><td>78.0</td><td>female</td><td>NA</td></tr>\n",
       "\t<tr><td>22</td><td>NA </td><td>54.0</td><td>male  </td><td>NA</td></tr>\n",
       "\t<tr><td>21</td><td>165</td><td>  NA</td><td>male  </td><td>NA</td></tr>\n",
       "\t<tr><td>14</td><td>NA </td><td>90.2</td><td>male  </td><td>NA</td></tr>\n",
       "\t<tr><td>51</td><td>250</td><td>  NA</td><td>female</td><td>NA</td></tr>\n",
       "\t<tr><td>41</td><td>20 </td><td>81.0</td><td>female</td><td>NA</td></tr>\n",
       "\t<tr><td>66</td><td>NA </td><td>59.0</td><td>male  </td><td>NA</td></tr>\n",
       "\t<tr><td>71</td><td>171</td><td>  NA</td><td>male  </td><td>NA</td></tr>\n",
       "</tbody>\n",
       "</table>\n"
      ],
      "text/latex": [
       "A data.frame: 13 × 5\n",
       "\\begin{tabular}{lllll}\n",
       " person\\_age & person\\_height & person\\_weight & person\\_gender & empty\\\\\n",
       " <int> & <chr> & <dbl> & <chr> & <lgl>\\\\\n",
       "\\hline\n",
       "\t 23 & 185 &   NA & male   & NA\\\\\n",
       "\t 41 & 175 & 68.3 & male   & NA\\\\\n",
       "\t 11 & 142 & 55.4 & female & NA\\\\\n",
       "\t 12 & NA  & 48.2 & male   & NA\\\\\n",
       "\t 54 & 191 &   NA & female & NA\\\\\n",
       "\t 32 & 168 & 78.0 & female & NA\\\\\n",
       "\t 22 & NA  & 54.0 & male   & NA\\\\\n",
       "\t 21 & 165 &   NA & male   & NA\\\\\n",
       "\t 14 & NA  & 90.2 & male   & NA\\\\\n",
       "\t 51 & 250 &   NA & female & NA\\\\\n",
       "\t 41 & 20  & 81.0 & female & NA\\\\\n",
       "\t 66 & NA  & 59.0 & male   & NA\\\\\n",
       "\t 71 & 171 &   NA & male   & NA\\\\\n",
       "\\end{tabular}\n"
      ],
      "text/markdown": [
       "\n",
       "A data.frame: 13 × 5\n",
       "\n",
       "| person_age &lt;int&gt; | person_height &lt;chr&gt; | person_weight &lt;dbl&gt; | person_gender &lt;chr&gt; | empty &lt;lgl&gt; |\n",
       "|---|---|---|---|---|\n",
       "| 23 | 185 |   NA | male   | NA |\n",
       "| 41 | 175 | 68.3 | male   | NA |\n",
       "| 11 | 142 | 55.4 | female | NA |\n",
       "| 12 | NA  | 48.2 | male   | NA |\n",
       "| 54 | 191 |   NA | female | NA |\n",
       "| 32 | 168 | 78.0 | female | NA |\n",
       "| 22 | NA  | 54.0 | male   | NA |\n",
       "| 21 | 165 |   NA | male   | NA |\n",
       "| 14 | NA  | 90.2 | male   | NA |\n",
       "| 51 | 250 |   NA | female | NA |\n",
       "| 41 | 20  | 81.0 | female | NA |\n",
       "| 66 | NA  | 59.0 | male   | NA |\n",
       "| 71 | 171 |   NA | male   | NA |\n",
       "\n"
      ],
      "text/plain": [
       "   person_age person_height person_weight person_gender empty\n",
       "1  23         185             NA          male          NA   \n",
       "2  41         175           68.3          male          NA   \n",
       "3  11         142           55.4          female        NA   \n",
       "4  12         NA            48.2          male          NA   \n",
       "5  54         191             NA          female        NA   \n",
       "6  32         168           78.0          female        NA   \n",
       "7  22         NA            54.0          male          NA   \n",
       "8  21         165             NA          male          NA   \n",
       "9  14         NA            90.2          male          NA   \n",
       "10 51         250             NA          female        NA   \n",
       "11 41         20            81.0          female        NA   \n",
       "12 66         NA            59.0          male          NA   \n",
       "13 71         171             NA          male          NA   "
      ]
     },
     "metadata": {},
     "output_type": "display_data"
    }
   ],
   "source": [
    "data <- data |> mutate(person_height = str_remove(data$person_height, pattern = \"[*]\"))\n",
    "data"
   ]
  },
  {
   "cell_type": "code",
   "execution_count": 73,
   "metadata": {},
   "outputs": [
    {
     "data": {
      "text/html": [
       "<table class=\"dataframe\">\n",
       "<caption>A data.frame: 13 × 5</caption>\n",
       "<thead>\n",
       "\t<tr><th scope=col>person_age</th><th scope=col>person_height</th><th scope=col>person_weight</th><th scope=col>person_gender</th><th scope=col>empty</th></tr>\n",
       "\t<tr><th scope=col>&lt;int&gt;</th><th scope=col>&lt;dbl&gt;</th><th scope=col>&lt;dbl&gt;</th><th scope=col>&lt;chr&gt;</th><th scope=col>&lt;lgl&gt;</th></tr>\n",
       "</thead>\n",
       "<tbody>\n",
       "\t<tr><td>23</td><td>185</td><td>  NA</td><td>male  </td><td>NA</td></tr>\n",
       "\t<tr><td>41</td><td>175</td><td>68.3</td><td>male  </td><td>NA</td></tr>\n",
       "\t<tr><td>11</td><td>142</td><td>55.4</td><td>female</td><td>NA</td></tr>\n",
       "\t<tr><td>12</td><td> NA</td><td>48.2</td><td>male  </td><td>NA</td></tr>\n",
       "\t<tr><td>54</td><td>191</td><td>  NA</td><td>female</td><td>NA</td></tr>\n",
       "\t<tr><td>32</td><td>168</td><td>78.0</td><td>female</td><td>NA</td></tr>\n",
       "\t<tr><td>22</td><td> NA</td><td>54.0</td><td>male  </td><td>NA</td></tr>\n",
       "\t<tr><td>21</td><td>165</td><td>  NA</td><td>male  </td><td>NA</td></tr>\n",
       "\t<tr><td>14</td><td> NA</td><td>90.2</td><td>male  </td><td>NA</td></tr>\n",
       "\t<tr><td>51</td><td>250</td><td>  NA</td><td>female</td><td>NA</td></tr>\n",
       "\t<tr><td>41</td><td> 20</td><td>81.0</td><td>female</td><td>NA</td></tr>\n",
       "\t<tr><td>66</td><td> NA</td><td>59.0</td><td>male  </td><td>NA</td></tr>\n",
       "\t<tr><td>71</td><td>171</td><td>  NA</td><td>male  </td><td>NA</td></tr>\n",
       "</tbody>\n",
       "</table>\n"
      ],
      "text/latex": [
       "A data.frame: 13 × 5\n",
       "\\begin{tabular}{lllll}\n",
       " person\\_age & person\\_height & person\\_weight & person\\_gender & empty\\\\\n",
       " <int> & <dbl> & <dbl> & <chr> & <lgl>\\\\\n",
       "\\hline\n",
       "\t 23 & 185 &   NA & male   & NA\\\\\n",
       "\t 41 & 175 & 68.3 & male   & NA\\\\\n",
       "\t 11 & 142 & 55.4 & female & NA\\\\\n",
       "\t 12 &  NA & 48.2 & male   & NA\\\\\n",
       "\t 54 & 191 &   NA & female & NA\\\\\n",
       "\t 32 & 168 & 78.0 & female & NA\\\\\n",
       "\t 22 &  NA & 54.0 & male   & NA\\\\\n",
       "\t 21 & 165 &   NA & male   & NA\\\\\n",
       "\t 14 &  NA & 90.2 & male   & NA\\\\\n",
       "\t 51 & 250 &   NA & female & NA\\\\\n",
       "\t 41 &  20 & 81.0 & female & NA\\\\\n",
       "\t 66 &  NA & 59.0 & male   & NA\\\\\n",
       "\t 71 & 171 &   NA & male   & NA\\\\\n",
       "\\end{tabular}\n"
      ],
      "text/markdown": [
       "\n",
       "A data.frame: 13 × 5\n",
       "\n",
       "| person_age &lt;int&gt; | person_height &lt;dbl&gt; | person_weight &lt;dbl&gt; | person_gender &lt;chr&gt; | empty &lt;lgl&gt; |\n",
       "|---|---|---|---|---|\n",
       "| 23 | 185 |   NA | male   | NA |\n",
       "| 41 | 175 | 68.3 | male   | NA |\n",
       "| 11 | 142 | 55.4 | female | NA |\n",
       "| 12 |  NA | 48.2 | male   | NA |\n",
       "| 54 | 191 |   NA | female | NA |\n",
       "| 32 | 168 | 78.0 | female | NA |\n",
       "| 22 |  NA | 54.0 | male   | NA |\n",
       "| 21 | 165 |   NA | male   | NA |\n",
       "| 14 |  NA | 90.2 | male   | NA |\n",
       "| 51 | 250 |   NA | female | NA |\n",
       "| 41 |  20 | 81.0 | female | NA |\n",
       "| 66 |  NA | 59.0 | male   | NA |\n",
       "| 71 | 171 |   NA | male   | NA |\n",
       "\n"
      ],
      "text/plain": [
       "   person_age person_height person_weight person_gender empty\n",
       "1  23         185             NA          male          NA   \n",
       "2  41         175           68.3          male          NA   \n",
       "3  11         142           55.4          female        NA   \n",
       "4  12          NA           48.2          male          NA   \n",
       "5  54         191             NA          female        NA   \n",
       "6  32         168           78.0          female        NA   \n",
       "7  22          NA           54.0          male          NA   \n",
       "8  21         165             NA          male          NA   \n",
       "9  14          NA           90.2          male          NA   \n",
       "10 51         250             NA          female        NA   \n",
       "11 41          20           81.0          female        NA   \n",
       "12 66          NA           59.0          male          NA   \n",
       "13 71         171             NA          male          NA   "
      ]
     },
     "metadata": {},
     "output_type": "display_data"
    }
   ],
   "source": [
    "data <- data |> mutate(person_height = as.numeric(person_height))\n",
    "data"
   ]
  },
  {
   "cell_type": "code",
   "execution_count": 74,
   "metadata": {},
   "outputs": [],
   "source": [
    "write.csv(data, file = \"../../data/cleaned_titled.csv\", row.names = F)"
   ]
  },
  {
   "cell_type": "markdown",
   "metadata": {},
   "source": [
    "---"
   ]
  },
  {
   "cell_type": "markdown",
   "metadata": {
    "cell_id": "34b805351ec8496188f8e4e5129177d2",
    "deepnote_cell_height": 70,
    "deepnote_cell_type": "markdown",
    "tags": []
   },
   "source": [
    "## 3. Заміна пропусків у даних (Missing Value Imputation)"
   ]
  },
  {
   "cell_type": "markdown",
   "metadata": {},
   "source": [
    "Дані реального світу часто мають відсутні значення. Дані можуть мати відсутні значення з ряду причин, таких як спостереження, які не були записані, пошкодження даних тощо."
   ]
  },
  {
   "cell_type": "markdown",
   "metadata": {},
   "source": [
    "**Проблема**\n",
    "- [x] Обробка відсутніх даних важлива, оскільки багато алгоритмів машинного навчання або програм для візуалізації та аналізу данихне підтримують дані з відсутніми значеннями.\n",
    "\n",
    "**Рішення**\n",
    "\n",
    "- [x] Видалити рядки з відсутніми даними з набору даних.\n",
    "- [x] Замінити відсутні значення середніми/медіанними значеннями.\n",
    "\n",
    "**Примітка**\n",
    "\n",
    "- [x] Використовуйте бізнес-логіку/знання для окремого підходу до кожної змінної\n",
    "- [x] У разі малого розміру вибірки або великої частки спостережень із відсутніми значеннями бажано замінювати, а видаляти"
   ]
  },
  {
   "cell_type": "markdown",
   "metadata": {},
   "source": [
    "Некоректна інформація в даних може бути записана різними способами, наприклад у датасеті ці дані можуть бутьу визначені як `NA` `<NA>` `NULL` `undefinded` `Undefined`. Перед обробкою таких даних усі невизначені записи варто конвертувати у `NA`."
   ]
  },
  {
   "cell_type": "markdown",
   "metadata": {
    "cell_id": "7201f5ae0c63461cb80c44db0218c3e3",
    "deepnote_cell_height": 52.390625,
    "deepnote_cell_type": "markdown",
    "tags": []
   },
   "source": [
    "Щоб переглянути список усіх стовпців, що мають пропуски даних можна скористатися наступним кодом:"
   ]
  },
  {
   "cell_type": "code",
   "execution_count": 75,
   "metadata": {
    "cell_id": "2edff2f1ee974e58963d8a42523f1a1f",
    "deepnote_cell_height": 162.1875,
    "deepnote_cell_type": "code",
    "deepnote_to_be_reexecuted": false,
    "execution_millis": 19,
    "execution_start": 1650392273243,
    "source_hash": "8a50abf2",
    "tags": [],
    "vscode": {
     "languageId": "r"
    }
   },
   "outputs": [
    {
     "name": "stdout",
     "output_type": "stream",
     "text": [
      "Rows: 13\n",
      "Columns: 5\n",
      "$ person_age    \u001b[3m\u001b[90m<int>\u001b[39m\u001b[23m 23, 41, 11, 12, 54, 32, 22, 21, 14, 51, 41, 66, 71\n",
      "$ person_height \u001b[3m\u001b[90m<int>\u001b[39m\u001b[23m 185, 175, 142, NA, 191, 168, NA, 165, NA, 250, 20, NA, 1~\n",
      "$ person_weight \u001b[3m\u001b[90m<dbl>\u001b[39m\u001b[23m NA, 68.3, 55.4, 48.2, NA, 78.0, 54.0, NA, 90.2, NA, 81.0~\n",
      "$ person_gender \u001b[3m\u001b[90m<chr>\u001b[39m\u001b[23m \"male\", \"male\", \"female\", \"male\", \"female\", \"female\", \"m~\n",
      "$ empty         \u001b[3m\u001b[90m<lgl>\u001b[39m\u001b[23m NA, NA, NA, NA, NA, NA, NA, NA, NA, NA, NA, NA, NA\n"
     ]
    }
   ],
   "source": [
    "data <- data <- read.csv(\"../../data/cleaned_titled.csv\", na.strings = c(\"<NA>\", \"NA\", \"null\", \"undefined\", \"NULL\", \"\"))\n",
    "glimpse(data)"
   ]
  },
  {
   "cell_type": "markdown",
   "metadata": {
    "jp-MarkdownHeadingCollapsed": true,
    "tags": []
   },
   "source": [
    "### 3.1. Перевірка наявності пропусків у даних"
   ]
  },
  {
   "cell_type": "markdown",
   "metadata": {},
   "source": [
    "Пакет **MICE (Multivariate Imputation via Chained Equations)**"
   ]
  },
  {
   "cell_type": "code",
   "execution_count": 76,
   "metadata": {},
   "outputs": [
    {
     "data": {
      "text/html": [
       "<table class=\"dataframe\">\n",
       "<caption>A matrix: 4 × 6 of type dbl</caption>\n",
       "<thead>\n",
       "\t<tr><th></th><th scope=col>person_age</th><th scope=col>person_gender</th><th scope=col>person_height</th><th scope=col>person_weight</th><th scope=col>empty</th><th scope=col></th></tr>\n",
       "</thead>\n",
       "<tbody>\n",
       "\t<tr><th scope=row>4</th><td>1</td><td>1</td><td>1</td><td>1</td><td> 0</td><td> 1</td></tr>\n",
       "\t<tr><th scope=row>5</th><td>1</td><td>1</td><td>1</td><td>0</td><td> 0</td><td> 2</td></tr>\n",
       "\t<tr><th scope=row>4</th><td>1</td><td>1</td><td>0</td><td>1</td><td> 0</td><td> 2</td></tr>\n",
       "\t<tr><th scope=row></th><td>0</td><td>0</td><td>4</td><td>5</td><td>13</td><td>22</td></tr>\n",
       "</tbody>\n",
       "</table>\n"
      ],
      "text/latex": [
       "A matrix: 4 × 6 of type dbl\n",
       "\\begin{tabular}{r|llllll}\n",
       "  & person\\_age & person\\_gender & person\\_height & person\\_weight & empty & \\\\\n",
       "\\hline\n",
       "\t4 & 1 & 1 & 1 & 1 &  0 &  1\\\\\n",
       "\t5 & 1 & 1 & 1 & 0 &  0 &  2\\\\\n",
       "\t4 & 1 & 1 & 0 & 1 &  0 &  2\\\\\n",
       "\t & 0 & 0 & 4 & 5 & 13 & 22\\\\\n",
       "\\end{tabular}\n"
      ],
      "text/markdown": [
       "\n",
       "A matrix: 4 × 6 of type dbl\n",
       "\n",
       "| <!--/--> | person_age | person_gender | person_height | person_weight | empty | <!----> |\n",
       "|---|---|---|---|---|---|---|\n",
       "| 4 | 1 | 1 | 1 | 1 |  0 |  1 |\n",
       "| 5 | 1 | 1 | 1 | 0 |  0 |  2 |\n",
       "| 4 | 1 | 1 | 0 | 1 |  0 |  2 |\n",
       "| <!----> | 0 | 0 | 4 | 5 | 13 | 22 |\n",
       "\n"
      ],
      "text/plain": [
       "  person_age person_gender person_height person_weight empty   \n",
       "4 1          1             1             1              0     1\n",
       "5 1          1             1             0              0     2\n",
       "4 1          1             0             1              0     2\n",
       "  0          0             4             5             13    22"
      ]
     },
     "metadata": {},
     "output_type": "display_data"
    },
    {
     "data": {
      "image/png": "[encoded data removed]",
      "text/plain": [
       "plot without title"
      ]
     },
     "metadata": {
      "image/png": {
       "height": 420,
       "width": 420
      }
     },
     "output_type": "display_data"
    }
   ],
   "source": [
    "library(mice)\n",
    "md.pattern(data)"
   ]
  },
  {
   "cell_type": "code",
   "execution_count": 77,
   "metadata": {},
   "outputs": [
    {
     "name": "stdout",
     "output_type": "stream",
     "text": [
      "\n",
      " Variables sorted by number of missings: \n",
      "      Variable     Count\n",
      "         empty 1.0000000\n",
      " person_weight 0.3846154\n",
      " person_height 0.3076923\n",
      "    person_age 0.0000000\n",
      " person_gender 0.0000000\n"
     ]
    },
    {
     "data": {
      "text/plain": [
       "\n",
       " Missings in variables:\n",
       "      Variable Count\n",
       " person_height     4\n",
       " person_weight     5\n",
       "         empty    13"
      ]
     },
     "metadata": {},
     "output_type": "display_data"
    },
    {
     "data": {
      "image/png": "[encoded data removed]",
      "text/plain": [
       "plot without title"
      ]
     },
     "metadata": {
      "image/png": {
       "height": 420,
       "width": 420
      }
     },
     "output_type": "display_data"
    }
   ],
   "source": [
    "library(VIM)\n",
    "mice_plot <- aggr(data, \n",
    "                  col=c('navyblue','yellow'),\n",
    "                  numbers=TRUE, \n",
    "                  sortVars=TRUE,\n",
    "                  labels=names(data), \n",
    "                  cex.axis=.7,\n",
    "                  gap=3, \n",
    "                  ylab=c(\"Missing data\",\"Pattern\"))\n",
    "mice_plot"
   ]
  },
  {
   "cell_type": "code",
   "execution_count": 78,
   "metadata": {},
   "outputs": [
    {
     "data": {
      "image/png": "[encoded data removed]",
      "text/plain": [
       "Plot with title \"Missingness Map\""
      ]
     },
     "metadata": {
      "image/png": {
       "height": 420,
       "width": 420
      }
     },
     "output_type": "display_data"
    }
   ],
   "source": [
    "library(Amelia)\n",
    "Amelia::missmap(data)"
   ]
  },
  {
   "cell_type": "markdown",
   "metadata": {},
   "source": [
    "Також можна скористатися альтернативними макетами: `missForest`, `mi`."
   ]
  },
  {
   "cell_type": "markdown",
   "metadata": {
    "tags": []
   },
   "source": [
    "---"
   ]
  },
  {
   "cell_type": "markdown",
   "metadata": {
    "cell_id": "355abb4549ad4fd0883245c822525ab9",
    "deepnote_cell_height": 62,
    "deepnote_cell_type": "markdown",
    "jp-MarkdownHeadingCollapsed": true,
    "tags": []
   },
   "source": [
    "### 3.2. Видалення пустих рядків та сповпців у `data.frame`"
   ]
  },
  {
   "cell_type": "markdown",
   "metadata": {
    "cell_id": "2867918b04e3488c871000bb1a14b0c5",
    "deepnote_cell_height": 52.390625,
    "deepnote_cell_type": "markdown",
    "tags": []
   },
   "source": [
    "Переглянемо стовпці, що містять пропуски:"
   ]
  },
  {
   "cell_type": "code",
   "execution_count": 79,
   "metadata": {},
   "outputs": [
    {
     "data": {
      "text/html": [
       "<style>\n",
       ".list-inline {list-style: none; margin:0; padding: 0}\n",
       ".list-inline>li {display: inline-block}\n",
       ".list-inline>li:not(:last-child)::after {content: \"\\00b7\"; padding: 0 .5ex}\n",
       "</style>\n",
       "<ol class=list-inline><li>'person_height'</li><li>'person_weight'</li><li>'empty'</li></ol>\n"
      ],
      "text/latex": [
       "\\begin{enumerate*}\n",
       "\\item 'person\\_height'\n",
       "\\item 'person\\_weight'\n",
       "\\item 'empty'\n",
       "\\end{enumerate*}\n"
      ],
      "text/markdown": [
       "1. 'person_height'\n",
       "2. 'person_weight'\n",
       "3. 'empty'\n",
       "\n",
       "\n"
      ],
      "text/plain": [
       "[1] \"person_height\" \"person_weight\" \"empty\"        "
      ]
     },
     "metadata": {},
     "output_type": "display_data"
    }
   ],
   "source": [
    "# Переглянемо список стовпців з пропусками\n",
    "colnames(data)[apply(data, 2, anyNA)]"
   ]
  },
  {
   "cell_type": "markdown",
   "metadata": {},
   "source": [
    "Функція `complete.cases` повертає логічні значення"
   ]
  },
  {
   "cell_type": "code",
   "execution_count": 80,
   "metadata": {},
   "outputs": [
    {
     "data": {
      "text/html": [
       "<style>\n",
       ".list-inline {list-style: none; margin:0; padding: 0}\n",
       ".list-inline>li {display: inline-block}\n",
       ".list-inline>li:not(:last-child)::after {content: \"\\00b7\"; padding: 0 .5ex}\n",
       "</style>\n",
       "<ol class=list-inline><li>FALSE</li><li>FALSE</li><li>FALSE</li><li>FALSE</li><li>FALSE</li><li>FALSE</li><li>FALSE</li><li>FALSE</li><li>FALSE</li><li>FALSE</li><li>FALSE</li><li>FALSE</li><li>FALSE</li></ol>\n"
      ],
      "text/latex": [
       "\\begin{enumerate*}\n",
       "\\item FALSE\n",
       "\\item FALSE\n",
       "\\item FALSE\n",
       "\\item FALSE\n",
       "\\item FALSE\n",
       "\\item FALSE\n",
       "\\item FALSE\n",
       "\\item FALSE\n",
       "\\item FALSE\n",
       "\\item FALSE\n",
       "\\item FALSE\n",
       "\\item FALSE\n",
       "\\item FALSE\n",
       "\\end{enumerate*}\n"
      ],
      "text/markdown": [
       "1. FALSE\n",
       "2. FALSE\n",
       "3. FALSE\n",
       "4. FALSE\n",
       "5. FALSE\n",
       "6. FALSE\n",
       "7. FALSE\n",
       "8. FALSE\n",
       "9. FALSE\n",
       "10. FALSE\n",
       "11. FALSE\n",
       "12. FALSE\n",
       "13. FALSE\n",
       "\n",
       "\n"
      ],
      "text/plain": [
       " [1] FALSE FALSE FALSE FALSE FALSE FALSE FALSE FALSE FALSE FALSE FALSE FALSE\n",
       "[13] FALSE"
      ]
     },
     "metadata": {},
     "output_type": "display_data"
    }
   ],
   "source": [
    "complete.cases(data) # бо є стовпець Empty"
   ]
  },
  {
   "cell_type": "markdown",
   "metadata": {},
   "source": [
    "Також видаляти стовпці та рядки з `data.frame` можна за допомогою пакету `janitor`."
   ]
  },
  {
   "cell_type": "code",
   "execution_count": 81,
   "metadata": {},
   "outputs": [
    {
     "name": "stderr",
     "output_type": "stream",
     "text": [
      "No empty rows to remove.\n",
      "\n",
      "Removing 1 empty columns of 5 columns total (Removed: empty).\n",
      "\n"
     ]
    },
    {
     "data": {
      "text/html": [
       "<table class=\"dataframe\">\n",
       "<caption>A data.frame: 13 × 4</caption>\n",
       "<thead>\n",
       "\t<tr><th></th><th scope=col>person_age</th><th scope=col>person_height</th><th scope=col>person_weight</th><th scope=col>person_gender</th></tr>\n",
       "\t<tr><th></th><th scope=col>&lt;int&gt;</th><th scope=col>&lt;int&gt;</th><th scope=col>&lt;dbl&gt;</th><th scope=col>&lt;chr&gt;</th></tr>\n",
       "</thead>\n",
       "<tbody>\n",
       "\t<tr><th scope=row>1</th><td>23</td><td>185</td><td>  NA</td><td>male  </td></tr>\n",
       "\t<tr><th scope=row>2</th><td>41</td><td>175</td><td>68.3</td><td>male  </td></tr>\n",
       "\t<tr><th scope=row>3</th><td>11</td><td>142</td><td>55.4</td><td>female</td></tr>\n",
       "\t<tr><th scope=row>4</th><td>12</td><td> NA</td><td>48.2</td><td>male  </td></tr>\n",
       "\t<tr><th scope=row>5</th><td>54</td><td>191</td><td>  NA</td><td>female</td></tr>\n",
       "\t<tr><th scope=row>6</th><td>32</td><td>168</td><td>78.0</td><td>female</td></tr>\n",
       "\t<tr><th scope=row>7</th><td>22</td><td> NA</td><td>54.0</td><td>male  </td></tr>\n",
       "\t<tr><th scope=row>8</th><td>21</td><td>165</td><td>  NA</td><td>male  </td></tr>\n",
       "\t<tr><th scope=row>9</th><td>14</td><td> NA</td><td>90.2</td><td>male  </td></tr>\n",
       "\t<tr><th scope=row>10</th><td>51</td><td>250</td><td>  NA</td><td>female</td></tr>\n",
       "\t<tr><th scope=row>11</th><td>41</td><td> 20</td><td>81.0</td><td>female</td></tr>\n",
       "\t<tr><th scope=row>12</th><td>66</td><td> NA</td><td>59.0</td><td>male  </td></tr>\n",
       "\t<tr><th scope=row>13</th><td>71</td><td>171</td><td>  NA</td><td>male  </td></tr>\n",
       "</tbody>\n",
       "</table>\n"
      ],
      "text/latex": [
       "A data.frame: 13 × 4\n",
       "\\begin{tabular}{r|llll}\n",
       "  & person\\_age & person\\_height & person\\_weight & person\\_gender\\\\\n",
       "  & <int> & <int> & <dbl> & <chr>\\\\\n",
       "\\hline\n",
       "\t1 & 23 & 185 &   NA & male  \\\\\n",
       "\t2 & 41 & 175 & 68.3 & male  \\\\\n",
       "\t3 & 11 & 142 & 55.4 & female\\\\\n",
       "\t4 & 12 &  NA & 48.2 & male  \\\\\n",
       "\t5 & 54 & 191 &   NA & female\\\\\n",
       "\t6 & 32 & 168 & 78.0 & female\\\\\n",
       "\t7 & 22 &  NA & 54.0 & male  \\\\\n",
       "\t8 & 21 & 165 &   NA & male  \\\\\n",
       "\t9 & 14 &  NA & 90.2 & male  \\\\\n",
       "\t10 & 51 & 250 &   NA & female\\\\\n",
       "\t11 & 41 &  20 & 81.0 & female\\\\\n",
       "\t12 & 66 &  NA & 59.0 & male  \\\\\n",
       "\t13 & 71 & 171 &   NA & male  \\\\\n",
       "\\end{tabular}\n"
      ],
      "text/markdown": [
       "\n",
       "A data.frame: 13 × 4\n",
       "\n",
       "| <!--/--> | person_age &lt;int&gt; | person_height &lt;int&gt; | person_weight &lt;dbl&gt; | person_gender &lt;chr&gt; |\n",
       "|---|---|---|---|---|\n",
       "| 1 | 23 | 185 |   NA | male   |\n",
       "| 2 | 41 | 175 | 68.3 | male   |\n",
       "| 3 | 11 | 142 | 55.4 | female |\n",
       "| 4 | 12 |  NA | 48.2 | male   |\n",
       "| 5 | 54 | 191 |   NA | female |\n",
       "| 6 | 32 | 168 | 78.0 | female |\n",
       "| 7 | 22 |  NA | 54.0 | male   |\n",
       "| 8 | 21 | 165 |   NA | male   |\n",
       "| 9 | 14 |  NA | 90.2 | male   |\n",
       "| 10 | 51 | 250 |   NA | female |\n",
       "| 11 | 41 |  20 | 81.0 | female |\n",
       "| 12 | 66 |  NA | 59.0 | male   |\n",
       "| 13 | 71 | 171 |   NA | male   |\n",
       "\n"
      ],
      "text/plain": [
       "   person_age person_height person_weight person_gender\n",
       "1  23         185             NA          male         \n",
       "2  41         175           68.3          male         \n",
       "3  11         142           55.4          female       \n",
       "4  12          NA           48.2          male         \n",
       "5  54         191             NA          female       \n",
       "6  32         168           78.0          female       \n",
       "7  22          NA           54.0          male         \n",
       "8  21         165             NA          male         \n",
       "9  14          NA           90.2          male         \n",
       "10 51         250             NA          female       \n",
       "11 41          20           81.0          female       \n",
       "12 66          NA           59.0          male         \n",
       "13 71         171             NA          male         "
      ]
     },
     "metadata": {},
     "output_type": "display_data"
    }
   ],
   "source": [
    "library(janitor)\n",
    "data_cleaned <- remove_empty(data, which = c(\"rows\",\"cols\"), quiet = FALSE)\n",
    "data_cleaned"
   ]
  },
  {
   "cell_type": "code",
   "execution_count": 82,
   "metadata": {},
   "outputs": [],
   "source": [
    "write.csv(data_cleaned, file = \"../../data/cleaned_titled2.csv\", row.names = F)"
   ]
  },
  {
   "cell_type": "markdown",
   "metadata": {},
   "source": [
    "Як бачимо, колонка `empty` була видалена."
   ]
  },
  {
   "cell_type": "markdown",
   "metadata": {},
   "source": [
    "Щоб переглянути усі записи, що не мають пропусків скористаємося функцією `na.omit()`:"
   ]
  },
  {
   "cell_type": "code",
   "execution_count": 83,
   "metadata": {
    "cell_id": "e9b832b9949e4b75b374e5c5db2c1da3",
    "deepnote_cell_height": 214.125,
    "deepnote_cell_type": "code",
    "deepnote_output_heights": [
     117.125
    ],
    "deepnote_to_be_reexecuted": false,
    "execution_millis": 43,
    "execution_start": 1650392276674,
    "source_hash": "2a6c7a77",
    "tags": [],
    "vscode": {
     "languageId": "r"
    }
   },
   "outputs": [
    {
     "data": {
      "text/html": [
       "<table class=\"dataframe\">\n",
       "<caption>A data.frame: 4 × 4</caption>\n",
       "<thead>\n",
       "\t<tr><th></th><th scope=col>person_age</th><th scope=col>person_height</th><th scope=col>person_weight</th><th scope=col>person_gender</th></tr>\n",
       "\t<tr><th></th><th scope=col>&lt;int&gt;</th><th scope=col>&lt;int&gt;</th><th scope=col>&lt;dbl&gt;</th><th scope=col>&lt;chr&gt;</th></tr>\n",
       "</thead>\n",
       "<tbody>\n",
       "\t<tr><th scope=row>2</th><td>41</td><td>175</td><td>68.3</td><td>male  </td></tr>\n",
       "\t<tr><th scope=row>3</th><td>11</td><td>142</td><td>55.4</td><td>female</td></tr>\n",
       "\t<tr><th scope=row>6</th><td>32</td><td>168</td><td>78.0</td><td>female</td></tr>\n",
       "\t<tr><th scope=row>11</th><td>41</td><td> 20</td><td>81.0</td><td>female</td></tr>\n",
       "</tbody>\n",
       "</table>\n"
      ],
      "text/latex": [
       "A data.frame: 4 × 4\n",
       "\\begin{tabular}{r|llll}\n",
       "  & person\\_age & person\\_height & person\\_weight & person\\_gender\\\\\n",
       "  & <int> & <int> & <dbl> & <chr>\\\\\n",
       "\\hline\n",
       "\t2 & 41 & 175 & 68.3 & male  \\\\\n",
       "\t3 & 11 & 142 & 55.4 & female\\\\\n",
       "\t6 & 32 & 168 & 78.0 & female\\\\\n",
       "\t11 & 41 &  20 & 81.0 & female\\\\\n",
       "\\end{tabular}\n"
      ],
      "text/markdown": [
       "\n",
       "A data.frame: 4 × 4\n",
       "\n",
       "| <!--/--> | person_age &lt;int&gt; | person_height &lt;int&gt; | person_weight &lt;dbl&gt; | person_gender &lt;chr&gt; |\n",
       "|---|---|---|---|---|\n",
       "| 2 | 41 | 175 | 68.3 | male   |\n",
       "| 3 | 11 | 142 | 55.4 | female |\n",
       "| 6 | 32 | 168 | 78.0 | female |\n",
       "| 11 | 41 |  20 | 81.0 | female |\n",
       "\n"
      ],
      "text/plain": [
       "   person_age person_height person_weight person_gender\n",
       "2  41         175           68.3          male         \n",
       "3  11         142           55.4          female       \n",
       "6  32         168           78.0          female       \n",
       "11 41          20           81.0          female       "
      ]
     },
     "metadata": {},
     "output_type": "display_data"
    }
   ],
   "source": [
    "na.omit(data_cleaned)"
   ]
  },
  {
   "cell_type": "markdown",
   "metadata": {},
   "source": [
    "Таким чином пропущені значення будуть видалені з датасети, якщо інформацію переприсвоїти `data <- na.omit(data)`"
   ]
  },
  {
   "cell_type": "markdown",
   "metadata": {},
   "source": [
    "---"
   ]
  },
  {
   "cell_type": "markdown",
   "metadata": {
    "cell_id": "9777081173ac45a4afed753369574a73",
    "deepnote_cell_height": 62,
    "deepnote_cell_type": "markdown",
    "tags": []
   },
   "source": [
    "### 3.3. Заміна пропусків у `data.frame`"
   ]
  },
  {
   "cell_type": "markdown",
   "metadata": {},
   "source": [
    "Існує ряд підходів, що використовуються для заміни пропущених значень у датасеті:"
   ]
  },
  {
   "cell_type": "markdown",
   "metadata": {},
   "source": [
    "**Заміна на 0**\n",
    "* Вставте пропущені значення нулем\n",
    "\n",
    "**Заміна на медіану/середнє значення**\n",
    "* Для числових змінних - середнє або медіана, мінімум, максимум\n",
    "* Для категоріальних змінних - мода (бувають випадки, коли моду доцільно використовувати і для цислових)\n",
    "\n",
    "**Сегментна заміна**\n",
    "* Визначення сегментів\n",
    "* Обчислення середнього/медіани/моди для сегментів\n",
    "* Замінити значення по сегментах\n",
    "* Наприклад, ми можемо сказати, що кількість опадів майже не змінюється для міст у певній області України, у такому випадку ми можемо для усіх міст з пропусками записати значення середнє по регіону.\n",
    "\n",
    "**Інтелектуальна заміна** (Частковий випадок сегментної заміни)\n",
    "* Заміна значень з використанням методів машинного навчання"
   ]
  },
  {
   "cell_type": "markdown",
   "metadata": {
    "cell_id": "2f609256c7c243829f66c3f3f23b4219",
    "deepnote_cell_height": 54,
    "deepnote_cell_type": "markdown",
    "tags": []
   },
   "source": [
    "#### 3.3.1. Заміна пропусків на нуль (0)"
   ]
  },
  {
   "cell_type": "code",
   "execution_count": 84,
   "metadata": {
    "cell_id": "1d5ff061612940d393a9da09a412e850",
    "deepnote_cell_height": 66,
    "deepnote_cell_type": "code",
    "tags": [],
    "vscode": {
     "languageId": "r"
    }
   },
   "outputs": [
    {
     "data": {
      "text/html": [
       "<table class=\"dataframe\">\n",
       "<caption>A data.frame: 13 × 4</caption>\n",
       "<thead>\n",
       "\t<tr><th scope=col>person_age</th><th scope=col>person_height</th><th scope=col>person_weight</th><th scope=col>person_gender</th></tr>\n",
       "\t<tr><th scope=col>&lt;int&gt;</th><th scope=col>&lt;int&gt;</th><th scope=col>&lt;dbl&gt;</th><th scope=col>&lt;chr&gt;</th></tr>\n",
       "</thead>\n",
       "<tbody>\n",
       "\t<tr><td>23</td><td>185</td><td>  NA</td><td>male  </td></tr>\n",
       "\t<tr><td>41</td><td>175</td><td>68.3</td><td>male  </td></tr>\n",
       "\t<tr><td>11</td><td>142</td><td>55.4</td><td>female</td></tr>\n",
       "\t<tr><td>12</td><td> NA</td><td>48.2</td><td>male  </td></tr>\n",
       "\t<tr><td>54</td><td>191</td><td>  NA</td><td>female</td></tr>\n",
       "\t<tr><td>32</td><td>168</td><td>78.0</td><td>female</td></tr>\n",
       "\t<tr><td>22</td><td> NA</td><td>54.0</td><td>male  </td></tr>\n",
       "\t<tr><td>21</td><td>165</td><td>  NA</td><td>male  </td></tr>\n",
       "\t<tr><td>14</td><td> NA</td><td>90.2</td><td>male  </td></tr>\n",
       "\t<tr><td>51</td><td>250</td><td>  NA</td><td>female</td></tr>\n",
       "\t<tr><td>41</td><td> 20</td><td>81.0</td><td>female</td></tr>\n",
       "\t<tr><td>66</td><td> NA</td><td>59.0</td><td>male  </td></tr>\n",
       "\t<tr><td>71</td><td>171</td><td>  NA</td><td>male  </td></tr>\n",
       "</tbody>\n",
       "</table>\n"
      ],
      "text/latex": [
       "A data.frame: 13 × 4\n",
       "\\begin{tabular}{llll}\n",
       " person\\_age & person\\_height & person\\_weight & person\\_gender\\\\\n",
       " <int> & <int> & <dbl> & <chr>\\\\\n",
       "\\hline\n",
       "\t 23 & 185 &   NA & male  \\\\\n",
       "\t 41 & 175 & 68.3 & male  \\\\\n",
       "\t 11 & 142 & 55.4 & female\\\\\n",
       "\t 12 &  NA & 48.2 & male  \\\\\n",
       "\t 54 & 191 &   NA & female\\\\\n",
       "\t 32 & 168 & 78.0 & female\\\\\n",
       "\t 22 &  NA & 54.0 & male  \\\\\n",
       "\t 21 & 165 &   NA & male  \\\\\n",
       "\t 14 &  NA & 90.2 & male  \\\\\n",
       "\t 51 & 250 &   NA & female\\\\\n",
       "\t 41 &  20 & 81.0 & female\\\\\n",
       "\t 66 &  NA & 59.0 & male  \\\\\n",
       "\t 71 & 171 &   NA & male  \\\\\n",
       "\\end{tabular}\n"
      ],
      "text/markdown": [
       "\n",
       "A data.frame: 13 × 4\n",
       "\n",
       "| person_age &lt;int&gt; | person_height &lt;int&gt; | person_weight &lt;dbl&gt; | person_gender &lt;chr&gt; |\n",
       "|---|---|---|---|\n",
       "| 23 | 185 |   NA | male   |\n",
       "| 41 | 175 | 68.3 | male   |\n",
       "| 11 | 142 | 55.4 | female |\n",
       "| 12 |  NA | 48.2 | male   |\n",
       "| 54 | 191 |   NA | female |\n",
       "| 32 | 168 | 78.0 | female |\n",
       "| 22 |  NA | 54.0 | male   |\n",
       "| 21 | 165 |   NA | male   |\n",
       "| 14 |  NA | 90.2 | male   |\n",
       "| 51 | 250 |   NA | female |\n",
       "| 41 |  20 | 81.0 | female |\n",
       "| 66 |  NA | 59.0 | male   |\n",
       "| 71 | 171 |   NA | male   |\n",
       "\n"
      ],
      "text/plain": [
       "   person_age person_height person_weight person_gender\n",
       "1  23         185             NA          male         \n",
       "2  41         175           68.3          male         \n",
       "3  11         142           55.4          female       \n",
       "4  12          NA           48.2          male         \n",
       "5  54         191             NA          female       \n",
       "6  32         168           78.0          female       \n",
       "7  22          NA           54.0          male         \n",
       "8  21         165             NA          male         \n",
       "9  14          NA           90.2          male         \n",
       "10 51         250             NA          female       \n",
       "11 41          20           81.0          female       \n",
       "12 66          NA           59.0          male         \n",
       "13 71         171             NA          male         "
      ]
     },
     "metadata": {},
     "output_type": "display_data"
    }
   ],
   "source": [
    "data <- read.csv(\"../../data/cleaned_titled2.csv\")\n",
    "data"
   ]
  },
  {
   "cell_type": "markdown",
   "metadata": {},
   "source": [
    "Замінимо інформацію про вагу з пропусками на `0`:"
   ]
  },
  {
   "cell_type": "code",
   "execution_count": 87,
   "metadata": {
    "cell_id": "959cf61d7db74bc1a7ce5f3ec778368f",
    "deepnote_cell_height": 66,
    "deepnote_cell_type": "code",
    "tags": [],
    "vscode": {
     "languageId": "r"
    }
   },
   "outputs": [
    {
     "data": {
      "text/html": [
       "<table class=\"dataframe\">\n",
       "<caption>A data.frame: 13 × 4</caption>\n",
       "<thead>\n",
       "\t<tr><th scope=col>person_age</th><th scope=col>person_height</th><th scope=col>person_weight</th><th scope=col>person_gender</th></tr>\n",
       "\t<tr><th scope=col>&lt;int&gt;</th><th scope=col>&lt;int&gt;</th><th scope=col>&lt;dbl&gt;</th><th scope=col>&lt;chr&gt;</th></tr>\n",
       "</thead>\n",
       "<tbody>\n",
       "\t<tr><td>23</td><td>185</td><td> 0.0</td><td>male  </td></tr>\n",
       "\t<tr><td>41</td><td>175</td><td>68.3</td><td>male  </td></tr>\n",
       "\t<tr><td>11</td><td>142</td><td>55.4</td><td>female</td></tr>\n",
       "\t<tr><td>12</td><td> NA</td><td>48.2</td><td>male  </td></tr>\n",
       "\t<tr><td>54</td><td>191</td><td> 0.0</td><td>female</td></tr>\n",
       "\t<tr><td>32</td><td>168</td><td>78.0</td><td>female</td></tr>\n",
       "\t<tr><td>22</td><td> NA</td><td>54.0</td><td>male  </td></tr>\n",
       "\t<tr><td>21</td><td>165</td><td> 0.0</td><td>male  </td></tr>\n",
       "\t<tr><td>14</td><td> NA</td><td>90.2</td><td>male  </td></tr>\n",
       "\t<tr><td>51</td><td>250</td><td> 0.0</td><td>female</td></tr>\n",
       "\t<tr><td>41</td><td> 20</td><td>81.0</td><td>female</td></tr>\n",
       "\t<tr><td>66</td><td> NA</td><td>59.0</td><td>male  </td></tr>\n",
       "\t<tr><td>71</td><td>171</td><td> 0.0</td><td>male  </td></tr>\n",
       "</tbody>\n",
       "</table>\n"
      ],
      "text/latex": [
       "A data.frame: 13 × 4\n",
       "\\begin{tabular}{llll}\n",
       " person\\_age & person\\_height & person\\_weight & person\\_gender\\\\\n",
       " <int> & <int> & <dbl> & <chr>\\\\\n",
       "\\hline\n",
       "\t 23 & 185 &  0.0 & male  \\\\\n",
       "\t 41 & 175 & 68.3 & male  \\\\\n",
       "\t 11 & 142 & 55.4 & female\\\\\n",
       "\t 12 &  NA & 48.2 & male  \\\\\n",
       "\t 54 & 191 &  0.0 & female\\\\\n",
       "\t 32 & 168 & 78.0 & female\\\\\n",
       "\t 22 &  NA & 54.0 & male  \\\\\n",
       "\t 21 & 165 &  0.0 & male  \\\\\n",
       "\t 14 &  NA & 90.2 & male  \\\\\n",
       "\t 51 & 250 &  0.0 & female\\\\\n",
       "\t 41 &  20 & 81.0 & female\\\\\n",
       "\t 66 &  NA & 59.0 & male  \\\\\n",
       "\t 71 & 171 &  0.0 & male  \\\\\n",
       "\\end{tabular}\n"
      ],
      "text/markdown": [
       "\n",
       "A data.frame: 13 × 4\n",
       "\n",
       "| person_age &lt;int&gt; | person_height &lt;int&gt; | person_weight &lt;dbl&gt; | person_gender &lt;chr&gt; |\n",
       "|---|---|---|---|\n",
       "| 23 | 185 |  0.0 | male   |\n",
       "| 41 | 175 | 68.3 | male   |\n",
       "| 11 | 142 | 55.4 | female |\n",
       "| 12 |  NA | 48.2 | male   |\n",
       "| 54 | 191 |  0.0 | female |\n",
       "| 32 | 168 | 78.0 | female |\n",
       "| 22 |  NA | 54.0 | male   |\n",
       "| 21 | 165 |  0.0 | male   |\n",
       "| 14 |  NA | 90.2 | male   |\n",
       "| 51 | 250 |  0.0 | female |\n",
       "| 41 |  20 | 81.0 | female |\n",
       "| 66 |  NA | 59.0 | male   |\n",
       "| 71 | 171 |  0.0 | male   |\n",
       "\n"
      ],
      "text/plain": [
       "   person_age person_height person_weight person_gender\n",
       "1  23         185            0.0          male         \n",
       "2  41         175           68.3          male         \n",
       "3  11         142           55.4          female       \n",
       "4  12          NA           48.2          male         \n",
       "5  54         191            0.0          female       \n",
       "6  32         168           78.0          female       \n",
       "7  22          NA           54.0          male         \n",
       "8  21         165            0.0          male         \n",
       "9  14          NA           90.2          male         \n",
       "10 51         250            0.0          female       \n",
       "11 41          20           81.0          female       \n",
       "12 66          NA           59.0          male         \n",
       "13 71         171            0.0          male         "
      ]
     },
     "metadata": {},
     "output_type": "display_data"
    }
   ],
   "source": [
    "data_w0 <- data |> mutate(person_weight = ifelse(is.na(person_weight), 0, person_weight))\n",
    "data_w0"
   ]
  },
  {
   "cell_type": "code",
   "execution_count": 88,
   "metadata": {},
   "outputs": [
    {
     "data": {
      "text/html": [
       "<table class=\"dataframe\">\n",
       "<caption>A data.frame: 13 × 4</caption>\n",
       "<thead>\n",
       "\t<tr><th scope=col>person_age</th><th scope=col>person_height</th><th scope=col>person_weight</th><th scope=col>person_gender</th></tr>\n",
       "\t<tr><th scope=col>&lt;int&gt;</th><th scope=col>&lt;int&gt;</th><th scope=col>&lt;dbl&gt;</th><th scope=col>&lt;chr&gt;</th></tr>\n",
       "</thead>\n",
       "<tbody>\n",
       "\t<tr><td>23</td><td>185</td><td> 0.0</td><td>male  </td></tr>\n",
       "\t<tr><td>41</td><td>175</td><td>68.3</td><td>male  </td></tr>\n",
       "\t<tr><td>11</td><td>142</td><td>55.4</td><td>female</td></tr>\n",
       "\t<tr><td>12</td><td> NA</td><td>48.2</td><td>male  </td></tr>\n",
       "\t<tr><td>54</td><td>191</td><td> 0.0</td><td>female</td></tr>\n",
       "\t<tr><td>32</td><td>168</td><td>78.0</td><td>female</td></tr>\n",
       "\t<tr><td>22</td><td> NA</td><td>54.0</td><td>male  </td></tr>\n",
       "\t<tr><td>21</td><td>165</td><td> 0.0</td><td>male  </td></tr>\n",
       "\t<tr><td>14</td><td> NA</td><td>90.2</td><td>male  </td></tr>\n",
       "\t<tr><td>51</td><td>250</td><td> 0.0</td><td>female</td></tr>\n",
       "\t<tr><td>41</td><td> 20</td><td>81.0</td><td>female</td></tr>\n",
       "\t<tr><td>66</td><td> NA</td><td>59.0</td><td>male  </td></tr>\n",
       "\t<tr><td>71</td><td>171</td><td> 0.0</td><td>male  </td></tr>\n",
       "</tbody>\n",
       "</table>\n"
      ],
      "text/latex": [
       "A data.frame: 13 × 4\n",
       "\\begin{tabular}{llll}\n",
       " person\\_age & person\\_height & person\\_weight & person\\_gender\\\\\n",
       " <int> & <int> & <dbl> & <chr>\\\\\n",
       "\\hline\n",
       "\t 23 & 185 &  0.0 & male  \\\\\n",
       "\t 41 & 175 & 68.3 & male  \\\\\n",
       "\t 11 & 142 & 55.4 & female\\\\\n",
       "\t 12 &  NA & 48.2 & male  \\\\\n",
       "\t 54 & 191 &  0.0 & female\\\\\n",
       "\t 32 & 168 & 78.0 & female\\\\\n",
       "\t 22 &  NA & 54.0 & male  \\\\\n",
       "\t 21 & 165 &  0.0 & male  \\\\\n",
       "\t 14 &  NA & 90.2 & male  \\\\\n",
       "\t 51 & 250 &  0.0 & female\\\\\n",
       "\t 41 &  20 & 81.0 & female\\\\\n",
       "\t 66 &  NA & 59.0 & male  \\\\\n",
       "\t 71 & 171 &  0.0 & male  \\\\\n",
       "\\end{tabular}\n"
      ],
      "text/markdown": [
       "\n",
       "A data.frame: 13 × 4\n",
       "\n",
       "| person_age &lt;int&gt; | person_height &lt;int&gt; | person_weight &lt;dbl&gt; | person_gender &lt;chr&gt; |\n",
       "|---|---|---|---|\n",
       "| 23 | 185 |  0.0 | male   |\n",
       "| 41 | 175 | 68.3 | male   |\n",
       "| 11 | 142 | 55.4 | female |\n",
       "| 12 |  NA | 48.2 | male   |\n",
       "| 54 | 191 |  0.0 | female |\n",
       "| 32 | 168 | 78.0 | female |\n",
       "| 22 |  NA | 54.0 | male   |\n",
       "| 21 | 165 |  0.0 | male   |\n",
       "| 14 |  NA | 90.2 | male   |\n",
       "| 51 | 250 |  0.0 | female |\n",
       "| 41 |  20 | 81.0 | female |\n",
       "| 66 |  NA | 59.0 | male   |\n",
       "| 71 | 171 |  0.0 | male   |\n",
       "\n"
      ],
      "text/plain": [
       "   person_age person_height person_weight person_gender\n",
       "1  23         185            0.0          male         \n",
       "2  41         175           68.3          male         \n",
       "3  11         142           55.4          female       \n",
       "4  12          NA           48.2          male         \n",
       "5  54         191            0.0          female       \n",
       "6  32         168           78.0          female       \n",
       "7  22          NA           54.0          male         \n",
       "8  21         165            0.0          male         \n",
       "9  14          NA           90.2          male         \n",
       "10 51         250            0.0          female       \n",
       "11 41          20           81.0          female       \n",
       "12 66          NA           59.0          male         \n",
       "13 71         171            0.0          male         "
      ]
     },
     "metadata": {},
     "output_type": "display_data"
    }
   ],
   "source": [
    "# Без dplyr\n",
    "data_w0 <- data\n",
    "data_w0[is.na(data_w0$person_weight), \"person_weight\"] <- 0\n",
    "data_w0"
   ]
  },
  {
   "cell_type": "markdown",
   "metadata": {},
   "source": [
    "Зробити заміну для усіх числових стовпців:"
   ]
  },
  {
   "cell_type": "code",
   "execution_count": 89,
   "metadata": {},
   "outputs": [
    {
     "name": "stderr",
     "output_type": "stream",
     "text": [
      "\n",
      "Attaching package: 'tidyr'\n",
      "\n",
      "\n",
      "The following object is masked from 'package:stringdist':\n",
      "\n",
      "    extract\n",
      "\n",
      "\n"
     ]
    },
    {
     "data": {
      "text/html": [
       "<table class=\"dataframe\">\n",
       "<caption>A data.frame: 13 × 4</caption>\n",
       "<thead>\n",
       "\t<tr><th scope=col>person_age</th><th scope=col>person_height</th><th scope=col>person_weight</th><th scope=col>person_gender</th></tr>\n",
       "\t<tr><th scope=col>&lt;int&gt;</th><th scope=col>&lt;int&gt;</th><th scope=col>&lt;dbl&gt;</th><th scope=col>&lt;chr&gt;</th></tr>\n",
       "</thead>\n",
       "<tbody>\n",
       "\t<tr><td>23</td><td>185</td><td> 0.0</td><td>male  </td></tr>\n",
       "\t<tr><td>41</td><td>175</td><td>68.3</td><td>male  </td></tr>\n",
       "\t<tr><td>11</td><td>142</td><td>55.4</td><td>female</td></tr>\n",
       "\t<tr><td>12</td><td>  0</td><td>48.2</td><td>male  </td></tr>\n",
       "\t<tr><td>54</td><td>191</td><td> 0.0</td><td>female</td></tr>\n",
       "\t<tr><td>32</td><td>168</td><td>78.0</td><td>female</td></tr>\n",
       "\t<tr><td>22</td><td>  0</td><td>54.0</td><td>male  </td></tr>\n",
       "\t<tr><td>21</td><td>165</td><td> 0.0</td><td>male  </td></tr>\n",
       "\t<tr><td>14</td><td>  0</td><td>90.2</td><td>male  </td></tr>\n",
       "\t<tr><td>51</td><td>250</td><td> 0.0</td><td>female</td></tr>\n",
       "\t<tr><td>41</td><td> 20</td><td>81.0</td><td>female</td></tr>\n",
       "\t<tr><td>66</td><td>  0</td><td>59.0</td><td>male  </td></tr>\n",
       "\t<tr><td>71</td><td>171</td><td> 0.0</td><td>male  </td></tr>\n",
       "</tbody>\n",
       "</table>\n"
      ],
      "text/latex": [
       "A data.frame: 13 × 4\n",
       "\\begin{tabular}{llll}\n",
       " person\\_age & person\\_height & person\\_weight & person\\_gender\\\\\n",
       " <int> & <int> & <dbl> & <chr>\\\\\n",
       "\\hline\n",
       "\t 23 & 185 &  0.0 & male  \\\\\n",
       "\t 41 & 175 & 68.3 & male  \\\\\n",
       "\t 11 & 142 & 55.4 & female\\\\\n",
       "\t 12 &   0 & 48.2 & male  \\\\\n",
       "\t 54 & 191 &  0.0 & female\\\\\n",
       "\t 32 & 168 & 78.0 & female\\\\\n",
       "\t 22 &   0 & 54.0 & male  \\\\\n",
       "\t 21 & 165 &  0.0 & male  \\\\\n",
       "\t 14 &   0 & 90.2 & male  \\\\\n",
       "\t 51 & 250 &  0.0 & female\\\\\n",
       "\t 41 &  20 & 81.0 & female\\\\\n",
       "\t 66 &   0 & 59.0 & male  \\\\\n",
       "\t 71 & 171 &  0.0 & male  \\\\\n",
       "\\end{tabular}\n"
      ],
      "text/markdown": [
       "\n",
       "A data.frame: 13 × 4\n",
       "\n",
       "| person_age &lt;int&gt; | person_height &lt;int&gt; | person_weight &lt;dbl&gt; | person_gender &lt;chr&gt; |\n",
       "|---|---|---|---|\n",
       "| 23 | 185 |  0.0 | male   |\n",
       "| 41 | 175 | 68.3 | male   |\n",
       "| 11 | 142 | 55.4 | female |\n",
       "| 12 |   0 | 48.2 | male   |\n",
       "| 54 | 191 |  0.0 | female |\n",
       "| 32 | 168 | 78.0 | female |\n",
       "| 22 |   0 | 54.0 | male   |\n",
       "| 21 | 165 |  0.0 | male   |\n",
       "| 14 |   0 | 90.2 | male   |\n",
       "| 51 | 250 |  0.0 | female |\n",
       "| 41 |  20 | 81.0 | female |\n",
       "| 66 |   0 | 59.0 | male   |\n",
       "| 71 | 171 |  0.0 | male   |\n",
       "\n"
      ],
      "text/plain": [
       "   person_age person_height person_weight person_gender\n",
       "1  23         185            0.0          male         \n",
       "2  41         175           68.3          male         \n",
       "3  11         142           55.4          female       \n",
       "4  12           0           48.2          male         \n",
       "5  54         191            0.0          female       \n",
       "6  32         168           78.0          female       \n",
       "7  22           0           54.0          male         \n",
       "8  21         165            0.0          male         \n",
       "9  14           0           90.2          male         \n",
       "10 51         250            0.0          female       \n",
       "11 41          20           81.0          female       \n",
       "12 66           0           59.0          male         \n",
       "13 71         171            0.0          male         "
      ]
     },
     "metadata": {},
     "output_type": "display_data"
    }
   ],
   "source": [
    "library(tidyr) # for replace_na()\n",
    "data_all <- data |> mutate_if(is.numeric , replace_na, replace = 0)\n",
    "data_all"
   ]
  },
  {
   "cell_type": "markdown",
   "metadata": {},
   "source": [
    "---"
   ]
  },
  {
   "cell_type": "markdown",
   "metadata": {},
   "source": [
    "#### 3.3.2. Базова числова заміна пропусків"
   ]
  },
  {
   "cell_type": "markdown",
   "metadata": {},
   "source": [
    "Заміна на константи або обчислені значення є стандарним підходом. Так, наприклад, заміна певного значення на середнє матиме вигляд:"
   ]
  },
  {
   "cell_type": "code",
   "execution_count": 90,
   "metadata": {},
   "outputs": [
    {
     "data": {
      "text/html": [
       "<table class=\"dataframe\">\n",
       "<caption>A data.frame: 13 × 4</caption>\n",
       "<thead>\n",
       "\t<tr><th scope=col>person_age</th><th scope=col>person_height</th><th scope=col>person_weight</th><th scope=col>person_gender</th></tr>\n",
       "\t<tr><th scope=col>&lt;int&gt;</th><th scope=col>&lt;int&gt;</th><th scope=col>&lt;dbl&gt;</th><th scope=col>&lt;chr&gt;</th></tr>\n",
       "</thead>\n",
       "<tbody>\n",
       "\t<tr><td>23</td><td>185</td><td>66.7625</td><td>male  </td></tr>\n",
       "\t<tr><td>41</td><td>175</td><td>68.3000</td><td>male  </td></tr>\n",
       "\t<tr><td>11</td><td>142</td><td>55.4000</td><td>female</td></tr>\n",
       "\t<tr><td>12</td><td> NA</td><td>48.2000</td><td>male  </td></tr>\n",
       "\t<tr><td>54</td><td>191</td><td>66.7625</td><td>female</td></tr>\n",
       "\t<tr><td>32</td><td>168</td><td>78.0000</td><td>female</td></tr>\n",
       "\t<tr><td>22</td><td> NA</td><td>54.0000</td><td>male  </td></tr>\n",
       "\t<tr><td>21</td><td>165</td><td>66.7625</td><td>male  </td></tr>\n",
       "\t<tr><td>14</td><td> NA</td><td>90.2000</td><td>male  </td></tr>\n",
       "\t<tr><td>51</td><td>250</td><td>66.7625</td><td>female</td></tr>\n",
       "\t<tr><td>41</td><td> 20</td><td>81.0000</td><td>female</td></tr>\n",
       "\t<tr><td>66</td><td> NA</td><td>59.0000</td><td>male  </td></tr>\n",
       "\t<tr><td>71</td><td>171</td><td>66.7625</td><td>male  </td></tr>\n",
       "</tbody>\n",
       "</table>\n"
      ],
      "text/latex": [
       "A data.frame: 13 × 4\n",
       "\\begin{tabular}{llll}\n",
       " person\\_age & person\\_height & person\\_weight & person\\_gender\\\\\n",
       " <int> & <int> & <dbl> & <chr>\\\\\n",
       "\\hline\n",
       "\t 23 & 185 & 66.7625 & male  \\\\\n",
       "\t 41 & 175 & 68.3000 & male  \\\\\n",
       "\t 11 & 142 & 55.4000 & female\\\\\n",
       "\t 12 &  NA & 48.2000 & male  \\\\\n",
       "\t 54 & 191 & 66.7625 & female\\\\\n",
       "\t 32 & 168 & 78.0000 & female\\\\\n",
       "\t 22 &  NA & 54.0000 & male  \\\\\n",
       "\t 21 & 165 & 66.7625 & male  \\\\\n",
       "\t 14 &  NA & 90.2000 & male  \\\\\n",
       "\t 51 & 250 & 66.7625 & female\\\\\n",
       "\t 41 &  20 & 81.0000 & female\\\\\n",
       "\t 66 &  NA & 59.0000 & male  \\\\\n",
       "\t 71 & 171 & 66.7625 & male  \\\\\n",
       "\\end{tabular}\n"
      ],
      "text/markdown": [
       "\n",
       "A data.frame: 13 × 4\n",
       "\n",
       "| person_age &lt;int&gt; | person_height &lt;int&gt; | person_weight &lt;dbl&gt; | person_gender &lt;chr&gt; |\n",
       "|---|---|---|---|\n",
       "| 23 | 185 | 66.7625 | male   |\n",
       "| 41 | 175 | 68.3000 | male   |\n",
       "| 11 | 142 | 55.4000 | female |\n",
       "| 12 |  NA | 48.2000 | male   |\n",
       "| 54 | 191 | 66.7625 | female |\n",
       "| 32 | 168 | 78.0000 | female |\n",
       "| 22 |  NA | 54.0000 | male   |\n",
       "| 21 | 165 | 66.7625 | male   |\n",
       "| 14 |  NA | 90.2000 | male   |\n",
       "| 51 | 250 | 66.7625 | female |\n",
       "| 41 |  20 | 81.0000 | female |\n",
       "| 66 |  NA | 59.0000 | male   |\n",
       "| 71 | 171 | 66.7625 | male   |\n",
       "\n"
      ],
      "text/plain": [
       "   person_age person_height person_weight person_gender\n",
       "1  23         185           66.7625       male         \n",
       "2  41         175           68.3000       male         \n",
       "3  11         142           55.4000       female       \n",
       "4  12          NA           48.2000       male         \n",
       "5  54         191           66.7625       female       \n",
       "6  32         168           78.0000       female       \n",
       "7  22          NA           54.0000       male         \n",
       "8  21         165           66.7625       male         \n",
       "9  14          NA           90.2000       male         \n",
       "10 51         250           66.7625       female       \n",
       "11 41          20           81.0000       female       \n",
       "12 66          NA           59.0000       male         \n",
       "13 71         171           66.7625       male         "
      ]
     },
     "metadata": {},
     "output_type": "display_data"
    }
   ],
   "source": [
    "data_m <- data |> mutate(person_weight = ifelse(is.na(person_weight), mean(data$person_weight, na.rm = T), person_weight))\n",
    "data_m"
   ]
  },
  {
   "cell_type": "markdown",
   "metadata": {},
   "source": [
    "Заміна на min, max, median не відрізняється."
   ]
  },
  {
   "cell_type": "markdown",
   "metadata": {},
   "source": [
    "Якщо виникає потреба замінити, наприклад, усі значення на медіану у всіх стовпцях за один прохід можна скористатися функцією `mutate_if()`:"
   ]
  },
  {
   "cell_type": "code",
   "execution_count": 91,
   "metadata": {},
   "outputs": [
    {
     "data": {
      "text/html": [
       "<table class=\"dataframe\">\n",
       "<caption>A data.frame: 13 × 4</caption>\n",
       "<thead>\n",
       "\t<tr><th scope=col>person_age</th><th scope=col>person_height</th><th scope=col>person_weight</th><th scope=col>person_gender</th></tr>\n",
       "\t<tr><th scope=col>&lt;int&gt;</th><th scope=col>&lt;int&gt;</th><th scope=col>&lt;dbl&gt;</th><th scope=col>&lt;chr&gt;</th></tr>\n",
       "</thead>\n",
       "<tbody>\n",
       "\t<tr><td>23</td><td>185</td><td>63.65</td><td>male  </td></tr>\n",
       "\t<tr><td>41</td><td>175</td><td>68.30</td><td>male  </td></tr>\n",
       "\t<tr><td>11</td><td>142</td><td>55.40</td><td>female</td></tr>\n",
       "\t<tr><td>12</td><td>171</td><td>48.20</td><td>male  </td></tr>\n",
       "\t<tr><td>54</td><td>191</td><td>63.65</td><td>female</td></tr>\n",
       "\t<tr><td>32</td><td>168</td><td>78.00</td><td>female</td></tr>\n",
       "\t<tr><td>22</td><td>171</td><td>54.00</td><td>male  </td></tr>\n",
       "\t<tr><td>21</td><td>165</td><td>63.65</td><td>male  </td></tr>\n",
       "\t<tr><td>14</td><td>171</td><td>90.20</td><td>male  </td></tr>\n",
       "\t<tr><td>51</td><td>250</td><td>63.65</td><td>female</td></tr>\n",
       "\t<tr><td>41</td><td> 20</td><td>81.00</td><td>female</td></tr>\n",
       "\t<tr><td>66</td><td>171</td><td>59.00</td><td>male  </td></tr>\n",
       "\t<tr><td>71</td><td>171</td><td>63.65</td><td>male  </td></tr>\n",
       "</tbody>\n",
       "</table>\n"
      ],
      "text/latex": [
       "A data.frame: 13 × 4\n",
       "\\begin{tabular}{llll}\n",
       " person\\_age & person\\_height & person\\_weight & person\\_gender\\\\\n",
       " <int> & <int> & <dbl> & <chr>\\\\\n",
       "\\hline\n",
       "\t 23 & 185 & 63.65 & male  \\\\\n",
       "\t 41 & 175 & 68.30 & male  \\\\\n",
       "\t 11 & 142 & 55.40 & female\\\\\n",
       "\t 12 & 171 & 48.20 & male  \\\\\n",
       "\t 54 & 191 & 63.65 & female\\\\\n",
       "\t 32 & 168 & 78.00 & female\\\\\n",
       "\t 22 & 171 & 54.00 & male  \\\\\n",
       "\t 21 & 165 & 63.65 & male  \\\\\n",
       "\t 14 & 171 & 90.20 & male  \\\\\n",
       "\t 51 & 250 & 63.65 & female\\\\\n",
       "\t 41 &  20 & 81.00 & female\\\\\n",
       "\t 66 & 171 & 59.00 & male  \\\\\n",
       "\t 71 & 171 & 63.65 & male  \\\\\n",
       "\\end{tabular}\n"
      ],
      "text/markdown": [
       "\n",
       "A data.frame: 13 × 4\n",
       "\n",
       "| person_age &lt;int&gt; | person_height &lt;int&gt; | person_weight &lt;dbl&gt; | person_gender &lt;chr&gt; |\n",
       "|---|---|---|---|\n",
       "| 23 | 185 | 63.65 | male   |\n",
       "| 41 | 175 | 68.30 | male   |\n",
       "| 11 | 142 | 55.40 | female |\n",
       "| 12 | 171 | 48.20 | male   |\n",
       "| 54 | 191 | 63.65 | female |\n",
       "| 32 | 168 | 78.00 | female |\n",
       "| 22 | 171 | 54.00 | male   |\n",
       "| 21 | 165 | 63.65 | male   |\n",
       "| 14 | 171 | 90.20 | male   |\n",
       "| 51 | 250 | 63.65 | female |\n",
       "| 41 |  20 | 81.00 | female |\n",
       "| 66 | 171 | 59.00 | male   |\n",
       "| 71 | 171 | 63.65 | male   |\n",
       "\n"
      ],
      "text/plain": [
       "   person_age person_height person_weight person_gender\n",
       "1  23         185           63.65         male         \n",
       "2  41         175           68.30         male         \n",
       "3  11         142           55.40         female       \n",
       "4  12         171           48.20         male         \n",
       "5  54         191           63.65         female       \n",
       "6  32         168           78.00         female       \n",
       "7  22         171           54.00         male         \n",
       "8  21         165           63.65         male         \n",
       "9  14         171           90.20         male         \n",
       "10 51         250           63.65         female       \n",
       "11 41          20           81.00         female       \n",
       "12 66         171           59.00         male         \n",
       "13 71         171           63.65         male         "
      ]
     },
     "metadata": {},
     "output_type": "display_data"
    }
   ],
   "source": [
    "data_all <- data |> mutate_if(is.numeric, function(x) ifelse(is.na(x), median(x, na.rm = T), x))\n",
    "data_all"
   ]
  },
  {
   "cell_type": "markdown",
   "metadata": {},
   "source": [
    "Розгялнемо кілька бібліотек для перевірки даних на наявність про"
   ]
  },
  {
   "cell_type": "markdown",
   "metadata": {},
   "source": [
    "Ще одним із варіантів заміни значень може бути використання бібліотеки `Hmisc`:"
   ]
  },
  {
   "cell_type": "code",
   "execution_count": 92,
   "metadata": {},
   "outputs": [
    {
     "data": {
      "text/html": [
       "<table class=\"dataframe\">\n",
       "<caption>A data.frame: 13 × 4</caption>\n",
       "<thead>\n",
       "\t<tr><th scope=col>person_age</th><th scope=col>person_height</th><th scope=col>person_weight</th><th scope=col>person_gender</th></tr>\n",
       "\t<tr><th scope=col>&lt;int&gt;</th><th scope=col>&lt;int&gt;</th><th scope=col>&lt;impute&gt;</th><th scope=col>&lt;chr&gt;</th></tr>\n",
       "</thead>\n",
       "<tbody>\n",
       "\t<tr><td>23</td><td>185</td><td>66.7625</td><td>male  </td></tr>\n",
       "\t<tr><td>41</td><td>175</td><td>68.3000</td><td>male  </td></tr>\n",
       "\t<tr><td>11</td><td>142</td><td>55.4000</td><td>female</td></tr>\n",
       "\t<tr><td>12</td><td> NA</td><td>48.2000</td><td>male  </td></tr>\n",
       "\t<tr><td>54</td><td>191</td><td>66.7625</td><td>female</td></tr>\n",
       "\t<tr><td>32</td><td>168</td><td>78.0000</td><td>female</td></tr>\n",
       "\t<tr><td>22</td><td> NA</td><td>54.0000</td><td>male  </td></tr>\n",
       "\t<tr><td>21</td><td>165</td><td>66.7625</td><td>male  </td></tr>\n",
       "\t<tr><td>14</td><td> NA</td><td>90.2000</td><td>male  </td></tr>\n",
       "\t<tr><td>51</td><td>250</td><td>66.7625</td><td>female</td></tr>\n",
       "\t<tr><td>41</td><td> 20</td><td>81.0000</td><td>female</td></tr>\n",
       "\t<tr><td>66</td><td> NA</td><td>59.0000</td><td>male  </td></tr>\n",
       "\t<tr><td>71</td><td>171</td><td>66.7625</td><td>male  </td></tr>\n",
       "</tbody>\n",
       "</table>\n"
      ],
      "text/latex": [
       "A data.frame: 13 × 4\n",
       "\\begin{tabular}{llll}\n",
       " person\\_age & person\\_height & person\\_weight & person\\_gender\\\\\n",
       " <int> & <int> & <impute> & <chr>\\\\\n",
       "\\hline\n",
       "\t 23 & 185 & 66.7625 & male  \\\\\n",
       "\t 41 & 175 & 68.3000 & male  \\\\\n",
       "\t 11 & 142 & 55.4000 & female\\\\\n",
       "\t 12 &  NA & 48.2000 & male  \\\\\n",
       "\t 54 & 191 & 66.7625 & female\\\\\n",
       "\t 32 & 168 & 78.0000 & female\\\\\n",
       "\t 22 &  NA & 54.0000 & male  \\\\\n",
       "\t 21 & 165 & 66.7625 & male  \\\\\n",
       "\t 14 &  NA & 90.2000 & male  \\\\\n",
       "\t 51 & 250 & 66.7625 & female\\\\\n",
       "\t 41 &  20 & 81.0000 & female\\\\\n",
       "\t 66 &  NA & 59.0000 & male  \\\\\n",
       "\t 71 & 171 & 66.7625 & male  \\\\\n",
       "\\end{tabular}\n"
      ],
      "text/markdown": [
       "\n",
       "A data.frame: 13 × 4\n",
       "\n",
       "| person_age &lt;int&gt; | person_height &lt;int&gt; | person_weight &lt;impute&gt; | person_gender &lt;chr&gt; |\n",
       "|---|---|---|---|\n",
       "| 23 | 185 | 66.7625 | male   |\n",
       "| 41 | 175 | 68.3000 | male   |\n",
       "| 11 | 142 | 55.4000 | female |\n",
       "| 12 |  NA | 48.2000 | male   |\n",
       "| 54 | 191 | 66.7625 | female |\n",
       "| 32 | 168 | 78.0000 | female |\n",
       "| 22 |  NA | 54.0000 | male   |\n",
       "| 21 | 165 | 66.7625 | male   |\n",
       "| 14 |  NA | 90.2000 | male   |\n",
       "| 51 | 250 | 66.7625 | female |\n",
       "| 41 |  20 | 81.0000 | female |\n",
       "| 66 |  NA | 59.0000 | male   |\n",
       "| 71 | 171 | 66.7625 | male   |\n",
       "\n"
      ],
      "text/plain": [
       "   person_age person_height person_weight person_gender\n",
       "1  23         185           66.7625       male         \n",
       "2  41         175           68.3000       male         \n",
       "3  11         142           55.4000       female       \n",
       "4  12          NA           48.2000       male         \n",
       "5  54         191           66.7625       female       \n",
       "6  32         168           78.0000       female       \n",
       "7  22          NA           54.0000       male         \n",
       "8  21         165           66.7625       male         \n",
       "9  14          NA           90.2000       male         \n",
       "10 51         250           66.7625       female       \n",
       "11 41          20           81.0000       female       \n",
       "12 66          NA           59.0000       male         \n",
       "13 71         171           66.7625       male         "
      ]
     },
     "metadata": {},
     "output_type": "display_data"
    }
   ],
   "source": [
    "library(Hmisc)\n",
    "data_wm <- data |> mutate(person_weight = impute(data$person_weight, fun = mean)) # mean imputation\n",
    "# Аналогічно можна замінити на min,max, median чи інші функції\n",
    "data_wm \n",
    "# * Значення із * - замінені"
   ]
  },
  {
   "cell_type": "markdown",
   "metadata": {},
   "source": [
    "---"
   ]
  },
  {
   "cell_type": "markdown",
   "metadata": {},
   "source": [
    "#### 3.3.3. Hot deck imputation (як перекласти???)"
   ]
  },
  {
   "cell_type": "markdown",
   "metadata": {},
   "source": [
    "Метод `Hot deck imputation` передбачає, що пропущені значення обчислюються шляхом копіювання значень із подібних записів у тому ж наборі даних.\n",
    "\n",
    "Основне питання при `Hot deck imputation` полягає в тому, як вибрати значення заміни. Одним із поширених підходів є випадковий відбір:"
   ]
  },
  {
   "cell_type": "code",
   "execution_count": 93,
   "metadata": {},
   "outputs": [
    {
     "data": {
      "text/html": [
       "<table class=\"dataframe\">\n",
       "<caption>A data.frame: 13 × 4</caption>\n",
       "<thead>\n",
       "\t<tr><th scope=col>person_age</th><th scope=col>person_height</th><th scope=col>person_weight</th><th scope=col>person_gender</th></tr>\n",
       "\t<tr><th scope=col>&lt;int&gt;</th><th scope=col>&lt;int&gt;</th><th scope=col>&lt;impute&gt;</th><th scope=col>&lt;chr&gt;</th></tr>\n",
       "</thead>\n",
       "<tbody>\n",
       "\t<tr><td>23</td><td>185</td><td>59.0</td><td>male  </td></tr>\n",
       "\t<tr><td>41</td><td>175</td><td>68.3</td><td>male  </td></tr>\n",
       "\t<tr><td>11</td><td>142</td><td>55.4</td><td>female</td></tr>\n",
       "\t<tr><td>12</td><td> NA</td><td>48.2</td><td>male  </td></tr>\n",
       "\t<tr><td>54</td><td>191</td><td>78.0</td><td>female</td></tr>\n",
       "\t<tr><td>32</td><td>168</td><td>78.0</td><td>female</td></tr>\n",
       "\t<tr><td>22</td><td> NA</td><td>54.0</td><td>male  </td></tr>\n",
       "\t<tr><td>21</td><td>165</td><td>68.3</td><td>male  </td></tr>\n",
       "\t<tr><td>14</td><td> NA</td><td>90.2</td><td>male  </td></tr>\n",
       "\t<tr><td>51</td><td>250</td><td>48.2</td><td>female</td></tr>\n",
       "\t<tr><td>41</td><td> 20</td><td>81.0</td><td>female</td></tr>\n",
       "\t<tr><td>66</td><td> NA</td><td>59.0</td><td>male  </td></tr>\n",
       "\t<tr><td>71</td><td>171</td><td>90.2</td><td>male  </td></tr>\n",
       "</tbody>\n",
       "</table>\n"
      ],
      "text/latex": [
       "A data.frame: 13 × 4\n",
       "\\begin{tabular}{llll}\n",
       " person\\_age & person\\_height & person\\_weight & person\\_gender\\\\\n",
       " <int> & <int> & <impute> & <chr>\\\\\n",
       "\\hline\n",
       "\t 23 & 185 & 59.0 & male  \\\\\n",
       "\t 41 & 175 & 68.3 & male  \\\\\n",
       "\t 11 & 142 & 55.4 & female\\\\\n",
       "\t 12 &  NA & 48.2 & male  \\\\\n",
       "\t 54 & 191 & 78.0 & female\\\\\n",
       "\t 32 & 168 & 78.0 & female\\\\\n",
       "\t 22 &  NA & 54.0 & male  \\\\\n",
       "\t 21 & 165 & 68.3 & male  \\\\\n",
       "\t 14 &  NA & 90.2 & male  \\\\\n",
       "\t 51 & 250 & 48.2 & female\\\\\n",
       "\t 41 &  20 & 81.0 & female\\\\\n",
       "\t 66 &  NA & 59.0 & male  \\\\\n",
       "\t 71 & 171 & 90.2 & male  \\\\\n",
       "\\end{tabular}\n"
      ],
      "text/markdown": [
       "\n",
       "A data.frame: 13 × 4\n",
       "\n",
       "| person_age &lt;int&gt; | person_height &lt;int&gt; | person_weight &lt;impute&gt; | person_gender &lt;chr&gt; |\n",
       "|---|---|---|---|\n",
       "| 23 | 185 | 59.0 | male   |\n",
       "| 41 | 175 | 68.3 | male   |\n",
       "| 11 | 142 | 55.4 | female |\n",
       "| 12 |  NA | 48.2 | male   |\n",
       "| 54 | 191 | 78.0 | female |\n",
       "| 32 | 168 | 78.0 | female |\n",
       "| 22 |  NA | 54.0 | male   |\n",
       "| 21 | 165 | 68.3 | male   |\n",
       "| 14 |  NA | 90.2 | male   |\n",
       "| 51 | 250 | 48.2 | female |\n",
       "| 41 |  20 | 81.0 | female |\n",
       "| 66 |  NA | 59.0 | male   |\n",
       "| 71 | 171 | 90.2 | male   |\n",
       "\n"
      ],
      "text/plain": [
       "   person_age person_height person_weight person_gender\n",
       "1  23         185           59.0          male         \n",
       "2  41         175           68.3          male         \n",
       "3  11         142           55.4          female       \n",
       "4  12          NA           48.2          male         \n",
       "5  54         191           78.0          female       \n",
       "6  32         168           78.0          female       \n",
       "7  22          NA           54.0          male         \n",
       "8  21         165           68.3          male         \n",
       "9  14          NA           90.2          male         \n",
       "10 51         250           48.2          female       \n",
       "11 41          20           81.0          female       \n",
       "12 66          NA           59.0          male         \n",
       "13 71         171           90.2          male         "
      ]
     },
     "metadata": {},
     "output_type": "display_data"
    }
   ],
   "source": [
    "# set.seed(1)\n",
    "data_hot <- data |> mutate(person_weight = impute(data$person_weight, \"random\")) \n",
    "data_hot "
   ]
  },
  {
   "cell_type": "markdown",
   "metadata": {},
   "source": [
    "Вихідне значення залежить від значення `seed`."
   ]
  },
  {
   "cell_type": "markdown",
   "metadata": {},
   "source": [
    "#### 3.3.4. Сегментна заміна пропусків"
   ]
  },
  {
   "cell_type": "markdown",
   "metadata": {},
   "source": [
    "Заміна по сегментах часто дозволяє будувати точніші математичні моделі, адже групові середні краще описують явища і процеси, ніж загальні для всієї вибірки."
   ]
  },
  {
   "cell_type": "markdown",
   "metadata": {},
   "source": [
    "Знайдемо середні значення ваги за статтю та використаємо ці значення для заміни пропусків у даних."
   ]
  },
  {
   "cell_type": "code",
   "execution_count": 94,
   "metadata": {},
   "outputs": [
    {
     "data": {
      "text/html": [
       "<table class=\"dataframe\">\n",
       "<caption>A grouped_df: 13 × 4</caption>\n",
       "<thead>\n",
       "\t<tr><th scope=col>person_age</th><th scope=col>person_height</th><th scope=col>person_weight</th><th scope=col>person_gender</th></tr>\n",
       "\t<tr><th scope=col>&lt;int&gt;</th><th scope=col>&lt;int&gt;</th><th scope=col>&lt;dbl&gt;</th><th scope=col>&lt;chr&gt;</th></tr>\n",
       "</thead>\n",
       "<tbody>\n",
       "\t<tr><td>23</td><td>185</td><td>63.94000</td><td>male  </td></tr>\n",
       "\t<tr><td>41</td><td>175</td><td>68.30000</td><td>male  </td></tr>\n",
       "\t<tr><td>11</td><td>142</td><td>55.40000</td><td>female</td></tr>\n",
       "\t<tr><td>12</td><td> NA</td><td>48.20000</td><td>male  </td></tr>\n",
       "\t<tr><td>54</td><td>191</td><td>71.46667</td><td>female</td></tr>\n",
       "\t<tr><td>32</td><td>168</td><td>78.00000</td><td>female</td></tr>\n",
       "\t<tr><td>22</td><td> NA</td><td>54.00000</td><td>male  </td></tr>\n",
       "\t<tr><td>21</td><td>165</td><td>63.94000</td><td>male  </td></tr>\n",
       "\t<tr><td>14</td><td> NA</td><td>90.20000</td><td>male  </td></tr>\n",
       "\t<tr><td>51</td><td>250</td><td>71.46667</td><td>female</td></tr>\n",
       "\t<tr><td>41</td><td> 20</td><td>81.00000</td><td>female</td></tr>\n",
       "\t<tr><td>66</td><td> NA</td><td>59.00000</td><td>male  </td></tr>\n",
       "\t<tr><td>71</td><td>171</td><td>63.94000</td><td>male  </td></tr>\n",
       "</tbody>\n",
       "</table>\n"
      ],
      "text/latex": [
       "A grouped\\_df: 13 × 4\n",
       "\\begin{tabular}{llll}\n",
       " person\\_age & person\\_height & person\\_weight & person\\_gender\\\\\n",
       " <int> & <int> & <dbl> & <chr>\\\\\n",
       "\\hline\n",
       "\t 23 & 185 & 63.94000 & male  \\\\\n",
       "\t 41 & 175 & 68.30000 & male  \\\\\n",
       "\t 11 & 142 & 55.40000 & female\\\\\n",
       "\t 12 &  NA & 48.20000 & male  \\\\\n",
       "\t 54 & 191 & 71.46667 & female\\\\\n",
       "\t 32 & 168 & 78.00000 & female\\\\\n",
       "\t 22 &  NA & 54.00000 & male  \\\\\n",
       "\t 21 & 165 & 63.94000 & male  \\\\\n",
       "\t 14 &  NA & 90.20000 & male  \\\\\n",
       "\t 51 & 250 & 71.46667 & female\\\\\n",
       "\t 41 &  20 & 81.00000 & female\\\\\n",
       "\t 66 &  NA & 59.00000 & male  \\\\\n",
       "\t 71 & 171 & 63.94000 & male  \\\\\n",
       "\\end{tabular}\n"
      ],
      "text/markdown": [
       "\n",
       "A grouped_df: 13 × 4\n",
       "\n",
       "| person_age &lt;int&gt; | person_height &lt;int&gt; | person_weight &lt;dbl&gt; | person_gender &lt;chr&gt; |\n",
       "|---|---|---|---|\n",
       "| 23 | 185 | 63.94000 | male   |\n",
       "| 41 | 175 | 68.30000 | male   |\n",
       "| 11 | 142 | 55.40000 | female |\n",
       "| 12 |  NA | 48.20000 | male   |\n",
       "| 54 | 191 | 71.46667 | female |\n",
       "| 32 | 168 | 78.00000 | female |\n",
       "| 22 |  NA | 54.00000 | male   |\n",
       "| 21 | 165 | 63.94000 | male   |\n",
       "| 14 |  NA | 90.20000 | male   |\n",
       "| 51 | 250 | 71.46667 | female |\n",
       "| 41 |  20 | 81.00000 | female |\n",
       "| 66 |  NA | 59.00000 | male   |\n",
       "| 71 | 171 | 63.94000 | male   |\n",
       "\n"
      ],
      "text/plain": [
       "   person_age person_height person_weight person_gender\n",
       "1  23         185           63.94000      male         \n",
       "2  41         175           68.30000      male         \n",
       "3  11         142           55.40000      female       \n",
       "4  12          NA           48.20000      male         \n",
       "5  54         191           71.46667      female       \n",
       "6  32         168           78.00000      female       \n",
       "7  22          NA           54.00000      male         \n",
       "8  21         165           63.94000      male         \n",
       "9  14          NA           90.20000      male         \n",
       "10 51         250           71.46667      female       \n",
       "11 41          20           81.00000      female       \n",
       "12 66          NA           59.00000      male         \n",
       "13 71         171           63.94000      male         "
      ]
     },
     "metadata": {},
     "output_type": "display_data"
    }
   ],
   "source": [
    "data_sgm <- data |> \n",
    "                group_by(person_gender) |>\n",
    "                mutate(person_weight = replace_na(person_weight, mean(person_weight, na.rm = TRUE)))\n",
    "data_sgm"
   ]
  },
  {
   "cell_type": "markdown",
   "metadata": {},
   "source": [
    "Також можна здійснити заміну значень по усіх стовпцях датасету за один раз. Проте не варто такий підхід використовувати постійно, а враховувати бізнес-логіку процесів, що вивчаються."
   ]
  },
  {
   "cell_type": "code",
   "execution_count": 95,
   "metadata": {},
   "outputs": [
    {
     "data": {
      "text/html": [
       "<table class=\"dataframe\">\n",
       "<caption>A grouped_df: 13 × 4</caption>\n",
       "<thead>\n",
       "\t<tr><th scope=col>person_age</th><th scope=col>person_height</th><th scope=col>person_weight</th><th scope=col>person_gender</th></tr>\n",
       "\t<tr><th scope=col>&lt;int&gt;</th><th scope=col>&lt;int&gt;</th><th scope=col>&lt;dbl&gt;</th><th scope=col>&lt;chr&gt;</th></tr>\n",
       "</thead>\n",
       "<tbody>\n",
       "\t<tr><td>23</td><td>185</td><td>48.2</td><td>male  </td></tr>\n",
       "\t<tr><td>41</td><td>175</td><td>68.3</td><td>male  </td></tr>\n",
       "\t<tr><td>11</td><td>142</td><td>55.4</td><td>female</td></tr>\n",
       "\t<tr><td>12</td><td>165</td><td>48.2</td><td>male  </td></tr>\n",
       "\t<tr><td>54</td><td>191</td><td>55.4</td><td>female</td></tr>\n",
       "\t<tr><td>32</td><td>168</td><td>78.0</td><td>female</td></tr>\n",
       "\t<tr><td>22</td><td>165</td><td>54.0</td><td>male  </td></tr>\n",
       "\t<tr><td>21</td><td>165</td><td>48.2</td><td>male  </td></tr>\n",
       "\t<tr><td>14</td><td>165</td><td>90.2</td><td>male  </td></tr>\n",
       "\t<tr><td>51</td><td>250</td><td>55.4</td><td>female</td></tr>\n",
       "\t<tr><td>41</td><td> 20</td><td>81.0</td><td>female</td></tr>\n",
       "\t<tr><td>66</td><td>165</td><td>59.0</td><td>male  </td></tr>\n",
       "\t<tr><td>71</td><td>171</td><td>48.2</td><td>male  </td></tr>\n",
       "</tbody>\n",
       "</table>\n"
      ],
      "text/latex": [
       "A grouped\\_df: 13 × 4\n",
       "\\begin{tabular}{llll}\n",
       " person\\_age & person\\_height & person\\_weight & person\\_gender\\\\\n",
       " <int> & <int> & <dbl> & <chr>\\\\\n",
       "\\hline\n",
       "\t 23 & 185 & 48.2 & male  \\\\\n",
       "\t 41 & 175 & 68.3 & male  \\\\\n",
       "\t 11 & 142 & 55.4 & female\\\\\n",
       "\t 12 & 165 & 48.2 & male  \\\\\n",
       "\t 54 & 191 & 55.4 & female\\\\\n",
       "\t 32 & 168 & 78.0 & female\\\\\n",
       "\t 22 & 165 & 54.0 & male  \\\\\n",
       "\t 21 & 165 & 48.2 & male  \\\\\n",
       "\t 14 & 165 & 90.2 & male  \\\\\n",
       "\t 51 & 250 & 55.4 & female\\\\\n",
       "\t 41 &  20 & 81.0 & female\\\\\n",
       "\t 66 & 165 & 59.0 & male  \\\\\n",
       "\t 71 & 171 & 48.2 & male  \\\\\n",
       "\\end{tabular}\n"
      ],
      "text/markdown": [
       "\n",
       "A grouped_df: 13 × 4\n",
       "\n",
       "| person_age &lt;int&gt; | person_height &lt;int&gt; | person_weight &lt;dbl&gt; | person_gender &lt;chr&gt; |\n",
       "|---|---|---|---|\n",
       "| 23 | 185 | 48.2 | male   |\n",
       "| 41 | 175 | 68.3 | male   |\n",
       "| 11 | 142 | 55.4 | female |\n",
       "| 12 | 165 | 48.2 | male   |\n",
       "| 54 | 191 | 55.4 | female |\n",
       "| 32 | 168 | 78.0 | female |\n",
       "| 22 | 165 | 54.0 | male   |\n",
       "| 21 | 165 | 48.2 | male   |\n",
       "| 14 | 165 | 90.2 | male   |\n",
       "| 51 | 250 | 55.4 | female |\n",
       "| 41 |  20 | 81.0 | female |\n",
       "| 66 | 165 | 59.0 | male   |\n",
       "| 71 | 171 | 48.2 | male   |\n",
       "\n"
      ],
      "text/plain": [
       "   person_age person_height person_weight person_gender\n",
       "1  23         185           48.2          male         \n",
       "2  41         175           68.3          male         \n",
       "3  11         142           55.4          female       \n",
       "4  12         165           48.2          male         \n",
       "5  54         191           55.4          female       \n",
       "6  32         168           78.0          female       \n",
       "7  22         165           54.0          male         \n",
       "8  21         165           48.2          male         \n",
       "9  14         165           90.2          male         \n",
       "10 51         250           55.4          female       \n",
       "11 41          20           81.0          female       \n",
       "12 66         165           59.0          male         \n",
       "13 71         171           48.2          male         "
      ]
     },
     "metadata": {},
     "output_type": "display_data"
    }
   ],
   "source": [
    "data_sgm2 <- data %>% \n",
    "  group_by(person_gender) %>% \n",
    "    mutate(\n",
    "      across(everything(), ~replace_na(.x, min(.x, na.rm = TRUE)))\n",
    "    )\n",
    "data_sgm2"
   ]
  },
  {
   "cell_type": "markdown",
   "metadata": {},
   "source": [
    "Якщо ж є потреба замінювати по окремих стовпцях, то їх можна вказати замість `everything()`: `across(c(\"person_height\", \"person_weight\"), ~replace_na(.x, min(.x, na.rm = TRUE)))`."
   ]
  },
  {
   "cell_type": "markdown",
   "metadata": {},
   "source": [
    "Іншим варіантом може бути вказання номерів колонок: `across(c(1,3), ~replace_na(.x, min(.x, na.rm = TRUE)))`"
   ]
  },
  {
   "cell_type": "markdown",
   "metadata": {},
   "source": [
    "#### 3.3.5. Інтелектуальні методи заміни"
   ]
  },
  {
   "cell_type": "markdown",
   "metadata": {},
   "source": [
    "Теоретично інтелектуальні методи заміни пропусків є найкращими, адже враховують математичні залежності у даних."
   ]
  },
  {
   "cell_type": "code",
   "execution_count": 96,
   "metadata": {},
   "outputs": [
    {
     "data": {
      "text/html": [
       "<table class=\"dataframe\">\n",
       "<caption>A data.frame: 13 × 8</caption>\n",
       "<thead>\n",
       "\t<tr><th scope=col>person_age</th><th scope=col>person_height</th><th scope=col>person_weight</th><th scope=col>person_gender</th><th scope=col>person_age_imp</th><th scope=col>person_height_imp</th><th scope=col>person_weight_imp</th><th scope=col>person_gender_imp</th></tr>\n",
       "\t<tr><th scope=col>&lt;int&gt;</th><th scope=col>&lt;int&gt;</th><th scope=col>&lt;dbl&gt;</th><th scope=col>&lt;chr&gt;</th><th scope=col>&lt;lgl&gt;</th><th scope=col>&lt;lgl&gt;</th><th scope=col>&lt;lgl&gt;</th><th scope=col>&lt;lgl&gt;</th></tr>\n",
       "</thead>\n",
       "<tbody>\n",
       "\t<tr><td>23</td><td>185</td><td>59.0</td><td>male  </td><td>FALSE</td><td>FALSE</td><td> TRUE</td><td>FALSE</td></tr>\n",
       "\t<tr><td>41</td><td>175</td><td>68.3</td><td>male  </td><td>FALSE</td><td>FALSE</td><td>FALSE</td><td>FALSE</td></tr>\n",
       "\t<tr><td>11</td><td>142</td><td>55.4</td><td>female</td><td>FALSE</td><td>FALSE</td><td>FALSE</td><td>FALSE</td></tr>\n",
       "\t<tr><td>12</td><td>168</td><td>48.2</td><td>male  </td><td>FALSE</td><td> TRUE</td><td>FALSE</td><td>FALSE</td></tr>\n",
       "\t<tr><td>54</td><td>191</td><td>68.3</td><td>female</td><td>FALSE</td><td>FALSE</td><td> TRUE</td><td>FALSE</td></tr>\n",
       "\t<tr><td>32</td><td>168</td><td>78.0</td><td>female</td><td>FALSE</td><td>FALSE</td><td>FALSE</td><td>FALSE</td></tr>\n",
       "\t<tr><td>22</td><td>168</td><td>54.0</td><td>male  </td><td>FALSE</td><td> TRUE</td><td>FALSE</td><td>FALSE</td></tr>\n",
       "\t<tr><td>21</td><td>165</td><td>59.0</td><td>male  </td><td>FALSE</td><td>FALSE</td><td> TRUE</td><td>FALSE</td></tr>\n",
       "\t<tr><td>14</td><td>168</td><td>90.2</td><td>male  </td><td>FALSE</td><td> TRUE</td><td>FALSE</td><td>FALSE</td></tr>\n",
       "\t<tr><td>51</td><td>250</td><td>68.3</td><td>female</td><td>FALSE</td><td>FALSE</td><td> TRUE</td><td>FALSE</td></tr>\n",
       "\t<tr><td>41</td><td> 20</td><td>81.0</td><td>female</td><td>FALSE</td><td>FALSE</td><td>FALSE</td><td>FALSE</td></tr>\n",
       "\t<tr><td>66</td><td>168</td><td>59.0</td><td>male  </td><td>FALSE</td><td> TRUE</td><td>FALSE</td><td>FALSE</td></tr>\n",
       "\t<tr><td>71</td><td>171</td><td>59.0</td><td>male  </td><td>FALSE</td><td>FALSE</td><td> TRUE</td><td>FALSE</td></tr>\n",
       "</tbody>\n",
       "</table>\n"
      ],
      "text/latex": [
       "A data.frame: 13 × 8\n",
       "\\begin{tabular}{llllllll}\n",
       " person\\_age & person\\_height & person\\_weight & person\\_gender & person\\_age\\_imp & person\\_height\\_imp & person\\_weight\\_imp & person\\_gender\\_imp\\\\\n",
       " <int> & <int> & <dbl> & <chr> & <lgl> & <lgl> & <lgl> & <lgl>\\\\\n",
       "\\hline\n",
       "\t 23 & 185 & 59.0 & male   & FALSE & FALSE &  TRUE & FALSE\\\\\n",
       "\t 41 & 175 & 68.3 & male   & FALSE & FALSE & FALSE & FALSE\\\\\n",
       "\t 11 & 142 & 55.4 & female & FALSE & FALSE & FALSE & FALSE\\\\\n",
       "\t 12 & 168 & 48.2 & male   & FALSE &  TRUE & FALSE & FALSE\\\\\n",
       "\t 54 & 191 & 68.3 & female & FALSE & FALSE &  TRUE & FALSE\\\\\n",
       "\t 32 & 168 & 78.0 & female & FALSE & FALSE & FALSE & FALSE\\\\\n",
       "\t 22 & 168 & 54.0 & male   & FALSE &  TRUE & FALSE & FALSE\\\\\n",
       "\t 21 & 165 & 59.0 & male   & FALSE & FALSE &  TRUE & FALSE\\\\\n",
       "\t 14 & 168 & 90.2 & male   & FALSE &  TRUE & FALSE & FALSE\\\\\n",
       "\t 51 & 250 & 68.3 & female & FALSE & FALSE &  TRUE & FALSE\\\\\n",
       "\t 41 &  20 & 81.0 & female & FALSE & FALSE & FALSE & FALSE\\\\\n",
       "\t 66 & 168 & 59.0 & male   & FALSE &  TRUE & FALSE & FALSE\\\\\n",
       "\t 71 & 171 & 59.0 & male   & FALSE & FALSE &  TRUE & FALSE\\\\\n",
       "\\end{tabular}\n"
      ],
      "text/markdown": [
       "\n",
       "A data.frame: 13 × 8\n",
       "\n",
       "| person_age &lt;int&gt; | person_height &lt;int&gt; | person_weight &lt;dbl&gt; | person_gender &lt;chr&gt; | person_age_imp &lt;lgl&gt; | person_height_imp &lt;lgl&gt; | person_weight_imp &lt;lgl&gt; | person_gender_imp &lt;lgl&gt; |\n",
       "|---|---|---|---|---|---|---|---|\n",
       "| 23 | 185 | 59.0 | male   | FALSE | FALSE |  TRUE | FALSE |\n",
       "| 41 | 175 | 68.3 | male   | FALSE | FALSE | FALSE | FALSE |\n",
       "| 11 | 142 | 55.4 | female | FALSE | FALSE | FALSE | FALSE |\n",
       "| 12 | 168 | 48.2 | male   | FALSE |  TRUE | FALSE | FALSE |\n",
       "| 54 | 191 | 68.3 | female | FALSE | FALSE |  TRUE | FALSE |\n",
       "| 32 | 168 | 78.0 | female | FALSE | FALSE | FALSE | FALSE |\n",
       "| 22 | 168 | 54.0 | male   | FALSE |  TRUE | FALSE | FALSE |\n",
       "| 21 | 165 | 59.0 | male   | FALSE | FALSE |  TRUE | FALSE |\n",
       "| 14 | 168 | 90.2 | male   | FALSE |  TRUE | FALSE | FALSE |\n",
       "| 51 | 250 | 68.3 | female | FALSE | FALSE |  TRUE | FALSE |\n",
       "| 41 |  20 | 81.0 | female | FALSE | FALSE | FALSE | FALSE |\n",
       "| 66 | 168 | 59.0 | male   | FALSE |  TRUE | FALSE | FALSE |\n",
       "| 71 | 171 | 59.0 | male   | FALSE | FALSE |  TRUE | FALSE |\n",
       "\n"
      ],
      "text/plain": [
       "   person_age person_height person_weight person_gender person_age_imp\n",
       "1  23         185           59.0          male          FALSE         \n",
       "2  41         175           68.3          male          FALSE         \n",
       "3  11         142           55.4          female        FALSE         \n",
       "4  12         168           48.2          male          FALSE         \n",
       "5  54         191           68.3          female        FALSE         \n",
       "6  32         168           78.0          female        FALSE         \n",
       "7  22         168           54.0          male          FALSE         \n",
       "8  21         165           59.0          male          FALSE         \n",
       "9  14         168           90.2          male          FALSE         \n",
       "10 51         250           68.3          female        FALSE         \n",
       "11 41          20           81.0          female        FALSE         \n",
       "12 66         168           59.0          male          FALSE         \n",
       "13 71         171           59.0          male          FALSE         \n",
       "   person_height_imp person_weight_imp person_gender_imp\n",
       "1  FALSE              TRUE             FALSE            \n",
       "2  FALSE             FALSE             FALSE            \n",
       "3  FALSE             FALSE             FALSE            \n",
       "4   TRUE             FALSE             FALSE            \n",
       "5  FALSE              TRUE             FALSE            \n",
       "6  FALSE             FALSE             FALSE            \n",
       "7   TRUE             FALSE             FALSE            \n",
       "8  FALSE              TRUE             FALSE            \n",
       "9   TRUE             FALSE             FALSE            \n",
       "10 FALSE              TRUE             FALSE            \n",
       "11 FALSE             FALSE             FALSE            \n",
       "12  TRUE             FALSE             FALSE            \n",
       "13 FALSE              TRUE             FALSE            "
      ]
     },
     "metadata": {},
     "output_type": "display_data"
    },
    {
     "data": {
      "text/html": [
       "<table class=\"dataframe\">\n",
       "<caption>A data.frame: 13 × 4</caption>\n",
       "<thead>\n",
       "\t<tr><th scope=col>person_age</th><th scope=col>person_height</th><th scope=col>person_weight</th><th scope=col>person_gender</th></tr>\n",
       "\t<tr><th scope=col>&lt;int&gt;</th><th scope=col>&lt;int&gt;</th><th scope=col>&lt;dbl&gt;</th><th scope=col>&lt;chr&gt;</th></tr>\n",
       "</thead>\n",
       "<tbody>\n",
       "\t<tr><td>23</td><td>185</td><td>  NA</td><td>male  </td></tr>\n",
       "\t<tr><td>41</td><td>175</td><td>68.3</td><td>male  </td></tr>\n",
       "\t<tr><td>11</td><td>142</td><td>55.4</td><td>female</td></tr>\n",
       "\t<tr><td>12</td><td> NA</td><td>48.2</td><td>male  </td></tr>\n",
       "\t<tr><td>54</td><td>191</td><td>  NA</td><td>female</td></tr>\n",
       "\t<tr><td>32</td><td>168</td><td>78.0</td><td>female</td></tr>\n",
       "\t<tr><td>22</td><td> NA</td><td>54.0</td><td>male  </td></tr>\n",
       "\t<tr><td>21</td><td>165</td><td>  NA</td><td>male  </td></tr>\n",
       "\t<tr><td>14</td><td> NA</td><td>90.2</td><td>male  </td></tr>\n",
       "\t<tr><td>51</td><td>250</td><td>  NA</td><td>female</td></tr>\n",
       "\t<tr><td>41</td><td> 20</td><td>81.0</td><td>female</td></tr>\n",
       "\t<tr><td>66</td><td> NA</td><td>59.0</td><td>male  </td></tr>\n",
       "\t<tr><td>71</td><td>171</td><td>  NA</td><td>male  </td></tr>\n",
       "</tbody>\n",
       "</table>\n"
      ],
      "text/latex": [
       "A data.frame: 13 × 4\n",
       "\\begin{tabular}{llll}\n",
       " person\\_age & person\\_height & person\\_weight & person\\_gender\\\\\n",
       " <int> & <int> & <dbl> & <chr>\\\\\n",
       "\\hline\n",
       "\t 23 & 185 &   NA & male  \\\\\n",
       "\t 41 & 175 & 68.3 & male  \\\\\n",
       "\t 11 & 142 & 55.4 & female\\\\\n",
       "\t 12 &  NA & 48.2 & male  \\\\\n",
       "\t 54 & 191 &   NA & female\\\\\n",
       "\t 32 & 168 & 78.0 & female\\\\\n",
       "\t 22 &  NA & 54.0 & male  \\\\\n",
       "\t 21 & 165 &   NA & male  \\\\\n",
       "\t 14 &  NA & 90.2 & male  \\\\\n",
       "\t 51 & 250 &   NA & female\\\\\n",
       "\t 41 &  20 & 81.0 & female\\\\\n",
       "\t 66 &  NA & 59.0 & male  \\\\\n",
       "\t 71 & 171 &   NA & male  \\\\\n",
       "\\end{tabular}\n"
      ],
      "text/markdown": [
       "\n",
       "A data.frame: 13 × 4\n",
       "\n",
       "| person_age &lt;int&gt; | person_height &lt;int&gt; | person_weight &lt;dbl&gt; | person_gender &lt;chr&gt; |\n",
       "|---|---|---|---|\n",
       "| 23 | 185 |   NA | male   |\n",
       "| 41 | 175 | 68.3 | male   |\n",
       "| 11 | 142 | 55.4 | female |\n",
       "| 12 |  NA | 48.2 | male   |\n",
       "| 54 | 191 |   NA | female |\n",
       "| 32 | 168 | 78.0 | female |\n",
       "| 22 |  NA | 54.0 | male   |\n",
       "| 21 | 165 |   NA | male   |\n",
       "| 14 |  NA | 90.2 | male   |\n",
       "| 51 | 250 |   NA | female |\n",
       "| 41 |  20 | 81.0 | female |\n",
       "| 66 |  NA | 59.0 | male   |\n",
       "| 71 | 171 |   NA | male   |\n",
       "\n"
      ],
      "text/plain": [
       "   person_age person_height person_weight person_gender\n",
       "1  23         185             NA          male         \n",
       "2  41         175           68.3          male         \n",
       "3  11         142           55.4          female       \n",
       "4  12          NA           48.2          male         \n",
       "5  54         191             NA          female       \n",
       "6  32         168           78.0          female       \n",
       "7  22          NA           54.0          male         \n",
       "8  21         165             NA          male         \n",
       "9  14          NA           90.2          male         \n",
       "10 51         250             NA          female       \n",
       "11 41          20           81.0          female       \n",
       "12 66          NA           59.0          male         \n",
       "13 71         171             NA          male         "
      ]
     },
     "metadata": {},
     "output_type": "display_data"
    }
   ],
   "source": [
    "library(VIM)\n",
    "data_knn <- kNN(data)\n",
    "data_knn\n",
    "data"
   ]
  },
  {
   "cell_type": "markdown",
   "metadata": {},
   "source": [
    "Ще одним схожим методом заміни пропусків може бути здійснення прогнозів на основі регресії чи складніших математичних методів пропусків."
   ]
  },
  {
   "cell_type": "markdown",
   "metadata": {},
   "source": [
    "---"
   ]
  },
  {
   "cell_type": "markdown",
   "metadata": {},
   "source": [
    "## 4. Аналіз та обробка статистичних викидів у даних"
   ]
  },
  {
   "cell_type": "markdown",
   "metadata": {},
   "source": [
    "**Виявлення аномалій** — це сукупність методів, призначених для виявлення незвичайних точок даних, які мають вирішальне значення для виявлення шахрайства та захисту комп’ютерних мереж від зловмисної діяльності."
   ]
  },
  {
   "cell_type": "markdown",
   "metadata": {},
   "source": [
    "**Аномалія** - точка даних або набір точок даних, які не мають таку саму структуру та поведінку, що й інші дані."
   ]
  },
  {
   "cell_type": "markdown",
   "metadata": {},
   "source": [
    "Аномалії у даних можуть мати різну природу та по різному себе проявляти:\n",
    "\n",
    "- [x] Точкова аномалія\n",
    "    * Єдина точка даних\n",
    "    * Незвично в порівнянні з іншими даними\n",
    "    \n",
    "Приклад: одна добова висока температура 41°С серед ряду звичайних весняних днів"
   ]
  },
  {
   "cell_type": "code",
   "execution_count": 97,
   "metadata": {},
   "outputs": [
    {
     "data": {
      "image/png": "[encoded data removed]",
      "text/plain": [
       "plot without title"
      ]
     },
     "metadata": {
      "image/png": {
       "height": 420,
       "width": 420
      }
     },
     "output_type": "display_data"
    }
   ],
   "source": [
    "temp <- c(15, 17, 19, 12, 30, 41, 17, 20)\n",
    "boxplot(temp, ylab = \"Celcium\")"
   ]
  },
  {
   "cell_type": "markdown",
   "metadata": {},
   "source": [
    "- [x] Колективна аномалія\n",
    "    * Аномальна колекція екземплярів даних\n",
    "    * Незвично, якщо розглядати разом"
   ]
  },
  {
   "cell_type": "markdown",
   "metadata": {},
   "source": [
    "Опишемо набір даних, до використовуватиметься надалі для прикладів.\n",
    "\n",
    "`river_eco` - це data.frame, що містить такі три стовпці:\n",
    "- [x] `index` - цілі числа, що описують порядок спостережень нітратів;\n",
    "- [x] `nitrate` - місячні концентрації розчинених нітратів у річці;\n",
    "- [x] `month` - змінна, що містить місяць для кожного спостереження нітратів\n",
    "\n",
    "Нам потрібно дослідити стовпець `nitrate`, щоб оцінити наявність точкових аномалій у даних."
   ]
  },
  {
   "cell_type": "code",
   "execution_count": 98,
   "metadata": {},
   "outputs": [
    {
     "data": {
      "text/html": [
       "<table class=\"dataframe\">\n",
       "<caption>A data.frame: 6 × 3</caption>\n",
       "<thead>\n",
       "\t<tr><th></th><th scope=col>index</th><th scope=col>nitrate</th><th scope=col>months</th></tr>\n",
       "\t<tr><th></th><th scope=col>&lt;int&gt;</th><th scope=col>&lt;dbl&gt;</th><th scope=col>&lt;chr&gt;</th></tr>\n",
       "</thead>\n",
       "<tbody>\n",
       "\t<tr><th scope=row>1</th><td>1</td><td>1.581</td><td>January </td></tr>\n",
       "\t<tr><th scope=row>2</th><td>2</td><td>1.323</td><td>February</td></tr>\n",
       "\t<tr><th scope=row>3</th><td>3</td><td>1.140</td><td>March   </td></tr>\n",
       "\t<tr><th scope=row>4</th><td>4</td><td>1.245</td><td>April   </td></tr>\n",
       "\t<tr><th scope=row>5</th><td>5</td><td>1.072</td><td>May     </td></tr>\n",
       "\t<tr><th scope=row>6</th><td>6</td><td>1.483</td><td>June    </td></tr>\n",
       "</tbody>\n",
       "</table>\n"
      ],
      "text/latex": [
       "A data.frame: 6 × 3\n",
       "\\begin{tabular}{r|lll}\n",
       "  & index & nitrate & months\\\\\n",
       "  & <int> & <dbl> & <chr>\\\\\n",
       "\\hline\n",
       "\t1 & 1 & 1.581 & January \\\\\n",
       "\t2 & 2 & 1.323 & February\\\\\n",
       "\t3 & 3 & 1.140 & March   \\\\\n",
       "\t4 & 4 & 1.245 & April   \\\\\n",
       "\t5 & 5 & 1.072 & May     \\\\\n",
       "\t6 & 6 & 1.483 & June    \\\\\n",
       "\\end{tabular}\n"
      ],
      "text/markdown": [
       "\n",
       "A data.frame: 6 × 3\n",
       "\n",
       "| <!--/--> | index &lt;int&gt; | nitrate &lt;dbl&gt; | months &lt;chr&gt; |\n",
       "|---|---|---|---|\n",
       "| 1 | 1 | 1.581 | January  |\n",
       "| 2 | 2 | 1.323 | February |\n",
       "| 3 | 3 | 1.140 | March    |\n",
       "| 4 | 4 | 1.245 | April    |\n",
       "| 5 | 5 | 1.072 | May      |\n",
       "| 6 | 6 | 1.483 | June     |\n",
       "\n"
      ],
      "text/plain": [
       "  index nitrate months  \n",
       "1 1     1.581   January \n",
       "2 2     1.323   February\n",
       "3 3     1.140   March   \n",
       "4 4     1.245   April   \n",
       "5 5     1.072   May     \n",
       "6 6     1.483   June    "
      ]
     },
     "metadata": {},
     "output_type": "display_data"
    }
   ],
   "source": [
    "river_data <- read.csv(\"../../data/river_eco.csv\")\n",
    "head(river_data)"
   ]
  },
  {
   "cell_type": "markdown",
   "metadata": {},
   "source": [
    "Переглянемо описову статистику показника нітрати:"
   ]
  },
  {
   "cell_type": "code",
   "execution_count": 99,
   "metadata": {},
   "outputs": [
    {
     "data": {
      "text/plain": [
       "   Min. 1st Qu.  Median    Mean 3rd Qu.    Max. \n",
       " 0.5920  0.9485  1.0680  1.0649  1.1700  1.8970 "
      ]
     },
     "metadata": {},
     "output_type": "display_data"
    }
   ],
   "source": [
    "summary(river_data$nitrate)"
   ]
  },
  {
   "cell_type": "markdown",
   "metadata": {},
   "source": [
    "Як видно, медіана та середнє відрізняються не дуже.\n",
    "\n",
    "Далі перевіримо наявність викидів у даних за допомогою `boxplot`:"
   ]
  },
  {
   "cell_type": "code",
   "execution_count": 100,
   "metadata": {},
   "outputs": [
    {
     "data": {
      "image/png": "[encoded data removed]",
      "text/plain": [
       "plot without title"
      ]
     },
     "metadata": {
      "image/png": {
       "height": 420,
       "width": 420
      }
     },
     "output_type": "display_data"
    }
   ],
   "source": [
    "boxplot(river_data$nitrate)\n",
    "# Додамо лінії 1 та 3 квантилів\n",
    "abline(h=quantile(river_data$nitrate,0.25),col=\"red\",lty=2)\n",
    "abline(h=quantile(river_data$nitrate,0.75),col=\"red\",lty=2)"
   ]
  },
  {
   "cell_type": "markdown",
   "metadata": {},
   "source": [
    "Також виведемо номери рядків спостереженнь, що є викидами:"
   ]
  },
  {
   "cell_type": "code",
   "execution_count": 101,
   "metadata": {},
   "outputs": [
    {
     "data": {
      "text/html": [
       "<style>\n",
       ".list-inline {list-style: none; margin:0; padding: 0}\n",
       ".list-inline>li {display: inline-block}\n",
       ".list-inline>li:not(:last-child)::after {content: \"\\00b7\"; padding: 0 .5ex}\n",
       "</style>\n",
       "<ol class=list-inline><li>1.581</li><li>1.643</li><li>1.533</li><li>1.517</li><li>1.897</li><li>0.592</li></ol>\n"
      ],
      "text/latex": [
       "\\begin{enumerate*}\n",
       "\\item 1.581\n",
       "\\item 1.643\n",
       "\\item 1.533\n",
       "\\item 1.517\n",
       "\\item 1.897\n",
       "\\item 0.592\n",
       "\\end{enumerate*}\n"
      ],
      "text/markdown": [
       "1. 1.581\n",
       "2. 1.643\n",
       "3. 1.533\n",
       "4. 1.517\n",
       "5. 1.897\n",
       "6. 0.592\n",
       "\n",
       "\n"
      ],
      "text/plain": [
       "[1] 1.581 1.643 1.533 1.517 1.897 0.592"
      ]
     },
     "metadata": {},
     "output_type": "display_data"
    }
   ],
   "source": [
    "boxplot.stats(river_data$nitrate)$out"
   ]
  },
  {
   "cell_type": "code",
   "execution_count": 102,
   "metadata": {},
   "outputs": [
    {
     "data": {
      "image/png": "[encoded data removed]",
      "text/plain": [
       "Plot with title \"Histogram of river_data$nitrate\""
      ]
     },
     "metadata": {
      "image/png": {
       "height": 420,
       "width": 420
      }
     },
     "output_type": "display_data"
    }
   ],
   "source": [
    "hist(river_data$nitrate, xlab = \"Nitrate concentration\", breaks = 40)"
   ]
  },
  {
   "cell_type": "code",
   "execution_count": 103,
   "metadata": {},
   "outputs": [
    {
     "data": {
      "image/png": "[encoded data removed]",
      "text/plain": [
       "plot without title"
      ]
     },
     "metadata": {
      "image/png": {
       "height": 420,
       "width": 420
      }
     },
     "output_type": "display_data"
    }
   ],
   "source": [
    "plot(nitrate ~ index, data = river_data, type = \"o\")"
   ]
  },
  {
   "cell_type": "code",
   "execution_count": 104,
   "metadata": {},
   "outputs": [
    {
     "data": {
      "text/html": [
       "<table class=\"dataframe\">\n",
       "<caption>A tibble: 12 × 2</caption>\n",
       "<thead>\n",
       "\t<tr><th scope=col>months</th><th scope=col>mean</th></tr>\n",
       "\t<tr><th scope=col>&lt;chr&gt;</th><th scope=col>&lt;dbl&gt;</th></tr>\n",
       "</thead>\n",
       "<tbody>\n",
       "\t<tr><td>April    </td><td>1.0166250</td></tr>\n",
       "\t<tr><td>August   </td><td>0.9380833</td></tr>\n",
       "\t<tr><td>December </td><td>1.2264167</td></tr>\n",
       "\t<tr><td>February </td><td>1.1838400</td></tr>\n",
       "\t<tr><td>January  </td><td>1.2163600</td></tr>\n",
       "\t<tr><td>July     </td><td>0.9810417</td></tr>\n",
       "\t<tr><td>June     </td><td>0.9792083</td></tr>\n",
       "\t<tr><td>March    </td><td>1.1050400</td></tr>\n",
       "\t<tr><td>May      </td><td>0.9978333</td></tr>\n",
       "\t<tr><td>November </td><td>1.0962500</td></tr>\n",
       "\t<tr><td>October  </td><td>1.0360000</td></tr>\n",
       "\t<tr><td>September</td><td>0.9885833</td></tr>\n",
       "</tbody>\n",
       "</table>\n"
      ],
      "text/latex": [
       "A tibble: 12 × 2\n",
       "\\begin{tabular}{ll}\n",
       " months & mean\\\\\n",
       " <chr> & <dbl>\\\\\n",
       "\\hline\n",
       "\t April     & 1.0166250\\\\\n",
       "\t August    & 0.9380833\\\\\n",
       "\t December  & 1.2264167\\\\\n",
       "\t February  & 1.1838400\\\\\n",
       "\t January   & 1.2163600\\\\\n",
       "\t July      & 0.9810417\\\\\n",
       "\t June      & 0.9792083\\\\\n",
       "\t March     & 1.1050400\\\\\n",
       "\t May       & 0.9978333\\\\\n",
       "\t November  & 1.0962500\\\\\n",
       "\t October   & 1.0360000\\\\\n",
       "\t September & 0.9885833\\\\\n",
       "\\end{tabular}\n"
      ],
      "text/markdown": [
       "\n",
       "A tibble: 12 × 2\n",
       "\n",
       "| months &lt;chr&gt; | mean &lt;dbl&gt; |\n",
       "|---|---|\n",
       "| April     | 1.0166250 |\n",
       "| August    | 0.9380833 |\n",
       "| December  | 1.2264167 |\n",
       "| February  | 1.1838400 |\n",
       "| January   | 1.2163600 |\n",
       "| July      | 0.9810417 |\n",
       "| June      | 0.9792083 |\n",
       "| March     | 1.1050400 |\n",
       "| May       | 0.9978333 |\n",
       "| November  | 1.0962500 |\n",
       "| October   | 1.0360000 |\n",
       "| September | 0.9885833 |\n",
       "\n"
      ],
      "text/plain": [
       "   months    mean     \n",
       "1  April     1.0166250\n",
       "2  August    0.9380833\n",
       "3  December  1.2264167\n",
       "4  February  1.1838400\n",
       "5  January   1.2163600\n",
       "6  July      0.9810417\n",
       "7  June      0.9792083\n",
       "8  March     1.1050400\n",
       "9  May       0.9978333\n",
       "10 November  1.0962500\n",
       "11 October   1.0360000\n",
       "12 September 0.9885833"
      ]
     },
     "metadata": {},
     "output_type": "display_data"
    }
   ],
   "source": [
    "# Середньомісячний вміст нітратів у річці\n",
    "river_grouped <- river_data |> group_by(months) |> summarise(mean = mean(nitrate))\n",
    "river_grouped "
   ]
  },
  {
   "cell_type": "code",
   "execution_count": 105,
   "metadata": {},
   "outputs": [
    {
     "data": {
      "image/png": "[encoded data removed]",
      "text/plain": [
       "plot without title"
      ]
     },
     "metadata": {
      "image/png": {
       "height": 420,
       "width": 420
      }
     },
     "output_type": "display_data"
    }
   ],
   "source": [
    "plot(river_grouped$mean, type = \"o\", xlab = \"Month\", ylab = \"Monthly mean\")"
   ]
  },
  {
   "cell_type": "code",
   "execution_count": 106,
   "metadata": {},
   "outputs": [
    {
     "data": {
      "image/png": "[encoded data removed]",
      "text/plain": [
       "plot without title"
      ]
     },
     "metadata": {
      "image/png": {
       "height": 420,
       "width": 420
      }
     },
     "output_type": "display_data"
    }
   ],
   "source": [
    "boxplot(nitrate ~ months, data = river_data)"
   ]
  },
  {
   "cell_type": "markdown",
   "metadata": {},
   "source": [
    "Між Q1 та Q2 зосереджено 50% усіх спостережень. Персентиль відображає кількість спостережень, що зосереджені з ним включно.\n",
    "Нижче розміщено більше інформації для ознайомлення з інформацією про квантилі.\n",
    "\n",
    "[Quantile. Wikipedia](https://en.wikipedia.org/wiki/Quantile)"
   ]
  },
  {
   "cell_type": "markdown",
   "metadata": {},
   "source": [
    "![](../../_static/da-data-cleaning/quantiles.png)\n",
    "\n",
    "Джерело: https://en.wikipedia.org/wiki/Interquartile_range"
   ]
  },
  {
   "cell_type": "markdown",
   "metadata": {},
   "source": [
    "![](../../_static/da-data-cleaning/quantiles2.png)\n",
    "\n",
    "Джерело: https://makemeanalyst.com/explore-your-data-range-interquartile-range-and-box-plot/"
   ]
  },
  {
   "cell_type": "markdown",
   "metadata": {},
   "source": [
    "Визначивши викиди у даних з ними можна здійснити кілька операцій:\n",
    "\n",
    "1. Заміна на деякі значення (impute)\n",
    "2. Заміна на границі квантилей"
   ]
  },
  {
   "cell_type": "code",
   "execution_count": 107,
   "metadata": {},
   "outputs": [
    {
     "data": {
      "text/html": [
       "<strong>2.5%:</strong> 0.75475"
      ],
      "text/latex": [
       "\\textbf{2.5\\textbackslash{}\\%:} 0.75475"
      ],
      "text/markdown": [
       "**2.5%:** 0.75475"
      ],
      "text/plain": [
       "   2.5% \n",
       "0.75475 "
      ]
     },
     "metadata": {},
     "output_type": "display_data"
    },
    {
     "data": {
      "text/html": [
       "<strong>97.5%:</strong> 1.4095"
      ],
      "text/latex": [
       "\\textbf{97.5\\textbackslash{}\\%:} 1.4095"
      ],
      "text/markdown": [
       "**97.5%:** 1.4095"
      ],
      "text/plain": [
       " 97.5% \n",
       "1.4095 "
      ]
     },
     "metadata": {},
     "output_type": "display_data"
    }
   ],
   "source": [
    "lower_bound <- quantile(river_data$nitrate, 0.025)\n",
    "lower_bound\n",
    "\n",
    "upper_bound <- quantile(river_data$nitrate, 0.975)\n",
    "upper_bound"
   ]
  },
  {
   "cell_type": "code",
   "execution_count": 108,
   "metadata": {},
   "outputs": [
    {
     "data": {
      "text/html": [
       "<style>\n",
       ".list-inline {list-style: none; margin:0; padding: 0}\n",
       ".list-inline>li {display: inline-block}\n",
       ".list-inline>li:not(:last-child)::after {content: \"\\00b7\"; padding: 0 .5ex}\n",
       "</style>\n",
       "<ol class=list-inline><li>1</li><li>6</li><li>36</li><li>53</li><li>104</li><li>119</li><li>121</li><li>156</li><li>159</li><li>167</li><li>199</li><li>200</li><li>269</li><li>270</li><li>281</li><li>282</li></ol>\n"
      ],
      "text/latex": [
       "\\begin{enumerate*}\n",
       "\\item 1\n",
       "\\item 6\n",
       "\\item 36\n",
       "\\item 53\n",
       "\\item 104\n",
       "\\item 119\n",
       "\\item 121\n",
       "\\item 156\n",
       "\\item 159\n",
       "\\item 167\n",
       "\\item 199\n",
       "\\item 200\n",
       "\\item 269\n",
       "\\item 270\n",
       "\\item 281\n",
       "\\item 282\n",
       "\\end{enumerate*}\n"
      ],
      "text/markdown": [
       "1. 1\n",
       "2. 6\n",
       "3. 36\n",
       "4. 53\n",
       "5. 104\n",
       "6. 119\n",
       "7. 121\n",
       "8. 156\n",
       "9. 159\n",
       "10. 167\n",
       "11. 199\n",
       "12. 200\n",
       "13. 269\n",
       "14. 270\n",
       "15. 281\n",
       "16. 282\n",
       "\n",
       "\n"
      ],
      "text/plain": [
       " [1]   1   6  36  53 104 119 121 156 159 167 199 200 269 270 281 282"
      ]
     },
     "metadata": {},
     "output_type": "display_data"
    }
   ],
   "source": [
    "outlier_index <- which(river_data$nitrate < lower_bound | river_data$nitrate > upper_bound)\n",
    "outlier_index"
   ]
  },
  {
   "cell_type": "code",
   "execution_count": 109,
   "metadata": {},
   "outputs": [
    {
     "data": {
      "text/html": [
       "<table class=\"dataframe\">\n",
       "<caption>A data.frame: 16 × 3</caption>\n",
       "<thead>\n",
       "\t<tr><th></th><th scope=col>index</th><th scope=col>nitrate</th><th scope=col>months</th></tr>\n",
       "\t<tr><th></th><th scope=col>&lt;int&gt;</th><th scope=col>&lt;dbl&gt;</th><th scope=col>&lt;chr&gt;</th></tr>\n",
       "</thead>\n",
       "<tbody>\n",
       "\t<tr><th scope=row>1</th><td>  1</td><td>1.581</td><td>January </td></tr>\n",
       "\t<tr><th scope=row>6</th><td>  6</td><td>1.483</td><td>June    </td></tr>\n",
       "\t<tr><th scope=row>36</th><td> 36</td><td>1.643</td><td>December</td></tr>\n",
       "\t<tr><th scope=row>53</th><td> 53</td><td>1.533</td><td>May     </td></tr>\n",
       "\t<tr><th scope=row>104</th><td>104</td><td>0.671</td><td>August  </td></tr>\n",
       "\t<tr><th scope=row>119</th><td>119</td><td>1.517</td><td>November</td></tr>\n",
       "\t<tr><th scope=row>121</th><td>121</td><td>1.414</td><td>January </td></tr>\n",
       "\t<tr><th scope=row>156</th><td>156</td><td>1.897</td><td>December</td></tr>\n",
       "\t<tr><th scope=row>159</th><td>159</td><td>1.414</td><td>March   </td></tr>\n",
       "\t<tr><th scope=row>167</th><td>167</td><td>0.671</td><td>November</td></tr>\n",
       "\t<tr><th scope=row>199</th><td>199</td><td>0.748</td><td>July    </td></tr>\n",
       "\t<tr><th scope=row>200</th><td>200</td><td>0.592</td><td>August  </td></tr>\n",
       "\t<tr><th scope=row>269</th><td>269</td><td>0.700</td><td>May     </td></tr>\n",
       "\t<tr><th scope=row>270</th><td>270</td><td>0.673</td><td>June    </td></tr>\n",
       "\t<tr><th scope=row>281</th><td>281</td><td>0.730</td><td>May     </td></tr>\n",
       "\t<tr><th scope=row>282</th><td>282</td><td>0.693</td><td>June    </td></tr>\n",
       "</tbody>\n",
       "</table>\n"
      ],
      "text/latex": [
       "A data.frame: 16 × 3\n",
       "\\begin{tabular}{r|lll}\n",
       "  & index & nitrate & months\\\\\n",
       "  & <int> & <dbl> & <chr>\\\\\n",
       "\\hline\n",
       "\t1 &   1 & 1.581 & January \\\\\n",
       "\t6 &   6 & 1.483 & June    \\\\\n",
       "\t36 &  36 & 1.643 & December\\\\\n",
       "\t53 &  53 & 1.533 & May     \\\\\n",
       "\t104 & 104 & 0.671 & August  \\\\\n",
       "\t119 & 119 & 1.517 & November\\\\\n",
       "\t121 & 121 & 1.414 & January \\\\\n",
       "\t156 & 156 & 1.897 & December\\\\\n",
       "\t159 & 159 & 1.414 & March   \\\\\n",
       "\t167 & 167 & 0.671 & November\\\\\n",
       "\t199 & 199 & 0.748 & July    \\\\\n",
       "\t200 & 200 & 0.592 & August  \\\\\n",
       "\t269 & 269 & 0.700 & May     \\\\\n",
       "\t270 & 270 & 0.673 & June    \\\\\n",
       "\t281 & 281 & 0.730 & May     \\\\\n",
       "\t282 & 282 & 0.693 & June    \\\\\n",
       "\\end{tabular}\n"
      ],
      "text/markdown": [
       "\n",
       "A data.frame: 16 × 3\n",
       "\n",
       "| <!--/--> | index &lt;int&gt; | nitrate &lt;dbl&gt; | months &lt;chr&gt; |\n",
       "|---|---|---|---|\n",
       "| 1 |   1 | 1.581 | January  |\n",
       "| 6 |   6 | 1.483 | June     |\n",
       "| 36 |  36 | 1.643 | December |\n",
       "| 53 |  53 | 1.533 | May      |\n",
       "| 104 | 104 | 0.671 | August   |\n",
       "| 119 | 119 | 1.517 | November |\n",
       "| 121 | 121 | 1.414 | January  |\n",
       "| 156 | 156 | 1.897 | December |\n",
       "| 159 | 159 | 1.414 | March    |\n",
       "| 167 | 167 | 0.671 | November |\n",
       "| 199 | 199 | 0.748 | July     |\n",
       "| 200 | 200 | 0.592 | August   |\n",
       "| 269 | 269 | 0.700 | May      |\n",
       "| 270 | 270 | 0.673 | June     |\n",
       "| 281 | 281 | 0.730 | May      |\n",
       "| 282 | 282 | 0.693 | June     |\n",
       "\n"
      ],
      "text/plain": [
       "    index nitrate months  \n",
       "1     1   1.581   January \n",
       "6     6   1.483   June    \n",
       "36   36   1.643   December\n",
       "53   53   1.533   May     \n",
       "104 104   0.671   August  \n",
       "119 119   1.517   November\n",
       "121 121   1.414   January \n",
       "156 156   1.897   December\n",
       "159 159   1.414   March   \n",
       "167 167   0.671   November\n",
       "199 199   0.748   July    \n",
       "200 200   0.592   August  \n",
       "269 269   0.700   May     \n",
       "270 270   0.673   June    \n",
       "281 281   0.730   May     \n",
       "282 282   0.693   June    "
      ]
     },
     "metadata": {},
     "output_type": "display_data"
    }
   ],
   "source": [
    "river_data[outlier_index, ]"
   ]
  },
  {
   "cell_type": "markdown",
   "metadata": {},
   "source": [
    "Таким чином, усі значення вище та нище деякого показника можемо замінити на потрібні нам значення, наприклад, середні за поточний місяць."
   ]
  },
  {
   "cell_type": "markdown",
   "metadata": {},
   "source": [
    "Здійснимо заміну значень у наборі даних на основі квантилей:"
   ]
  },
  {
   "cell_type": "code",
   "execution_count": 110,
   "metadata": {},
   "outputs": [
    {
     "data": {
      "text/html": [
       "<style>\n",
       ".dl-inline {width: auto; margin:0; padding: 0}\n",
       ".dl-inline>dt, .dl-inline>dd {float: none; width: auto; display: inline-block}\n",
       ".dl-inline>dt::after {content: \":\\0020\"; padding-right: .5ex}\n",
       ".dl-inline>dt:not(:first-of-type) {padding-left: .5ex}\n",
       "</style><dl class=dl-inline><dt>5%</dt><dd>0.805</dd><dt>95%</dt><dd>1.3325</dd></dl>\n"
      ],
      "text/latex": [
       "\\begin{description*}\n",
       "\\item[5\\textbackslash{}\\%] 0.805\n",
       "\\item[95\\textbackslash{}\\%] 1.3325\n",
       "\\end{description*}\n"
      ],
      "text/markdown": [
       "5%\n",
       ":   0.80595%\n",
       ":   1.3325\n",
       "\n"
      ],
      "text/plain": [
       "    5%    95% \n",
       "0.8050 1.3325 "
      ]
     },
     "metadata": {},
     "output_type": "display_data"
    }
   ],
   "source": [
    "river_data$nitrate_upd <- river_data$nitrate\n",
    "qnt <- quantile(river_data$nitrate_upd, probs=c(.05, .95), na.rm = T)\n",
    "H <- 1.5 * IQR(qnt[1], na.rm = T)\n",
    "river_data$nitrate_upd[river_data$nitrate_upd < (qnt[1] - H)] <- qnt[1]\n",
    "river_data$nitrate_upd[river_data$nitrate_upd > (qnt[2] + H)] <- qnt[2]\n",
    "\n",
    "qnt"
   ]
  },
  {
   "cell_type": "code",
   "execution_count": 111,
   "metadata": {},
   "outputs": [
    {
     "data": {
      "image/png": "[encoded data removed]",
      "text/plain": [
       "plot without title"
      ]
     },
     "metadata": {
      "image/png": {
       "height": 420,
       "width": 420
      }
     },
     "output_type": "display_data"
    }
   ],
   "source": [
    "boxplot(river_data$nitrate_upd)"
   ]
  },
  {
   "cell_type": "code",
   "execution_count": 112,
   "metadata": {},
   "outputs": [
    {
     "data": {
      "image/png": "[encoded data removed]",
      "text/plain": [
       "plot without title"
      ]
     },
     "metadata": {
      "image/png": {
       "height": 420,
       "width": 420
      }
     },
     "output_type": "display_data"
    }
   ],
   "source": [
    "boxplot(nitrate_upd ~ months, data = river_data)"
   ]
  },
  {
   "cell_type": "code",
   "execution_count": 113,
   "metadata": {},
   "outputs": [
    {
     "data": {
      "image/png": "[encoded data removed]",
      "text/plain": [
       "plot without title"
      ]
     },
     "metadata": {
      "image/png": {
       "height": 420,
       "width": 420
      }
     },
     "output_type": "display_data"
    }
   ],
   "source": [
    "plot(nitrate_upd ~ index, data = river_data, type = \"o\")"
   ]
  },
  {
   "cell_type": "markdown",
   "metadata": {},
   "source": [
    "---"
   ]
  },
  {
   "cell_type": "markdown",
   "metadata": {
    "cell_id": "470abd1375b74c2b89de37f62e6ce843",
    "deepnote_cell_height": 70,
    "deepnote_cell_type": "markdown",
    "tags": []
   },
   "source": [
    "## 5. Додаткові прийоми очистки даних <a class=\"anchor\" id=\"id5\"></a>"
   ]
  },
  {
   "cell_type": "markdown",
   "metadata": {
    "cell_id": "71d1897e5d994371a9335c0183908ac4",
    "deepnote_cell_height": 52.390625,
    "deepnote_cell_type": "markdown",
    "deepnote_to_be_reexecuted": false,
    "execution_millis": 62,
    "execution_start": 1650391978491,
    "source_hash": "dff7fae3",
    "tags": []
   },
   "source": [
    "### 5.1. Видалення дублікатів"
   ]
  },
  {
   "cell_type": "code",
   "execution_count": 114,
   "metadata": {
    "cell_id": "d490e9a9360c42ae987076ffe6c2a38c",
    "deepnote_cell_height": 66,
    "deepnote_cell_type": "code",
    "tags": [],
    "vscode": {
     "languageId": "r"
    }
   },
   "outputs": [
    {
     "data": {
      "text/html": [
       "<table class=\"dataframe\">\n",
       "<caption>A data.frame: 7 × 2</caption>\n",
       "<thead>\n",
       "\t<tr><th scope=col>X</th><th scope=col>Y</th></tr>\n",
       "\t<tr><th scope=col>&lt;dbl&gt;</th><th scope=col>&lt;chr&gt;</th></tr>\n",
       "</thead>\n",
       "<tbody>\n",
       "\t<tr><td>1</td><td>A</td></tr>\n",
       "\t<tr><td>1</td><td>B</td></tr>\n",
       "\t<tr><td>2</td><td>C</td></tr>\n",
       "\t<tr><td>1</td><td>A</td></tr>\n",
       "\t<tr><td>3</td><td>B</td></tr>\n",
       "\t<tr><td>2</td><td>C</td></tr>\n",
       "\t<tr><td>1</td><td>A</td></tr>\n",
       "</tbody>\n",
       "</table>\n"
      ],
      "text/latex": [
       "A data.frame: 7 × 2\n",
       "\\begin{tabular}{ll}\n",
       " X & Y\\\\\n",
       " <dbl> & <chr>\\\\\n",
       "\\hline\n",
       "\t 1 & A\\\\\n",
       "\t 1 & B\\\\\n",
       "\t 2 & C\\\\\n",
       "\t 1 & A\\\\\n",
       "\t 3 & B\\\\\n",
       "\t 2 & C\\\\\n",
       "\t 1 & A\\\\\n",
       "\\end{tabular}\n"
      ],
      "text/markdown": [
       "\n",
       "A data.frame: 7 × 2\n",
       "\n",
       "| X &lt;dbl&gt; | Y &lt;chr&gt; |\n",
       "|---|---|\n",
       "| 1 | A |\n",
       "| 1 | B |\n",
       "| 2 | C |\n",
       "| 1 | A |\n",
       "| 3 | B |\n",
       "| 2 | C |\n",
       "| 1 | A |\n",
       "\n"
      ],
      "text/plain": [
       "  X Y\n",
       "1 1 A\n",
       "2 1 B\n",
       "3 2 C\n",
       "4 1 A\n",
       "5 3 B\n",
       "6 2 C\n",
       "7 1 A"
      ]
     },
     "metadata": {},
     "output_type": "display_data"
    }
   ],
   "source": [
    "df <- data.frame(X = c(1,1,2,1,3,2,1), Y = c(\"A\", \"B\", \"C\", \"A\", \"B\", \"C\", \"A\"))\n",
    "df"
   ]
  },
  {
   "cell_type": "code",
   "execution_count": 115,
   "metadata": {
    "cell_id": "788b0f22678d41c19a949ffa6ce2751d",
    "deepnote_cell_height": 200.5625,
    "deepnote_cell_type": "code",
    "deepnote_to_be_reexecuted": false,
    "execution_millis": 80,
    "execution_start": 1650383560355,
    "source_hash": "45cbf634",
    "tags": [],
    "vscode": {
     "languageId": "r"
    }
   },
   "outputs": [
    {
     "data": {
      "text/html": [
       "<table class=\"dataframe\">\n",
       "<caption>A data.frame: 4 × 2</caption>\n",
       "<thead>\n",
       "\t<tr><th scope=col>X</th><th scope=col>Y</th></tr>\n",
       "\t<tr><th scope=col>&lt;dbl&gt;</th><th scope=col>&lt;chr&gt;</th></tr>\n",
       "</thead>\n",
       "<tbody>\n",
       "\t<tr><td>1</td><td>A</td></tr>\n",
       "\t<tr><td>1</td><td>B</td></tr>\n",
       "\t<tr><td>2</td><td>C</td></tr>\n",
       "\t<tr><td>3</td><td>B</td></tr>\n",
       "</tbody>\n",
       "</table>\n"
      ],
      "text/latex": [
       "A data.frame: 4 × 2\n",
       "\\begin{tabular}{ll}\n",
       " X & Y\\\\\n",
       " <dbl> & <chr>\\\\\n",
       "\\hline\n",
       "\t 1 & A\\\\\n",
       "\t 1 & B\\\\\n",
       "\t 2 & C\\\\\n",
       "\t 3 & B\\\\\n",
       "\\end{tabular}\n"
      ],
      "text/markdown": [
       "\n",
       "A data.frame: 4 × 2\n",
       "\n",
       "| X &lt;dbl&gt; | Y &lt;chr&gt; |\n",
       "|---|---|\n",
       "| 1 | A |\n",
       "| 1 | B |\n",
       "| 2 | C |\n",
       "| 3 | B |\n",
       "\n"
      ],
      "text/plain": [
       "  X Y\n",
       "1 1 A\n",
       "2 1 B\n",
       "3 2 C\n",
       "4 3 B"
      ]
     },
     "metadata": {},
     "output_type": "display_data"
    }
   ],
   "source": [
    "df |> distinct()"
   ]
  },
  {
   "cell_type": "markdown",
   "metadata": {
    "cell_id": "db1cdfce7d1343cc8e4b0d6fb16d2d87",
    "deepnote_cell_type": "text-cell-p",
    "is_collapsed": false,
    "tags": []
   },
   "source": [
    "---"
   ]
  },
  {
   "cell_type": "markdown",
   "metadata": {},
   "source": [
    "# Завдання для практики"
   ]
  },
  {
   "cell_type": "markdown",
   "metadata": {},
   "source": [
    "!!!"
   ]
  },
  {
   "cell_type": "markdown",
   "metadata": {},
   "source": [
    "---"
   ]
  },
  {
   "cell_type": "markdown",
   "metadata": {},
   "source": [
    "# Набори даних"
   ]
  },
  {
   "cell_type": "markdown",
   "metadata": {},
   "source": [
    "1. https://github.com/kleban/r-book-source/tree/main/datasets/untitled.csv\n",
    "2. https://github.com/kleban/r-book-source/tree/main/datasets/badtitled.csv\n",
    "3. https://github.com/kleban/r-book-source/tree/main/datasets/cleaned_titled.csv\n",
    "4. https://github.com/kleban/r-book-source/tree/main/datasets/cleaned_titled2.csv\n",
    "5. https://github.com/kleban/r-book-source/tree/main/datasets/river_eco.csv"
   ]
  },
  {
   "cell_type": "markdown",
   "metadata": {},
   "source": [
    "---"
   ]
  },
  {
   "cell_type": "markdown",
   "metadata": {
    "cell_id": "5972a3c0bc0b48d2a2b269a0b802d255",
    "deepnote_cell_type": "input-slider",
    "deepnote_slider_max_value": 10,
    "deepnote_slider_min_value": 0,
    "deepnote_slider_step": 1,
    "deepnote_variable_name": "input_1",
    "deepnote_variable_value": "8",
    "vscode": {
     "languageId": "r"
    }
   },
   "source": [
    "## Використані та додаткові джерела"
   ]
  },
  {
   "cell_type": "markdown",
   "metadata": {
    "cell_id": "d84d49babc6f4ecc8a3bb60f946c091e",
    "deepnote_cell_height": 94.78125,
    "deepnote_cell_type": "markdown",
    "tags": []
   },
   "source": [
    "1. [KPMG Virtual Internship](https://www.insidesherpa.com/virtual-internships/m7W4GMqeT3bh9Nb2c)\n",
    "2. [An introduction to data cleaning with R / Edwin de Jonge, Mark van der Loo, 2013](https://cran.r-project.org/doc/contrib/de_Jonge+van_der_Loo-Introduction_to_data_cleaning_with_R.pdf)\n",
    "3. [Anomaly Detection in RAnomaly Detection in R](datacamp.com/courses/anomaly-detection-in-rdatacamp.com/courses/anomaly-detection-in-r)\n",
    "4. [K-nearest Neighbor: The maths behind it, how it works and an example](https://medium.com/analytics-vidhya/k-nearest-neighbor-the-maths-behind-it-how-it-works-and-an-example-f1de1208546c)\n",
    "5. [Quantile. Wikipedia](https://en.wikipedia.org/wiki/Quantile)"
   ]
  }
 ],
 "metadata": {
  "deepnote": {},
  "deepnote_execution_queue": [],
  "deepnote_notebook_id": "98d3d2a2-2921-4f5d-a292-65d4b34cd357",
  "kernelspec": {
   "display_name": "R",
   "language": "R",
   "name": "ir"
  },
  "language_info": {
   "codemirror_mode": "r",
   "file_extension": ".r",
   "mimetype": "text/x-r-source",
   "name": "R",
   "pygments_lexer": "r",
   "version": "4.1.2"
  }
 },
 "nbformat": 4,
 "nbformat_minor": 4
}
